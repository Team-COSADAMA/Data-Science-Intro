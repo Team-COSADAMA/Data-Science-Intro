{
 "cells": [
  {
   "cell_type": "markdown",
   "metadata": {},
   "source": [
    "# COSADAMA Introduction to Data Science Study\n",
    "\n",
    "## Week 2: [프로젝트] 서울시 구별 CCTV 현황 분석"
   ]
  },
  {
   "cell_type": "markdown",
   "metadata": {},
   "source": [
    "- 작성자: 정 찬\n",
    "- 참고자료: 2020년 코사다마 데이터 분석 커리큘럼(박하람), 2021년 코사다마 데이터 분석 커리큘럼(조용주), 파이썬 머신러닝 완벽 가이드(권철민), 비주얼 프로그래밍 수업(김승태), 파이썬으로 데이터 주무르기(민형기)"
   ]
  },
  {
   "cell_type": "markdown",
   "metadata": {},
   "source": [
    "이번 주부터는 프로젝트를 통해 데이터 분석을 익힙니다. 실제 데이터를 통해 Pandas, Numpy, Matplotlib를 다룰 거예요. 그냥 보기만 하면 휘리릭 날아가 버리니 실제로 프로젝트를 맡았다는 생각으로 임해보시기 바랍니다😁 \n",
    "\n",
    "구체적으로 **서울시 구별 CCTV 현황 분석**을 해보려 합니다. 자잘한 기능에 집중하기 보다 큰 그림을 보면서 \"데이터 분석의 흐름이 이렇구나\"하며 접근해주세요. \n",
    "\n",
    "이번 **서울시 구별 CCTV 현황 분석**에서는 단순히 어디에 CCTV가 많이 설치됐는지부터 구별 인구 대비 비율 확인까지 진행합니다. 특히 인구 현황을 보면서 구별 인구 현황도 확인하고, 구별 CCTV 현황을 시각화하는 것까지 해볼 겁니다. 이번 프로젝트를 통해서 pandas와 Matplotlib의 기초를 다질 수 있을 거예요."
   ]
  },
  {
   "cell_type": "markdown",
   "metadata": {},
   "source": [
    "## 1. DataScience란?"
   ]
  },
  {
   "cell_type": "markdown",
   "metadata": {},
   "source": [
    "여러분이 python, DataScience, 나아가 코딩을 하는 이유는 무엇인가요? 저는 코딩의 본질이 **문제 해결 도구**라고 생각합니다. 코딩을 통해 어떤 가설을 검증할 수도, 서비스를 만들 수도, 몰려오는 트래픽을 해결할 수도 있겠죠. 하지만 코딩 그 자체만 배운다면 좋은 분석가, 엔지니어가 될 수 없다고 생각합니다. \n",
    "\n",
    "**1. 1. 데이터사이언스DataScience**\n",
    "\n",
    "일단 DataScience 커리큘럼을 배우고 있으니 **데이터Data**, **과학Science**, **데이터사이언스DataScience**가 무엇인지 간단하게 짚고 넘어가 봅시다. \n",
    "\n",
    "**1.1.1. 데이터Data**\n",
    "\n",
    "**데이터Data**는 *발견, 조사, 수집, 창작된 형태 그대로의 무언가*를 말합니다. 즉, 인간의 가치판단이 배제된 **사실Fact**에 가깝습니다. 하지만 이 데이터는 그 자체로는 큰 의미가 없습니다. 어부에게 사과 나무 몇 그루가 있다는 데이터(사실)는 별로 중요하지 않습니다. 반면 파이를 만드는 사람은 사과와 관련된 사실들을 재구성해 **정보information**를 만들고, 일반화하여 **지식knowledge**, 이를 활용하는 **지혜wisdom**로 나아갈 수 있습니다. 예컨대\n",
    "\n",
    "- **data**: 9월 1일(비), 9월 2일(맑음), 9월 3일(비) ...\n",
    "- **information**: 2017 ~ 2020년 9 ~ 11월 동안 비가 온 날은 10, 30, 11, 13일이고, 2018년 사과값은 다른 때보다 50% 높았다. 21년 9월에만 10일 동안 비가 내렸다.\n",
    "- **knowledge**: 2021년 9월에는 다른 시기보다 비가 많이 왔다.\n",
    "- **wisdom**: 사과 값이 오를 예정이므로 비축하거나 대체품을 찾아야한다.\n",
    "\n",
    "즉, 데이터는 그것 자체보다 **활용하는 사람의 의도나 생각에 따라 의미가 달라**질 수 있습니다.\n",
    "\n",
    "**1.1.2. 과학Science**\n",
    "\n",
    "그렇다면 **과학Science**은 어떨까요? **과학**은 **같은 조건 아래에서 같은 결과를 증명**하는 행위입니다. 물론 추상적인 이론이 아닌 현실 세계에 같은 상황은 없죠. 미래의 일을 완벽히 알 수도 없습니다. 그렇지만 분석을 통해 그 편린이라도 예측하려는 겁니다. \n",
    "\n",
    "\n",
    "**1.1.3. 데이터사이언스DataScience**\n",
    "\n",
    "정리하자면 **데이터사이언스는 무의미한 데이터를 예측하여 의미있게 만드는 작업**이라고 할 수 있겠네요. 보통 그 작업을 분석Analysis이라고 합니다.\n"
   ]
  },
  {
   "cell_type": "markdown",
   "metadata": {},
   "source": [
    "## 2. **분석을 시작하기 전에!: 문제 정의**\n",
    "\n",
    "**좋은 분석**을 하려면 어떻게 해야할까요? 제가 생각하는 과정은 다음과 같습니다.\n",
    "\n",
    "**2.1. 문제 정의**:\n",
    "\n",
    "    코딩을 통해 이루고자 하는 목표, 맞닥뜨린 문제 파악\n",
    "        e.g. 거주 지역은 건강 격차에 영향을 끼친다(끼칠 것 같다)\n",
    "\n",
    "**2.2. 데이터 수집**:\n",
    "\n",
    "    문제를 해결하기 위해 필요한 데이터, 학습이 필요한 자료 및 로드맵\n",
    "        e.g. 보건복지부, 건강보험심사평가원의 병원 수, 사망자 데이터, 통계청 인구 데이터 수집, 인과 관계를 나타내기 위해 분류, 회귀 분석이 필요하므로 머신러닝 중 sklearn 학습\n",
    "\n",
    "**2.3. 데이터 가공**:\n",
    "\n",
    "    문제를 해결할 수 있도록 데이터 다듬기\n",
    "        e.g. 시도, 시군구별 데이터로 정제\n",
    "\n",
    "**2.4. 의미화**:\n",
    "\n",
    "    문제 해결에 적합하도록 데이터를 결합, 분리하기. 각종 분석(탐색적 데이터분석EDA, 회귀, 분류, 기타 등등)\n",
    "        e.g. 도시-비도시, 수도권-비수도권 데이터 생성, 도시화지수 생성, 이후 분류, 회귀 분석에 활용\n",
    "\n",
    "**2.5. 대안 제시**\n",
    "\n",
    "    분석 결과를 바탕으로 대안 혹은 해결 방법 제시. 필요 없을 수도 있음.\n",
    "\n",
    "**2.6. 마감 맞추기**\n",
    "\n",
    "    모든 일에는 마감이 있습니다. 특히 분석은 마감을 지키지 못한다면 아무리 훌륭한 분석이라도 의미 없습니다.\n",
    "\n",
    "\n",
    "사실 1번 외에도 모든 과정에 **문제 정의**가 포함되어 있습니다. 어디에서 생성한 데이터를 활용할지, 수집한 병원 수, 사망자 데이터는 건강 격차를 잘 설명할 수 있는지, 시도별 혹은 시군구별로 정제할지, 도시-농촌을 나누는 기준을 어떻게 설정할지, 분류/회귀 분석에 적절한 데이터인지 등 모든 순간을 문제로 정의할 수 있습니다. \n",
    "\n",
    "그리고 **이 모든 문제를 얼마나 매끄럽게, 시간에 맞추어 해결하는지가 DataScience의 핵심**이라고 할 수 있습니다. 마감은 생명..!\n"
   ]
  },
  {
   "cell_type": "markdown",
   "metadata": {},
   "source": [
    "### Q. 서울시 구별 CCTV 분석의 문제 의식 떠올려 보기\n",
    "\n",
    "분석에 들어가기 전에 상상해봅시다. CCTV 분석에서 어떤 문제 정의를 할 수 있을까요? 일단 큰 주제는 어떤 요인이 CCTV 설치에 영향을 주었을까?가 될 것 같아요. 세부적으로 떠오르는 대로 이야기하자면\n",
    "\n",
    "- 공공기관은 세금으로 이루어지므로 세수(평균 소득, 총 소득)가 높을 수록 CCTV가 많이 설치 되었을 것이다.\n",
    "- CCTV는 범죄 예방 및 처리가 목적이므로 범죄율이 높았거나 높았을 수록 CCTV가 많이 설치 되었을 것이다.\n",
    "- 유동인구, 인구가 많고 인구 밀집도가 높은 곳일 수록 CCTV가 많이 설치 되었을 것이다.\n",
    "- 전문 경비 시설이 구비된 아파트보다 다른 주거시설(단독주택, 연립주택, 다세대주택)이 범죄에 취약할 수 있으므로 해당하는 지역이 밀집할수록 CCTV가 많이 설치 되었을 것이다.\n",
    "\n",
    "등등이 있겠죠. 자세한 내용은 무엇보다 구글링이나 논문을 찾아보고, 인사이트를 찾는 방법이 제일 빠르답니다. 누군가 먼저 연구를 했을 수 있으니까요!\n",
    "\n",
    "우리는 실제 데이터를 통해 검증해보도록 합시다."
   ]
  },
  {
   "cell_type": "markdown",
   "metadata": {},
   "source": [
    "## 3. 데이터 수집\n",
    "\n",
    "앗, 그런데 데이터를 어디서 구해야할까요? 여러 사이트가 있지만 오늘은 [서울 열린데이터 광장](https://data.seoul.go.kr/) 데이터를 사용할 예정입니다.\n",
    "\n",
    "- [서울시 자치구 연도별 CCTV 설치 현황](https://data.seoul.go.kr/dataList/OA-2734/F/1/datasetView.do)\n",
    "- [서울시 주민등록인구 통계](http://data.seoul.go.kr/dataList/419/S/2/datasetView.do): 12년 ~ 21년을 '조회'하고 xls 형식으로 다운로드\n",
    "\n",
    "혹시 다른 지역으로 해보시려면 웬만한 공공데이터가 모여 있는 [공공데이터포털](https://www.data.go.kr/)에서 찾으시면 됩니다."
   ]
  },
  {
   "cell_type": "markdown",
   "metadata": {},
   "source": [
    "## 4. 데이터 가공\n",
    "\n",
    "### 4.1. 파일 읽어오기\n",
    "\n",
    "하나는 csv(콤마로 구분된 텍스트 파일)이고, 다른 하나는 엑셀(.xlsx or .xls)입니다. 파이썬으로 이 둘을 모두 읽어볼 수 있는 방법을 익혀볼게요. pandas는 read_csv, read_excel 같은 단순한 코드 하나만으로 다양한 파일을 읽을 수 있습니다!"
   ]
  },
  {
   "cell_type": "code",
   "execution_count": 1,
   "metadata": {},
   "outputs": [],
   "source": [
    "import pandas as pd    \n",
    "import numpy as np"
   ]
  },
  {
   "cell_type": "code",
   "execution_count": 2,
   "metadata": {},
   "outputs": [
    {
     "data": {
      "text/html": [
       "<div>\n",
       "<style scoped>\n",
       "    .dataframe tbody tr th:only-of-type {\n",
       "        vertical-align: middle;\n",
       "    }\n",
       "\n",
       "    .dataframe tbody tr th {\n",
       "        vertical-align: top;\n",
       "    }\n",
       "\n",
       "    .dataframe thead th {\n",
       "        text-align: right;\n",
       "    }\n",
       "</style>\n",
       "<table border=\"1\" class=\"dataframe\">\n",
       "  <thead>\n",
       "    <tr style=\"text-align: right;\">\n",
       "      <th></th>\n",
       "      <th>※ 2021.7.31. 현황을 기준으로 각 연도별 설치된 CCTV 수량. 교체(저화질교체, 성능개선)는 최초설치연도가 아닌 교체년도 수량에 포함</th>\n",
       "      <th>Unnamed: 1</th>\n",
       "      <th>Unnamed: 2</th>\n",
       "      <th>Unnamed: 3</th>\n",
       "      <th>Unnamed: 4</th>\n",
       "      <th>Unnamed: 5</th>\n",
       "      <th>Unnamed: 6</th>\n",
       "      <th>Unnamed: 7</th>\n",
       "      <th>Unnamed: 8</th>\n",
       "      <th>Unnamed: 9</th>\n",
       "      <th>Unnamed: 10</th>\n",
       "      <th>Unnamed: 11</th>\n",
       "      <th>Unnamed: 12</th>\n",
       "    </tr>\n",
       "  </thead>\n",
       "  <tbody>\n",
       "    <tr>\n",
       "      <th>0</th>\n",
       "      <td>구분</td>\n",
       "      <td>총계</td>\n",
       "      <td>2012년 이전</td>\n",
       "      <td>2012년</td>\n",
       "      <td>2013년</td>\n",
       "      <td>2014년</td>\n",
       "      <td>2015년</td>\n",
       "      <td>2016년</td>\n",
       "      <td>2017년</td>\n",
       "      <td>2018년</td>\n",
       "      <td>2019년</td>\n",
       "      <td>2020년</td>\n",
       "      <td>2021년</td>\n",
       "    </tr>\n",
       "    <tr>\n",
       "      <th>1</th>\n",
       "      <td>계</td>\n",
       "      <td>77,032</td>\n",
       "      <td>7,667</td>\n",
       "      <td>2,200</td>\n",
       "      <td>3,491</td>\n",
       "      <td>4,439</td>\n",
       "      <td>6,582</td>\n",
       "      <td>8,129</td>\n",
       "      <td>9,947</td>\n",
       "      <td>9,876</td>\n",
       "      <td>11,961</td>\n",
       "      <td>11,132</td>\n",
       "      <td>1,608</td>\n",
       "    </tr>\n",
       "    <tr>\n",
       "      <th>2</th>\n",
       "      <td>종로구</td>\n",
       "      <td>1,772</td>\n",
       "      <td>813</td>\n",
       "      <td>0</td>\n",
       "      <td>0</td>\n",
       "      <td>210</td>\n",
       "      <td>150</td>\n",
       "      <td>1</td>\n",
       "      <td>261</td>\n",
       "      <td>85</td>\n",
       "      <td>9</td>\n",
       "      <td>200</td>\n",
       "      <td>43</td>\n",
       "    </tr>\n",
       "    <tr>\n",
       "      <th>3</th>\n",
       "      <td>중 구</td>\n",
       "      <td>2,333</td>\n",
       "      <td>16</td>\n",
       "      <td>114</td>\n",
       "      <td>87</td>\n",
       "      <td>77</td>\n",
       "      <td>236</td>\n",
       "      <td>240</td>\n",
       "      <td>372</td>\n",
       "      <td>386</td>\n",
       "      <td>155</td>\n",
       "      <td>361</td>\n",
       "      <td>289</td>\n",
       "    </tr>\n",
       "    <tr>\n",
       "      <th>4</th>\n",
       "      <td>용산구</td>\n",
       "      <td>2,383</td>\n",
       "      <td>34</td>\n",
       "      <td>71</td>\n",
       "      <td>234</td>\n",
       "      <td>125</td>\n",
       "      <td>221</td>\n",
       "      <td>298</td>\n",
       "      <td>351</td>\n",
       "      <td>125</td>\n",
       "      <td>307</td>\n",
       "      <td>617</td>\n",
       "      <td>0</td>\n",
       "    </tr>\n",
       "  </tbody>\n",
       "</table>\n",
       "</div>"
      ],
      "text/plain": [
       "  ※ 2021.7.31. 현황을 기준으로 각 연도별 설치된 CCTV 수량. 교체(저화질교체, 성능개선)는 최초설치연도가 아닌 교체년도 수량에 포함  \\\n",
       "0                                                 구분                                 \n",
       "1                                                  계                                 \n",
       "2                                                종로구                                 \n",
       "3                                                중 구                                 \n",
       "4                                                용산구                                 \n",
       "\n",
       "  Unnamed: 1 Unnamed: 2 Unnamed: 3 Unnamed: 4 Unnamed: 5 Unnamed: 6  \\\n",
       "0         총계   2012년 이전      2012년      2013년      2014년      2015년   \n",
       "1     77,032      7,667      2,200      3,491      4,439      6,582   \n",
       "2      1,772        813          0          0        210        150   \n",
       "3      2,333         16        114         87         77        236   \n",
       "4      2,383         34         71        234        125        221   \n",
       "\n",
       "  Unnamed: 7 Unnamed: 8 Unnamed: 9 Unnamed: 10 Unnamed: 11 Unnamed: 12  \n",
       "0      2016년      2017년      2018년       2019년       2020년       2021년  \n",
       "1      8,129      9,947      9,876      11,961      11,132       1,608  \n",
       "2          1        261         85           9         200          43  \n",
       "3        240        372        386         155         361         289  \n",
       "4        298        351        125         307         617           0  "
      ]
     },
     "execution_count": 2,
     "metadata": {},
     "output_type": "execute_result"
    }
   ],
   "source": [
    "CCTV_Seoul = pd.read_csv('/서울시CCTV설치운영현황(자치구)_년도별_210731기준.csv', \n",
    "                        encoding='cp949')\n",
    "CCTV_Seoul.head()  # 데이터 앞의 5줄만 보여주세요!"
   ]
  },
  {
   "cell_type": "markdown",
   "metadata": {},
   "source": [
    "후.. 이거 만든 사람 누군지 모르겠지만 맨 처음 행row이 컬럼column이 아니군요. 우리는 구별 비교를 할 예정이니 1행의 '계'에 해당하는 데이터도 필요 없네요. 어쩔 수 없죠. 처리해줍시다!"
   ]
  },
  {
   "cell_type": "code",
   "execution_count": 3,
   "metadata": {},
   "outputs": [
    {
     "data": {
      "text/html": [
       "<div>\n",
       "<style scoped>\n",
       "    .dataframe tbody tr th:only-of-type {\n",
       "        vertical-align: middle;\n",
       "    }\n",
       "\n",
       "    .dataframe tbody tr th {\n",
       "        vertical-align: top;\n",
       "    }\n",
       "\n",
       "    .dataframe thead th {\n",
       "        text-align: right;\n",
       "    }\n",
       "</style>\n",
       "<table border=\"1\" class=\"dataframe\">\n",
       "  <thead>\n",
       "    <tr style=\"text-align: right;\">\n",
       "      <th></th>\n",
       "      <th>구분</th>\n",
       "      <th>총계</th>\n",
       "      <th>2012년 이전</th>\n",
       "      <th>2012년</th>\n",
       "      <th>2013년</th>\n",
       "      <th>2014년</th>\n",
       "      <th>2015년</th>\n",
       "      <th>2016년</th>\n",
       "      <th>2017년</th>\n",
       "      <th>2018년</th>\n",
       "      <th>2019년</th>\n",
       "      <th>2020년</th>\n",
       "      <th>2021년</th>\n",
       "    </tr>\n",
       "  </thead>\n",
       "  <tbody>\n",
       "    <tr>\n",
       "      <th>0</th>\n",
       "      <td>종로구</td>\n",
       "      <td>1,772</td>\n",
       "      <td>813</td>\n",
       "      <td>0</td>\n",
       "      <td>0</td>\n",
       "      <td>210</td>\n",
       "      <td>150</td>\n",
       "      <td>1</td>\n",
       "      <td>261</td>\n",
       "      <td>85</td>\n",
       "      <td>9</td>\n",
       "      <td>200</td>\n",
       "      <td>43</td>\n",
       "    </tr>\n",
       "    <tr>\n",
       "      <th>1</th>\n",
       "      <td>중 구</td>\n",
       "      <td>2,333</td>\n",
       "      <td>16</td>\n",
       "      <td>114</td>\n",
       "      <td>87</td>\n",
       "      <td>77</td>\n",
       "      <td>236</td>\n",
       "      <td>240</td>\n",
       "      <td>372</td>\n",
       "      <td>386</td>\n",
       "      <td>155</td>\n",
       "      <td>361</td>\n",
       "      <td>289</td>\n",
       "    </tr>\n",
       "    <tr>\n",
       "      <th>2</th>\n",
       "      <td>용산구</td>\n",
       "      <td>2,383</td>\n",
       "      <td>34</td>\n",
       "      <td>71</td>\n",
       "      <td>234</td>\n",
       "      <td>125</td>\n",
       "      <td>221</td>\n",
       "      <td>298</td>\n",
       "      <td>351</td>\n",
       "      <td>125</td>\n",
       "      <td>307</td>\n",
       "      <td>617</td>\n",
       "      <td>0</td>\n",
       "    </tr>\n",
       "    <tr>\n",
       "      <th>3</th>\n",
       "      <td>성동구</td>\n",
       "      <td>3,602</td>\n",
       "      <td>448</td>\n",
       "      <td>125</td>\n",
       "      <td>212</td>\n",
       "      <td>105</td>\n",
       "      <td>339</td>\n",
       "      <td>310</td>\n",
       "      <td>874</td>\n",
       "      <td>390</td>\n",
       "      <td>262</td>\n",
       "      <td>461</td>\n",
       "      <td>76</td>\n",
       "    </tr>\n",
       "    <tr>\n",
       "      <th>4</th>\n",
       "      <td>광진구</td>\n",
       "      <td>2,588</td>\n",
       "      <td>35</td>\n",
       "      <td>57</td>\n",
       "      <td>100</td>\n",
       "      <td>187</td>\n",
       "      <td>98</td>\n",
       "      <td>52</td>\n",
       "      <td>675</td>\n",
       "      <td>465</td>\n",
       "      <td>712</td>\n",
       "      <td>175</td>\n",
       "      <td>32</td>\n",
       "    </tr>\n",
       "  </tbody>\n",
       "</table>\n",
       "</div>"
      ],
      "text/plain": [
       "    구분     총계 2012년 이전  2012년  2013년  2014년  2015년  2016년  2017년  2018년  \\\n",
       "0  종로구  1,772      813      0      0    210    150      1    261     85   \n",
       "1  중 구  2,333       16    114     87     77    236    240    372    386   \n",
       "2  용산구  2,383       34     71    234    125    221    298    351    125   \n",
       "3  성동구  3,602      448    125    212    105    339    310    874    390   \n",
       "4  광진구  2,588       35     57    100    187     98     52    675    465   \n",
       "\n",
       "   2019년 2020년  2021년  \n",
       "0      9   200     43  \n",
       "1    155   361    289  \n",
       "2    307   617      0  \n",
       "3    262   461     76  \n",
       "4    712   175     32  "
      ]
     },
     "execution_count": 3,
     "metadata": {},
     "output_type": "execute_result"
    }
   ],
   "source": [
    "CCTV_Seoul = pd.read_csv('/서울시CCTV설치운영현황(자치구)_년도별_210731기준.csv', \n",
    "                        skiprows = [0,2],       # ※표시 있는 행, '계 있는 행 없애줘\n",
    "                        header = 0,             # 컬럼은 위에서 삭제하고 남은 0번째 줄로 해줘\n",
    "                        encoding='cp949')\n",
    "CCTV_Seoul.head()  # 데이터 앞의 5줄만 보여줘!"
   ]
  },
  {
   "cell_type": "markdown",
   "metadata": {},
   "source": [
    "항상 데이터들을 살펴보는 것을 잊지마세요. 데이터가 무엇을 의미하는지도 중요하니까요. 대충 강남구가 다른 곳에 비해서 많이 설치되어있네. 추이도 볼 수 있는데, 설치수가 줄어든 것도 보이고 늘어난 곳도 보이네요.\n"
   ]
  },
  {
   "cell_type": "markdown",
   "metadata": {},
   "source": [
    "저는 보통 데이터를 import한 다음 제일 먼저 **info**를 통해 자료형, 결측치를 살펴본답니다. 급하게 데이터 타입을 맞추거나 분석한 후에 결측치가 있으면 굉장히 난감하거든요. 분석을 처음부터 다시 해야할 수 있어요."
   ]
  },
  {
   "cell_type": "code",
   "execution_count": 4,
   "metadata": {},
   "outputs": [
    {
     "name": "stdout",
     "output_type": "stream",
     "text": [
      "<class 'pandas.core.frame.DataFrame'>\n",
      "RangeIndex: 25 entries, 0 to 24\n",
      "Data columns (total 13 columns):\n",
      " #   Column    Non-Null Count  Dtype \n",
      "---  ------    --------------  ----- \n",
      " 0   구분        25 non-null     object\n",
      " 1   총계        25 non-null     object\n",
      " 2   2012년 이전  25 non-null     object\n",
      " 3   2012년     25 non-null     int64 \n",
      " 4   2013년     25 non-null     int64 \n",
      " 5   2014년     25 non-null     int64 \n",
      " 6   2015년     25 non-null     int64 \n",
      " 7   2016년     25 non-null     int64 \n",
      " 8   2017년     25 non-null     int64 \n",
      " 9   2018년     25 non-null     int64 \n",
      " 10  2019년     25 non-null     int64 \n",
      " 11  2020년     25 non-null     object\n",
      " 12  2021년     25 non-null     int64 \n",
      "dtypes: int64(9), object(4)\n",
      "memory usage: 2.7+ KB\n"
     ]
    }
   ],
   "source": [
    "CCTV_Seoul.info()"
   ]
  },
  {
   "cell_type": "markdown",
   "metadata": {},
   "source": [
    "이런~ 총계, 2012년 이전, 2020년 데이터가 object(str)군요. 공공기관 데이터는 여러 해에 걸쳐 여러 담당자가 수집하다 보니 자료형이 어긋난 경우가 종종 있어요. (물론 배포하기 전에 신경쓰는게 맞지만요)\n",
    "\n",
    "모든 데이터에 null값(NaN) 값도 없군요. 좋아요. 저 둘의 dtype을 int로 바꿔줍시다."
   ]
  },
  {
   "cell_type": "code",
   "execution_count": 5,
   "metadata": {},
   "outputs": [
    {
     "ename": "ValueError",
     "evalue": "invalid literal for int() with base 10: '1,772'",
     "output_type": "error",
     "traceback": [
      "\u001b[1;31m---------------------------------------------------------------------------\u001b[0m",
      "\u001b[1;31mValueError\u001b[0m                                Traceback (most recent call last)",
      "\u001b[1;32m<ipython-input-5-136cd0954015>\u001b[0m in \u001b[0;36m<module>\u001b[1;34m\u001b[0m\n\u001b[1;32m----> 1\u001b[1;33m \u001b[0mCCTV_Seoul\u001b[0m\u001b[1;33m[\u001b[0m\u001b[1;34m'총계'\u001b[0m\u001b[1;33m]\u001b[0m \u001b[1;33m=\u001b[0m \u001b[0mCCTV_Seoul\u001b[0m\u001b[1;33m[\u001b[0m\u001b[1;34m'총계'\u001b[0m\u001b[1;33m]\u001b[0m\u001b[1;33m.\u001b[0m\u001b[0mastype\u001b[0m\u001b[1;33m(\u001b[0m\u001b[0mint\u001b[0m\u001b[1;33m)\u001b[0m\u001b[1;33m\u001b[0m\u001b[1;33m\u001b[0m\u001b[0m\n\u001b[0m\u001b[0;32m      2\u001b[0m \u001b[0mCCTV_Seoul\u001b[0m\u001b[1;33m[\u001b[0m\u001b[1;34m'2012년 이전'\u001b[0m\u001b[1;33m]\u001b[0m \u001b[1;33m=\u001b[0m \u001b[0mCCTV_Seoul\u001b[0m\u001b[1;33m[\u001b[0m\u001b[1;34m'2012년 이전'\u001b[0m\u001b[1;33m]\u001b[0m\u001b[1;33m.\u001b[0m\u001b[0mastype\u001b[0m\u001b[1;33m(\u001b[0m\u001b[0mint\u001b[0m\u001b[1;33m)\u001b[0m\u001b[1;33m\u001b[0m\u001b[1;33m\u001b[0m\u001b[0m\n\u001b[0;32m      3\u001b[0m \u001b[0mCCTV_Seoul\u001b[0m\u001b[1;33m[\u001b[0m\u001b[1;34m'2020년'\u001b[0m\u001b[1;33m]\u001b[0m \u001b[1;33m=\u001b[0m \u001b[0mCCTV_Seoul\u001b[0m\u001b[1;33m[\u001b[0m\u001b[1;34m'2020년'\u001b[0m\u001b[1;33m]\u001b[0m\u001b[1;33m.\u001b[0m\u001b[0mastype\u001b[0m\u001b[1;33m(\u001b[0m\u001b[0mint\u001b[0m\u001b[1;33m)\u001b[0m\u001b[1;33m\u001b[0m\u001b[1;33m\u001b[0m\u001b[0m\n\u001b[0;32m      4\u001b[0m \u001b[1;33m\u001b[0m\u001b[0m\n\u001b[0;32m      5\u001b[0m \u001b[0mCCTV_Seoul\u001b[0m\u001b[1;33m.\u001b[0m\u001b[0minfo\u001b[0m\u001b[1;33m(\u001b[0m\u001b[1;33m)\u001b[0m\u001b[1;33m\u001b[0m\u001b[1;33m\u001b[0m\u001b[0m\n",
      "\u001b[1;32mC:\\Anaconda3\\envs\\python36\\lib\\site-packages\\pandas\\core\\generic.py\u001b[0m in \u001b[0;36mastype\u001b[1;34m(self, dtype, copy, errors)\u001b[0m\n\u001b[0;32m   5875\u001b[0m         \u001b[1;32melse\u001b[0m\u001b[1;33m:\u001b[0m\u001b[1;33m\u001b[0m\u001b[1;33m\u001b[0m\u001b[0m\n\u001b[0;32m   5876\u001b[0m             \u001b[1;31m# else, only a single dtype is given\u001b[0m\u001b[1;33m\u001b[0m\u001b[1;33m\u001b[0m\u001b[1;33m\u001b[0m\u001b[0m\n\u001b[1;32m-> 5877\u001b[1;33m             \u001b[0mnew_data\u001b[0m \u001b[1;33m=\u001b[0m \u001b[0mself\u001b[0m\u001b[1;33m.\u001b[0m\u001b[0m_mgr\u001b[0m\u001b[1;33m.\u001b[0m\u001b[0mastype\u001b[0m\u001b[1;33m(\u001b[0m\u001b[0mdtype\u001b[0m\u001b[1;33m=\u001b[0m\u001b[0mdtype\u001b[0m\u001b[1;33m,\u001b[0m \u001b[0mcopy\u001b[0m\u001b[1;33m=\u001b[0m\u001b[0mcopy\u001b[0m\u001b[1;33m,\u001b[0m \u001b[0merrors\u001b[0m\u001b[1;33m=\u001b[0m\u001b[0merrors\u001b[0m\u001b[1;33m)\u001b[0m\u001b[1;33m\u001b[0m\u001b[1;33m\u001b[0m\u001b[0m\n\u001b[0m\u001b[0;32m   5878\u001b[0m             \u001b[1;32mreturn\u001b[0m \u001b[0mself\u001b[0m\u001b[1;33m.\u001b[0m\u001b[0m_constructor\u001b[0m\u001b[1;33m(\u001b[0m\u001b[0mnew_data\u001b[0m\u001b[1;33m)\u001b[0m\u001b[1;33m.\u001b[0m\u001b[0m__finalize__\u001b[0m\u001b[1;33m(\u001b[0m\u001b[0mself\u001b[0m\u001b[1;33m,\u001b[0m \u001b[0mmethod\u001b[0m\u001b[1;33m=\u001b[0m\u001b[1;34m\"astype\"\u001b[0m\u001b[1;33m)\u001b[0m\u001b[1;33m\u001b[0m\u001b[1;33m\u001b[0m\u001b[0m\n\u001b[0;32m   5879\u001b[0m \u001b[1;33m\u001b[0m\u001b[0m\n",
      "\u001b[1;32mC:\\Anaconda3\\envs\\python36\\lib\\site-packages\\pandas\\core\\internals\\managers.py\u001b[0m in \u001b[0;36mastype\u001b[1;34m(self, dtype, copy, errors)\u001b[0m\n\u001b[0;32m    629\u001b[0m         \u001b[0mself\u001b[0m\u001b[1;33m,\u001b[0m \u001b[0mdtype\u001b[0m\u001b[1;33m,\u001b[0m \u001b[0mcopy\u001b[0m\u001b[1;33m:\u001b[0m \u001b[0mbool\u001b[0m \u001b[1;33m=\u001b[0m \u001b[1;32mFalse\u001b[0m\u001b[1;33m,\u001b[0m \u001b[0merrors\u001b[0m\u001b[1;33m:\u001b[0m \u001b[0mstr\u001b[0m \u001b[1;33m=\u001b[0m \u001b[1;34m\"raise\"\u001b[0m\u001b[1;33m\u001b[0m\u001b[1;33m\u001b[0m\u001b[0m\n\u001b[0;32m    630\u001b[0m     ) -> \"BlockManager\":\n\u001b[1;32m--> 631\u001b[1;33m         \u001b[1;32mreturn\u001b[0m \u001b[0mself\u001b[0m\u001b[1;33m.\u001b[0m\u001b[0mapply\u001b[0m\u001b[1;33m(\u001b[0m\u001b[1;34m\"astype\"\u001b[0m\u001b[1;33m,\u001b[0m \u001b[0mdtype\u001b[0m\u001b[1;33m=\u001b[0m\u001b[0mdtype\u001b[0m\u001b[1;33m,\u001b[0m \u001b[0mcopy\u001b[0m\u001b[1;33m=\u001b[0m\u001b[0mcopy\u001b[0m\u001b[1;33m,\u001b[0m \u001b[0merrors\u001b[0m\u001b[1;33m=\u001b[0m\u001b[0merrors\u001b[0m\u001b[1;33m)\u001b[0m\u001b[1;33m\u001b[0m\u001b[1;33m\u001b[0m\u001b[0m\n\u001b[0m\u001b[0;32m    632\u001b[0m \u001b[1;33m\u001b[0m\u001b[0m\n\u001b[0;32m    633\u001b[0m     def convert(\n",
      "\u001b[1;32mC:\\Anaconda3\\envs\\python36\\lib\\site-packages\\pandas\\core\\internals\\managers.py\u001b[0m in \u001b[0;36mapply\u001b[1;34m(self, f, align_keys, ignore_failures, **kwargs)\u001b[0m\n\u001b[0;32m    425\u001b[0m                     \u001b[0mapplied\u001b[0m \u001b[1;33m=\u001b[0m \u001b[0mb\u001b[0m\u001b[1;33m.\u001b[0m\u001b[0mapply\u001b[0m\u001b[1;33m(\u001b[0m\u001b[0mf\u001b[0m\u001b[1;33m,\u001b[0m \u001b[1;33m**\u001b[0m\u001b[0mkwargs\u001b[0m\u001b[1;33m)\u001b[0m\u001b[1;33m\u001b[0m\u001b[1;33m\u001b[0m\u001b[0m\n\u001b[0;32m    426\u001b[0m                 \u001b[1;32melse\u001b[0m\u001b[1;33m:\u001b[0m\u001b[1;33m\u001b[0m\u001b[1;33m\u001b[0m\u001b[0m\n\u001b[1;32m--> 427\u001b[1;33m                     \u001b[0mapplied\u001b[0m \u001b[1;33m=\u001b[0m \u001b[0mgetattr\u001b[0m\u001b[1;33m(\u001b[0m\u001b[0mb\u001b[0m\u001b[1;33m,\u001b[0m \u001b[0mf\u001b[0m\u001b[1;33m)\u001b[0m\u001b[1;33m(\u001b[0m\u001b[1;33m**\u001b[0m\u001b[0mkwargs\u001b[0m\u001b[1;33m)\u001b[0m\u001b[1;33m\u001b[0m\u001b[1;33m\u001b[0m\u001b[0m\n\u001b[0m\u001b[0;32m    428\u001b[0m             \u001b[1;32mexcept\u001b[0m \u001b[1;33m(\u001b[0m\u001b[0mTypeError\u001b[0m\u001b[1;33m,\u001b[0m \u001b[0mNotImplementedError\u001b[0m\u001b[1;33m)\u001b[0m\u001b[1;33m:\u001b[0m\u001b[1;33m\u001b[0m\u001b[1;33m\u001b[0m\u001b[0m\n\u001b[0;32m    429\u001b[0m                 \u001b[1;32mif\u001b[0m \u001b[1;32mnot\u001b[0m \u001b[0mignore_failures\u001b[0m\u001b[1;33m:\u001b[0m\u001b[1;33m\u001b[0m\u001b[1;33m\u001b[0m\u001b[0m\n",
      "\u001b[1;32mC:\\Anaconda3\\envs\\python36\\lib\\site-packages\\pandas\\core\\internals\\blocks.py\u001b[0m in \u001b[0;36mastype\u001b[1;34m(self, dtype, copy, errors)\u001b[0m\n\u001b[0;32m    671\u001b[0m             \u001b[0mvals1d\u001b[0m \u001b[1;33m=\u001b[0m \u001b[0mvalues\u001b[0m\u001b[1;33m.\u001b[0m\u001b[0mravel\u001b[0m\u001b[1;33m(\u001b[0m\u001b[1;33m)\u001b[0m\u001b[1;33m\u001b[0m\u001b[1;33m\u001b[0m\u001b[0m\n\u001b[0;32m    672\u001b[0m             \u001b[1;32mtry\u001b[0m\u001b[1;33m:\u001b[0m\u001b[1;33m\u001b[0m\u001b[1;33m\u001b[0m\u001b[0m\n\u001b[1;32m--> 673\u001b[1;33m                 \u001b[0mvalues\u001b[0m \u001b[1;33m=\u001b[0m \u001b[0mastype_nansafe\u001b[0m\u001b[1;33m(\u001b[0m\u001b[0mvals1d\u001b[0m\u001b[1;33m,\u001b[0m \u001b[0mdtype\u001b[0m\u001b[1;33m,\u001b[0m \u001b[0mcopy\u001b[0m\u001b[1;33m=\u001b[0m\u001b[1;32mTrue\u001b[0m\u001b[1;33m)\u001b[0m\u001b[1;33m\u001b[0m\u001b[1;33m\u001b[0m\u001b[0m\n\u001b[0m\u001b[0;32m    674\u001b[0m             \u001b[1;32mexcept\u001b[0m \u001b[1;33m(\u001b[0m\u001b[0mValueError\u001b[0m\u001b[1;33m,\u001b[0m \u001b[0mTypeError\u001b[0m\u001b[1;33m)\u001b[0m\u001b[1;33m:\u001b[0m\u001b[1;33m\u001b[0m\u001b[1;33m\u001b[0m\u001b[0m\n\u001b[0;32m    675\u001b[0m                 \u001b[1;31m# e.g. astype_nansafe can fail on object-dtype of strings\u001b[0m\u001b[1;33m\u001b[0m\u001b[1;33m\u001b[0m\u001b[1;33m\u001b[0m\u001b[0m\n",
      "\u001b[1;32mC:\\Anaconda3\\envs\\python36\\lib\\site-packages\\pandas\\core\\dtypes\\cast.py\u001b[0m in \u001b[0;36mastype_nansafe\u001b[1;34m(arr, dtype, copy, skipna)\u001b[0m\n\u001b[0;32m   1072\u001b[0m         \u001b[1;31m# work around NumPy brokenness, #1987\u001b[0m\u001b[1;33m\u001b[0m\u001b[1;33m\u001b[0m\u001b[1;33m\u001b[0m\u001b[0m\n\u001b[0;32m   1073\u001b[0m         \u001b[1;32mif\u001b[0m \u001b[0mnp\u001b[0m\u001b[1;33m.\u001b[0m\u001b[0missubdtype\u001b[0m\u001b[1;33m(\u001b[0m\u001b[0mdtype\u001b[0m\u001b[1;33m.\u001b[0m\u001b[0mtype\u001b[0m\u001b[1;33m,\u001b[0m \u001b[0mnp\u001b[0m\u001b[1;33m.\u001b[0m\u001b[0minteger\u001b[0m\u001b[1;33m)\u001b[0m\u001b[1;33m:\u001b[0m\u001b[1;33m\u001b[0m\u001b[1;33m\u001b[0m\u001b[0m\n\u001b[1;32m-> 1074\u001b[1;33m             \u001b[1;32mreturn\u001b[0m \u001b[0mlib\u001b[0m\u001b[1;33m.\u001b[0m\u001b[0mastype_intsafe\u001b[0m\u001b[1;33m(\u001b[0m\u001b[0marr\u001b[0m\u001b[1;33m.\u001b[0m\u001b[0mravel\u001b[0m\u001b[1;33m(\u001b[0m\u001b[1;33m)\u001b[0m\u001b[1;33m,\u001b[0m \u001b[0mdtype\u001b[0m\u001b[1;33m)\u001b[0m\u001b[1;33m.\u001b[0m\u001b[0mreshape\u001b[0m\u001b[1;33m(\u001b[0m\u001b[0marr\u001b[0m\u001b[1;33m.\u001b[0m\u001b[0mshape\u001b[0m\u001b[1;33m)\u001b[0m\u001b[1;33m\u001b[0m\u001b[1;33m\u001b[0m\u001b[0m\n\u001b[0m\u001b[0;32m   1075\u001b[0m \u001b[1;33m\u001b[0m\u001b[0m\n\u001b[0;32m   1076\u001b[0m         \u001b[1;31m# if we have a datetime/timedelta array of objects\u001b[0m\u001b[1;33m\u001b[0m\u001b[1;33m\u001b[0m\u001b[1;33m\u001b[0m\u001b[0m\n",
      "\u001b[1;32mpandas\\_libs\\lib.pyx\u001b[0m in \u001b[0;36mpandas._libs.lib.astype_intsafe\u001b[1;34m()\u001b[0m\n",
      "\u001b[1;31mValueError\u001b[0m: invalid literal for int() with base 10: '1,772'"
     ]
    }
   ],
   "source": [
    "CCTV_Seoul['총계'] = CCTV_Seoul['총계'].astype(int)\n",
    "CCTV_Seoul['2012년 이전'] = CCTV_Seoul['2012년 이전'].astype(int)\n",
    "CCTV_Seoul['2020년'] = CCTV_Seoul['2020년'].astype(int)\n",
    "\n",
    "CCTV_Seoul.info()"
   ]
  },
  {
   "cell_type": "markdown",
   "metadata": {},
   "source": [
    "!!!! 분명 잘 한 것 같은데 에러가 나오네요? 이럴 때엔 에러를 잘 살펴보면 문제를 알아낼 수 있어요. int화 하는데 '1,772'가 적절하지 않다고 나오네요. 작은 따옴표로 묶여 있으니 문자를 int로 바꿀 때 생긴 문제겠군요.\n",
    "\n",
    "\n",
    "csv는 comma separated value. 그러니까 값이 comma로 구별되는 데이터예요. pandas 입장에서 생각하면 comma로 구분해 가져온 데이터프레임에 굳~이 ,를 꼭 명시해준 문자열 데이터가 들어간 상태예요. 문자열은 별개로 인식해서 괜찮지만 숫자로 바꾸면 문자로 다시 인식하거나 ,(comma)를 구분자로 잘못 인식할 수 있어요. 이럴때 우리는 크게 두가지 방법을 씁니다.\n",
    "\n",
    "- **read_csv(thousands = ','): 천 단위에 들어간 ,는 무시하고 숫자로 인식해줘!**\n",
    "- **df['해당 컬럼'].str.replace(',', ''): 문자열 ','를 공백으로 바꿔줘!**\n",
    "\n",
    "분석 시작한지 얼마 되지 않았으니 read_csv로 다시 읽어옵시다."
   ]
  },
  {
   "cell_type": "code",
   "execution_count": 6,
   "metadata": {},
   "outputs": [
    {
     "data": {
      "text/html": [
       "<div>\n",
       "<style scoped>\n",
       "    .dataframe tbody tr th:only-of-type {\n",
       "        vertical-align: middle;\n",
       "    }\n",
       "\n",
       "    .dataframe tbody tr th {\n",
       "        vertical-align: top;\n",
       "    }\n",
       "\n",
       "    .dataframe thead th {\n",
       "        text-align: right;\n",
       "    }\n",
       "</style>\n",
       "<table border=\"1\" class=\"dataframe\">\n",
       "  <thead>\n",
       "    <tr style=\"text-align: right;\">\n",
       "      <th></th>\n",
       "      <th>구분</th>\n",
       "      <th>총계</th>\n",
       "      <th>2012년 이전</th>\n",
       "      <th>2012년</th>\n",
       "      <th>2013년</th>\n",
       "      <th>2014년</th>\n",
       "      <th>2015년</th>\n",
       "      <th>2016년</th>\n",
       "      <th>2017년</th>\n",
       "      <th>2018년</th>\n",
       "      <th>2019년</th>\n",
       "      <th>2020년</th>\n",
       "      <th>2021년</th>\n",
       "    </tr>\n",
       "  </thead>\n",
       "  <tbody>\n",
       "    <tr>\n",
       "      <th>0</th>\n",
       "      <td>종로구</td>\n",
       "      <td>1772</td>\n",
       "      <td>813</td>\n",
       "      <td>0</td>\n",
       "      <td>0</td>\n",
       "      <td>210</td>\n",
       "      <td>150</td>\n",
       "      <td>1</td>\n",
       "      <td>261</td>\n",
       "      <td>85</td>\n",
       "      <td>9</td>\n",
       "      <td>200</td>\n",
       "      <td>43</td>\n",
       "    </tr>\n",
       "    <tr>\n",
       "      <th>1</th>\n",
       "      <td>중 구</td>\n",
       "      <td>2333</td>\n",
       "      <td>16</td>\n",
       "      <td>114</td>\n",
       "      <td>87</td>\n",
       "      <td>77</td>\n",
       "      <td>236</td>\n",
       "      <td>240</td>\n",
       "      <td>372</td>\n",
       "      <td>386</td>\n",
       "      <td>155</td>\n",
       "      <td>361</td>\n",
       "      <td>289</td>\n",
       "    </tr>\n",
       "    <tr>\n",
       "      <th>2</th>\n",
       "      <td>용산구</td>\n",
       "      <td>2383</td>\n",
       "      <td>34</td>\n",
       "      <td>71</td>\n",
       "      <td>234</td>\n",
       "      <td>125</td>\n",
       "      <td>221</td>\n",
       "      <td>298</td>\n",
       "      <td>351</td>\n",
       "      <td>125</td>\n",
       "      <td>307</td>\n",
       "      <td>617</td>\n",
       "      <td>0</td>\n",
       "    </tr>\n",
       "    <tr>\n",
       "      <th>3</th>\n",
       "      <td>성동구</td>\n",
       "      <td>3602</td>\n",
       "      <td>448</td>\n",
       "      <td>125</td>\n",
       "      <td>212</td>\n",
       "      <td>105</td>\n",
       "      <td>339</td>\n",
       "      <td>310</td>\n",
       "      <td>874</td>\n",
       "      <td>390</td>\n",
       "      <td>262</td>\n",
       "      <td>461</td>\n",
       "      <td>76</td>\n",
       "    </tr>\n",
       "    <tr>\n",
       "      <th>4</th>\n",
       "      <td>광진구</td>\n",
       "      <td>2588</td>\n",
       "      <td>35</td>\n",
       "      <td>57</td>\n",
       "      <td>100</td>\n",
       "      <td>187</td>\n",
       "      <td>98</td>\n",
       "      <td>52</td>\n",
       "      <td>675</td>\n",
       "      <td>465</td>\n",
       "      <td>712</td>\n",
       "      <td>175</td>\n",
       "      <td>32</td>\n",
       "    </tr>\n",
       "  </tbody>\n",
       "</table>\n",
       "</div>"
      ],
      "text/plain": [
       "    구분    총계  2012년 이전  2012년  2013년  2014년  2015년  2016년  2017년  2018년  \\\n",
       "0  종로구  1772       813      0      0    210    150      1    261     85   \n",
       "1  중 구  2333        16    114     87     77    236    240    372    386   \n",
       "2  용산구  2383        34     71    234    125    221    298    351    125   \n",
       "3  성동구  3602       448    125    212    105    339    310    874    390   \n",
       "4  광진구  2588        35     57    100    187     98     52    675    465   \n",
       "\n",
       "   2019년  2020년  2021년  \n",
       "0      9    200     43  \n",
       "1    155    361    289  \n",
       "2    307    617      0  \n",
       "3    262    461     76  \n",
       "4    712    175     32  "
      ]
     },
     "execution_count": 6,
     "metadata": {},
     "output_type": "execute_result"
    }
   ],
   "source": [
    "CCTV_Seoul = pd.read_csv('/서울시CCTV설치운영현황(자치구)_년도별_210731기준.csv', \n",
    "                        skiprows = [0,2],       # ※표시 있는 행, '계 있는 행 없애줘\n",
    "                        header = 0,             # 컬럼은 위에서 삭제하고 남은 0번째 줄로 해줘\n",
    "                        thousands = ',',\n",
    "                        encoding='cp949')\n",
    "CCTV_Seoul.head()  # 데이터 앞의 5줄만 보여줘!"
   ]
  },
  {
   "cell_type": "code",
   "execution_count": 7,
   "metadata": {},
   "outputs": [
    {
     "name": "stdout",
     "output_type": "stream",
     "text": [
      "<class 'pandas.core.frame.DataFrame'>\n",
      "RangeIndex: 25 entries, 0 to 24\n",
      "Data columns (total 13 columns):\n",
      " #   Column    Non-Null Count  Dtype \n",
      "---  ------    --------------  ----- \n",
      " 0   구분        25 non-null     object\n",
      " 1   총계        25 non-null     int32 \n",
      " 2   2012년 이전  25 non-null     int32 \n",
      " 3   2012년     25 non-null     int64 \n",
      " 4   2013년     25 non-null     int64 \n",
      " 5   2014년     25 non-null     int64 \n",
      " 6   2015년     25 non-null     int64 \n",
      " 7   2016년     25 non-null     int64 \n",
      " 8   2017년     25 non-null     int64 \n",
      " 9   2018년     25 non-null     int64 \n",
      " 10  2019년     25 non-null     int64 \n",
      " 11  2020년     25 non-null     int32 \n",
      " 12  2021년     25 non-null     int64 \n",
      "dtypes: int32(3), int64(9), object(1)\n",
      "memory usage: 2.4+ KB\n"
     ]
    }
   ],
   "source": [
    "CCTV_Seoul['총계'] = CCTV_Seoul['총계'].astype(int)\n",
    "CCTV_Seoul['2012년 이전'] = CCTV_Seoul['2012년 이전'].astype(int)\n",
    "CCTV_Seoul['2020년'] = CCTV_Seoul['2020년'].astype(int)\n",
    "\n",
    "CCTV_Seoul.info()"
   ]
  },
  {
   "cell_type": "markdown",
   "metadata": {},
   "source": [
    "짜잔! 잘 바뀌었습니다. dtype이 int32로 바뀐 이유는 pandas가 알아서 현재 데이터를 보고 메모리를 적게 소모하는 int 중 int32로 바꿨기 때문이예요. \n",
    "\n",
    "(나중에 대용량 데이터를 처리하게 되면 astype에 np.int8, np.int16 등으로 메모리를 줄여서 연산할 수 있어요. 물론 그쯤 되면 numpy Array를 사용하실지도 모르겠네요.)\n",
    "\n",
    "\n",
    "그런데 구의 column이름이 '기관명'으로 되어 있네요. '구별'로 바꿔보겠습니다."
   ]
  },
  {
   "cell_type": "code",
   "execution_count": 8,
   "metadata": {},
   "outputs": [
    {
     "data": {
      "text/html": [
       "<div>\n",
       "<style scoped>\n",
       "    .dataframe tbody tr th:only-of-type {\n",
       "        vertical-align: middle;\n",
       "    }\n",
       "\n",
       "    .dataframe tbody tr th {\n",
       "        vertical-align: top;\n",
       "    }\n",
       "\n",
       "    .dataframe thead th {\n",
       "        text-align: right;\n",
       "    }\n",
       "</style>\n",
       "<table border=\"1\" class=\"dataframe\">\n",
       "  <thead>\n",
       "    <tr style=\"text-align: right;\">\n",
       "      <th></th>\n",
       "      <th>구별</th>\n",
       "      <th>총계</th>\n",
       "      <th>2012년 이전</th>\n",
       "      <th>2012년</th>\n",
       "      <th>2013년</th>\n",
       "      <th>2014년</th>\n",
       "      <th>2015년</th>\n",
       "      <th>2016년</th>\n",
       "      <th>2017년</th>\n",
       "      <th>2018년</th>\n",
       "      <th>2019년</th>\n",
       "      <th>2020년</th>\n",
       "      <th>2021년</th>\n",
       "    </tr>\n",
       "  </thead>\n",
       "  <tbody>\n",
       "    <tr>\n",
       "      <th>0</th>\n",
       "      <td>종로구</td>\n",
       "      <td>1772</td>\n",
       "      <td>813</td>\n",
       "      <td>0</td>\n",
       "      <td>0</td>\n",
       "      <td>210</td>\n",
       "      <td>150</td>\n",
       "      <td>1</td>\n",
       "      <td>261</td>\n",
       "      <td>85</td>\n",
       "      <td>9</td>\n",
       "      <td>200</td>\n",
       "      <td>43</td>\n",
       "    </tr>\n",
       "    <tr>\n",
       "      <th>1</th>\n",
       "      <td>중 구</td>\n",
       "      <td>2333</td>\n",
       "      <td>16</td>\n",
       "      <td>114</td>\n",
       "      <td>87</td>\n",
       "      <td>77</td>\n",
       "      <td>236</td>\n",
       "      <td>240</td>\n",
       "      <td>372</td>\n",
       "      <td>386</td>\n",
       "      <td>155</td>\n",
       "      <td>361</td>\n",
       "      <td>289</td>\n",
       "    </tr>\n",
       "    <tr>\n",
       "      <th>2</th>\n",
       "      <td>용산구</td>\n",
       "      <td>2383</td>\n",
       "      <td>34</td>\n",
       "      <td>71</td>\n",
       "      <td>234</td>\n",
       "      <td>125</td>\n",
       "      <td>221</td>\n",
       "      <td>298</td>\n",
       "      <td>351</td>\n",
       "      <td>125</td>\n",
       "      <td>307</td>\n",
       "      <td>617</td>\n",
       "      <td>0</td>\n",
       "    </tr>\n",
       "    <tr>\n",
       "      <th>3</th>\n",
       "      <td>성동구</td>\n",
       "      <td>3602</td>\n",
       "      <td>448</td>\n",
       "      <td>125</td>\n",
       "      <td>212</td>\n",
       "      <td>105</td>\n",
       "      <td>339</td>\n",
       "      <td>310</td>\n",
       "      <td>874</td>\n",
       "      <td>390</td>\n",
       "      <td>262</td>\n",
       "      <td>461</td>\n",
       "      <td>76</td>\n",
       "    </tr>\n",
       "    <tr>\n",
       "      <th>4</th>\n",
       "      <td>광진구</td>\n",
       "      <td>2588</td>\n",
       "      <td>35</td>\n",
       "      <td>57</td>\n",
       "      <td>100</td>\n",
       "      <td>187</td>\n",
       "      <td>98</td>\n",
       "      <td>52</td>\n",
       "      <td>675</td>\n",
       "      <td>465</td>\n",
       "      <td>712</td>\n",
       "      <td>175</td>\n",
       "      <td>32</td>\n",
       "    </tr>\n",
       "  </tbody>\n",
       "</table>\n",
       "</div>"
      ],
      "text/plain": [
       "    구별    총계  2012년 이전  2012년  2013년  2014년  2015년  2016년  2017년  2018년  \\\n",
       "0  종로구  1772       813      0      0    210    150      1    261     85   \n",
       "1  중 구  2333        16    114     87     77    236    240    372    386   \n",
       "2  용산구  2383        34     71    234    125    221    298    351    125   \n",
       "3  성동구  3602       448    125    212    105    339    310    874    390   \n",
       "4  광진구  2588        35     57    100    187     98     52    675    465   \n",
       "\n",
       "   2019년  2020년  2021년  \n",
       "0      9    200     43  \n",
       "1    155    361    289  \n",
       "2    307    617      0  \n",
       "3    262    461     76  \n",
       "4    712    175     32  "
      ]
     },
     "execution_count": 8,
     "metadata": {},
     "output_type": "execute_result"
    }
   ],
   "source": [
    "CCTV_Seoul.rename(columns={CCTV_Seoul.columns[0] : '구별'}, \n",
    "                  inplace=True)\n",
    "CCTV_Seoul.head()"
   ]
  },
  {
   "cell_type": "markdown",
   "metadata": {},
   "source": [
    "서울인구수가 담긴 엑셀 데이터는 read_excel로 가져와 보겠습니다."
   ]
  },
  {
   "cell_type": "code",
   "execution_count": 63,
   "metadata": {},
   "outputs": [],
   "source": [
    "# pip install xlrd"
   ]
  },
  {
   "cell_type": "code",
   "execution_count": 9,
   "metadata": {},
   "outputs": [
    {
     "data": {
      "text/html": [
       "<div>\n",
       "<style scoped>\n",
       "    .dataframe tbody tr th:only-of-type {\n",
       "        vertical-align: middle;\n",
       "    }\n",
       "\n",
       "    .dataframe tbody tr th {\n",
       "        vertical-align: top;\n",
       "    }\n",
       "\n",
       "    .dataframe thead th {\n",
       "        text-align: right;\n",
       "    }\n",
       "</style>\n",
       "<table border=\"1\" class=\"dataframe\">\n",
       "  <thead>\n",
       "    <tr style=\"text-align: right;\">\n",
       "      <th></th>\n",
       "      <th>기간</th>\n",
       "      <th>자치구</th>\n",
       "      <th>세대</th>\n",
       "      <th>인구</th>\n",
       "      <th>인구.1</th>\n",
       "      <th>인구.2</th>\n",
       "      <th>인구.3</th>\n",
       "      <th>인구.4</th>\n",
       "      <th>인구.5</th>\n",
       "      <th>인구.6</th>\n",
       "      <th>인구.7</th>\n",
       "      <th>인구.8</th>\n",
       "      <th>인구밀도</th>\n",
       "      <th>인구밀도.1</th>\n",
       "      <th>세대당인구</th>\n",
       "      <th>65세이상고령자</th>\n",
       "    </tr>\n",
       "  </thead>\n",
       "  <tbody>\n",
       "    <tr>\n",
       "      <th>0</th>\n",
       "      <td>기간</td>\n",
       "      <td>자치구</td>\n",
       "      <td>세대</td>\n",
       "      <td>합계</td>\n",
       "      <td>합계</td>\n",
       "      <td>합계</td>\n",
       "      <td>한국인</td>\n",
       "      <td>한국인</td>\n",
       "      <td>한국인</td>\n",
       "      <td>등록외국인</td>\n",
       "      <td>등록외국인</td>\n",
       "      <td>등록외국인</td>\n",
       "      <td>인구밀도</td>\n",
       "      <td>인구밀도</td>\n",
       "      <td>세대당인구</td>\n",
       "      <td>65세이상고령자</td>\n",
       "    </tr>\n",
       "    <tr>\n",
       "      <th>1</th>\n",
       "      <td>기간</td>\n",
       "      <td>자치구</td>\n",
       "      <td>세대</td>\n",
       "      <td>계</td>\n",
       "      <td>남자</td>\n",
       "      <td>여자</td>\n",
       "      <td>계</td>\n",
       "      <td>남자</td>\n",
       "      <td>여자</td>\n",
       "      <td>계</td>\n",
       "      <td>남자</td>\n",
       "      <td>여자</td>\n",
       "      <td>인구밀도(명/㎢)</td>\n",
       "      <td>면적(㎢)</td>\n",
       "      <td>세대당인구</td>\n",
       "      <td>65세이상고령자</td>\n",
       "    </tr>\n",
       "    <tr>\n",
       "      <th>2</th>\n",
       "      <td>2012</td>\n",
       "      <td>합계</td>\n",
       "      <td>4177970</td>\n",
       "      <td>10442426</td>\n",
       "      <td>5159665</td>\n",
       "      <td>5282761</td>\n",
       "      <td>10195318</td>\n",
       "      <td>5041336</td>\n",
       "      <td>5153982</td>\n",
       "      <td>247108</td>\n",
       "      <td>118329</td>\n",
       "      <td>128779</td>\n",
       "      <td>17255</td>\n",
       "      <td>605.18</td>\n",
       "      <td>2.44</td>\n",
       "      <td>1110995</td>\n",
       "    </tr>\n",
       "    <tr>\n",
       "      <th>3</th>\n",
       "      <td>2012</td>\n",
       "      <td>종로구</td>\n",
       "      <td>75659</td>\n",
       "      <td>173148</td>\n",
       "      <td>85997</td>\n",
       "      <td>87151</td>\n",
       "      <td>165207</td>\n",
       "      <td>82274</td>\n",
       "      <td>82933</td>\n",
       "      <td>7941</td>\n",
       "      <td>3723</td>\n",
       "      <td>4218</td>\n",
       "      <td>7243</td>\n",
       "      <td>23.91</td>\n",
       "      <td>2.18</td>\n",
       "      <td>23868</td>\n",
       "    </tr>\n",
       "    <tr>\n",
       "      <th>4</th>\n",
       "      <td>2012</td>\n",
       "      <td>중구</td>\n",
       "      <td>61546</td>\n",
       "      <td>140807</td>\n",
       "      <td>70762</td>\n",
       "      <td>70045</td>\n",
       "      <td>133360</td>\n",
       "      <td>67043</td>\n",
       "      <td>66317</td>\n",
       "      <td>7447</td>\n",
       "      <td>3719</td>\n",
       "      <td>3728</td>\n",
       "      <td>14136</td>\n",
       "      <td>9.96</td>\n",
       "      <td>2.17</td>\n",
       "      <td>18875</td>\n",
       "    </tr>\n",
       "  </tbody>\n",
       "</table>\n",
       "</div>"
      ],
      "text/plain": [
       "     기간  자치구       세대        인구     인구.1     인구.2      인구.3     인구.4     인구.5  \\\n",
       "0    기간  자치구       세대        합계       합계       합계       한국인      한국인      한국인   \n",
       "1    기간  자치구       세대         계       남자       여자         계       남자       여자   \n",
       "2  2012   합계  4177970  10442426  5159665  5282761  10195318  5041336  5153982   \n",
       "3  2012  종로구    75659    173148    85997    87151    165207    82274    82933   \n",
       "4  2012   중구    61546    140807    70762    70045    133360    67043    66317   \n",
       "\n",
       "     인구.6    인구.7    인구.8       인구밀도  인구밀도.1  세대당인구  65세이상고령자  \n",
       "0   등록외국인   등록외국인   등록외국인       인구밀도    인구밀도  세대당인구  65세이상고령자  \n",
       "1       계      남자      여자  인구밀도(명/㎢)   면적(㎢)  세대당인구  65세이상고령자  \n",
       "2  247108  118329  128779      17255  605.18   2.44   1110995  \n",
       "3    7941    3723    4218       7243   23.91   2.18     23868  \n",
       "4    7447    3719    3728      14136    9.96   2.17     18875  "
      ]
     },
     "execution_count": 9,
     "metadata": {},
     "output_type": "execute_result"
    }
   ],
   "source": [
    "pop_Seoul = pd.read_excel('/Report.xls')\n",
    "pop_Seoul.head()  # 데이터 앞의 5줄만 보여줘!"
   ]
  },
  {
   "cell_type": "markdown",
   "metadata": {},
   "source": [
    "혹시 \n",
    "> ImportError: Missing optional dependency 'xlrd'. Install xlrd >= 1.0.0 for Excel support Use pip or conda to install xlrd.\n",
    "\n",
    "이런 에러가 나온다면 코드 실행 전에 \n",
    "\n",
    "`pip install xlrd` 를 실행시켜보세요."
   ]
  },
  {
   "cell_type": "markdown",
   "metadata": {},
   "source": [
    "역시나 column 제목들이 마음에 안들죠? index 1번째 줄에 있는 것으로 타이틀을 변경하고 싶고, 필요한 컬럼만 가져오고 싶어요. 그럴 때는 아래와 같이 하시면 됩니다."
   ]
  },
  {
   "cell_type": "code",
   "execution_count": 10,
   "metadata": {},
   "outputs": [
    {
     "data": {
      "text/html": [
       "<div>\n",
       "<style scoped>\n",
       "    .dataframe tbody tr th:only-of-type {\n",
       "        vertical-align: middle;\n",
       "    }\n",
       "\n",
       "    .dataframe tbody tr th {\n",
       "        vertical-align: top;\n",
       "    }\n",
       "\n",
       "    .dataframe thead th {\n",
       "        text-align: right;\n",
       "    }\n",
       "</style>\n",
       "<table border=\"1\" class=\"dataframe\">\n",
       "  <thead>\n",
       "    <tr style=\"text-align: right;\">\n",
       "      <th></th>\n",
       "      <th>기간</th>\n",
       "      <th>자치구</th>\n",
       "      <th>계</th>\n",
       "      <th>남자</th>\n",
       "      <th>여자</th>\n",
       "      <th>계.1</th>\n",
       "      <th>계.2</th>\n",
       "      <th>인구밀도(명/㎢)</th>\n",
       "      <th>면적(㎢)</th>\n",
       "      <th>세대당인구</th>\n",
       "      <th>65세이상고령자</th>\n",
       "    </tr>\n",
       "  </thead>\n",
       "  <tbody>\n",
       "    <tr>\n",
       "      <th>0</th>\n",
       "      <td>2012</td>\n",
       "      <td>합계</td>\n",
       "      <td>10442426</td>\n",
       "      <td>5159665</td>\n",
       "      <td>5282761</td>\n",
       "      <td>10195318</td>\n",
       "      <td>247108</td>\n",
       "      <td>17255</td>\n",
       "      <td>605.18</td>\n",
       "      <td>2.44</td>\n",
       "      <td>1110995</td>\n",
       "    </tr>\n",
       "    <tr>\n",
       "      <th>1</th>\n",
       "      <td>2012</td>\n",
       "      <td>종로구</td>\n",
       "      <td>173148</td>\n",
       "      <td>85997</td>\n",
       "      <td>87151</td>\n",
       "      <td>165207</td>\n",
       "      <td>7941</td>\n",
       "      <td>7243</td>\n",
       "      <td>23.91</td>\n",
       "      <td>2.18</td>\n",
       "      <td>23868</td>\n",
       "    </tr>\n",
       "    <tr>\n",
       "      <th>2</th>\n",
       "      <td>2012</td>\n",
       "      <td>중구</td>\n",
       "      <td>140807</td>\n",
       "      <td>70762</td>\n",
       "      <td>70045</td>\n",
       "      <td>133360</td>\n",
       "      <td>7447</td>\n",
       "      <td>14136</td>\n",
       "      <td>9.96</td>\n",
       "      <td>2.17</td>\n",
       "      <td>18875</td>\n",
       "    </tr>\n",
       "    <tr>\n",
       "      <th>3</th>\n",
       "      <td>2012</td>\n",
       "      <td>용산구</td>\n",
       "      <td>255294</td>\n",
       "      <td>124708</td>\n",
       "      <td>130586</td>\n",
       "      <td>243232</td>\n",
       "      <td>12062</td>\n",
       "      <td>11674</td>\n",
       "      <td>21.87</td>\n",
       "      <td>2.20</td>\n",
       "      <td>33027</td>\n",
       "    </tr>\n",
       "    <tr>\n",
       "      <th>4</th>\n",
       "      <td>2012</td>\n",
       "      <td>성동구</td>\n",
       "      <td>306868</td>\n",
       "      <td>153272</td>\n",
       "      <td>153596</td>\n",
       "      <td>299604</td>\n",
       "      <td>7264</td>\n",
       "      <td>18214</td>\n",
       "      <td>16.85</td>\n",
       "      <td>2.38</td>\n",
       "      <td>34180</td>\n",
       "    </tr>\n",
       "  </tbody>\n",
       "</table>\n",
       "</div>"
      ],
      "text/plain": [
       "     기간  자치구         계       남자       여자       계.1     계.2 인구밀도(명/㎢)   면적(㎢)  \\\n",
       "0  2012   합계  10442426  5159665  5282761  10195318  247108     17255  605.18   \n",
       "1  2012  종로구    173148    85997    87151    165207    7941      7243   23.91   \n",
       "2  2012   중구    140807    70762    70045    133360    7447     14136    9.96   \n",
       "3  2012  용산구    255294   124708   130586    243232   12062     11674   21.87   \n",
       "4  2012  성동구    306868   153272   153596    299604    7264     18214   16.85   \n",
       "\n",
       "   세대당인구  65세이상고령자  \n",
       "0   2.44   1110995  \n",
       "1   2.18     23868  \n",
       "2   2.17     18875  \n",
       "3   2.20     33027  \n",
       "4   2.38     34180  "
      ]
     },
     "execution_count": 10,
     "metadata": {},
     "output_type": "execute_result"
    }
   ],
   "source": [
    "pop_Seoul = pd.read_excel('/Report.xls', \n",
    "                          header= 2,                       # header는 row 2번째줄로!\n",
    "                          usecols = 'A, B, D, E, F, G, J, M, N, O, P',       # 요 columns만 가져온다!\n",
    "                          )  \n",
    "pop_Seoul.head()"
   ]
  },
  {
   "cell_type": "markdown",
   "metadata": {},
   "source": [
    " 그런데 columns 이름이 마음에 들지 않아요. 그리고 이 표를 잘 보세요. 우리가 나중에 구별 인구 대비 CCTV 설치수까지 비교를 해본다고 했잖아요. 나중에 이 데이터를 합칠텐데 CCTV 자료는 CCTV_Seoul에 있고, 서울인구 자료는 pop_Seoul에 나뉘어있죠? 데이터를 합치는 기준을 지역구로 하고 싶어요. 그래서 자치구를 '구별'로 바꿔주고 컬럼을 변수의 특성이 더 잘 나타나게 바꾸려고 합니다."
   ]
  },
  {
   "cell_type": "code",
   "execution_count": 11,
   "metadata": {},
   "outputs": [
    {
     "data": {
      "text/html": [
       "<div>\n",
       "<style scoped>\n",
       "    .dataframe tbody tr th:only-of-type {\n",
       "        vertical-align: middle;\n",
       "    }\n",
       "\n",
       "    .dataframe tbody tr th {\n",
       "        vertical-align: top;\n",
       "    }\n",
       "\n",
       "    .dataframe thead th {\n",
       "        text-align: right;\n",
       "    }\n",
       "</style>\n",
       "<table border=\"1\" class=\"dataframe\">\n",
       "  <thead>\n",
       "    <tr style=\"text-align: right;\">\n",
       "      <th></th>\n",
       "      <th>기간</th>\n",
       "      <th>구별</th>\n",
       "      <th>인구수</th>\n",
       "      <th>남성</th>\n",
       "      <th>여성</th>\n",
       "      <th>한국인</th>\n",
       "      <th>외국인</th>\n",
       "      <th>인구밀도</th>\n",
       "      <th>면적</th>\n",
       "      <th>세대당인구</th>\n",
       "      <th>고령자</th>\n",
       "    </tr>\n",
       "  </thead>\n",
       "  <tbody>\n",
       "    <tr>\n",
       "      <th>0</th>\n",
       "      <td>2012</td>\n",
       "      <td>합계</td>\n",
       "      <td>10442426</td>\n",
       "      <td>5159665</td>\n",
       "      <td>5282761</td>\n",
       "      <td>10195318</td>\n",
       "      <td>247108</td>\n",
       "      <td>17255</td>\n",
       "      <td>605.18</td>\n",
       "      <td>2.44</td>\n",
       "      <td>1110995</td>\n",
       "    </tr>\n",
       "    <tr>\n",
       "      <th>1</th>\n",
       "      <td>2012</td>\n",
       "      <td>종로구</td>\n",
       "      <td>173148</td>\n",
       "      <td>85997</td>\n",
       "      <td>87151</td>\n",
       "      <td>165207</td>\n",
       "      <td>7941</td>\n",
       "      <td>7243</td>\n",
       "      <td>23.91</td>\n",
       "      <td>2.18</td>\n",
       "      <td>23868</td>\n",
       "    </tr>\n",
       "    <tr>\n",
       "      <th>2</th>\n",
       "      <td>2012</td>\n",
       "      <td>중구</td>\n",
       "      <td>140807</td>\n",
       "      <td>70762</td>\n",
       "      <td>70045</td>\n",
       "      <td>133360</td>\n",
       "      <td>7447</td>\n",
       "      <td>14136</td>\n",
       "      <td>9.96</td>\n",
       "      <td>2.17</td>\n",
       "      <td>18875</td>\n",
       "    </tr>\n",
       "    <tr>\n",
       "      <th>3</th>\n",
       "      <td>2012</td>\n",
       "      <td>용산구</td>\n",
       "      <td>255294</td>\n",
       "      <td>124708</td>\n",
       "      <td>130586</td>\n",
       "      <td>243232</td>\n",
       "      <td>12062</td>\n",
       "      <td>11674</td>\n",
       "      <td>21.87</td>\n",
       "      <td>2.20</td>\n",
       "      <td>33027</td>\n",
       "    </tr>\n",
       "    <tr>\n",
       "      <th>4</th>\n",
       "      <td>2012</td>\n",
       "      <td>성동구</td>\n",
       "      <td>306868</td>\n",
       "      <td>153272</td>\n",
       "      <td>153596</td>\n",
       "      <td>299604</td>\n",
       "      <td>7264</td>\n",
       "      <td>18214</td>\n",
       "      <td>16.85</td>\n",
       "      <td>2.38</td>\n",
       "      <td>34180</td>\n",
       "    </tr>\n",
       "  </tbody>\n",
       "</table>\n",
       "</div>"
      ],
      "text/plain": [
       "     기간   구별       인구수       남성       여성       한국인     외국인   인구밀도      면적  \\\n",
       "0  2012   합계  10442426  5159665  5282761  10195318  247108  17255  605.18   \n",
       "1  2012  종로구    173148    85997    87151    165207    7941   7243   23.91   \n",
       "2  2012   중구    140807    70762    70045    133360    7447  14136    9.96   \n",
       "3  2012  용산구    255294   124708   130586    243232   12062  11674   21.87   \n",
       "4  2012  성동구    306868   153272   153596    299604    7264  18214   16.85   \n",
       "\n",
       "   세대당인구      고령자  \n",
       "0   2.44  1110995  \n",
       "1   2.18    23868  \n",
       "2   2.17    18875  \n",
       "3   2.20    33027  \n",
       "4   2.38    34180  "
      ]
     },
     "execution_count": 11,
     "metadata": {},
     "output_type": "execute_result"
    }
   ],
   "source": [
    "pop_Seoul = pop_Seoul.rename(columns={pop_Seoul.columns[1] : '구별',\n",
    "                                      pop_Seoul.columns[2] : '인구수',\n",
    "                                      pop_Seoul.columns[3] : '남성',\n",
    "                                      pop_Seoul.columns[4] : '여성',\n",
    "                                      pop_Seoul.columns[5] : '한국인',\n",
    "                                      pop_Seoul.columns[6] : '외국인',\n",
    "                                      pop_Seoul.columns[7] : '인구밀도',\n",
    "                                      pop_Seoul.columns[8] : '면적',\n",
    "                                      #pop_Seoul.columns[9] : '세대당인구',\n",
    "                                      pop_Seoul.columns[10] : '고령자'})\n",
    "pop_Seoul.head()"
   ]
  },
  {
   "cell_type": "markdown",
   "metadata": {},
   "source": [
    "pop_Seoul도 info를 통해 이것저것 확인해줍시다."
   ]
  },
  {
   "cell_type": "code",
   "execution_count": 12,
   "metadata": {},
   "outputs": [
    {
     "name": "stdout",
     "output_type": "stream",
     "text": [
      "<class 'pandas.core.frame.DataFrame'>\n",
      "RangeIndex: 260 entries, 0 to 259\n",
      "Data columns (total 11 columns):\n",
      " #   Column  Non-Null Count  Dtype  \n",
      "---  ------  --------------  -----  \n",
      " 0   기간      260 non-null    int64  \n",
      " 1   구별      260 non-null    object \n",
      " 2   인구수     260 non-null    int64  \n",
      " 3   남성      260 non-null    int64  \n",
      " 4   여성      260 non-null    int64  \n",
      " 5   한국인     260 non-null    int64  \n",
      " 6   외국인     260 non-null    int64  \n",
      " 7   인구밀도    260 non-null    object \n",
      " 8   면적      260 non-null    object \n",
      " 9   세대당인구   260 non-null    float64\n",
      " 10  고령자     260 non-null    int64  \n",
      "dtypes: float64(1), int64(7), object(3)\n",
      "memory usage: 22.5+ KB\n"
     ]
    }
   ],
   "source": [
    "pop_Seoul.info()"
   ]
  },
  {
   "cell_type": "markdown",
   "metadata": {},
   "source": [
    "null 값은 없고, 인구밀도, 면적이 object네요. 바로 바꿔줍시다."
   ]
  },
  {
   "cell_type": "code",
   "execution_count": 13,
   "metadata": {},
   "outputs": [
    {
     "ename": "ValueError",
     "evalue": "invalid literal for int() with base 10: '-'",
     "output_type": "error",
     "traceback": [
      "\u001b[1;31m---------------------------------------------------------------------------\u001b[0m",
      "\u001b[1;31mValueError\u001b[0m                                Traceback (most recent call last)",
      "\u001b[1;32m<ipython-input-13-e56792273a2b>\u001b[0m in \u001b[0;36m<module>\u001b[1;34m\u001b[0m\n\u001b[1;32m----> 1\u001b[1;33m \u001b[0mpop_Seoul\u001b[0m\u001b[1;33m[\u001b[0m\u001b[1;34m'인구밀도'\u001b[0m\u001b[1;33m]\u001b[0m \u001b[1;33m=\u001b[0m \u001b[0mpop_Seoul\u001b[0m\u001b[1;33m[\u001b[0m\u001b[1;34m'인구밀도'\u001b[0m\u001b[1;33m]\u001b[0m\u001b[1;33m.\u001b[0m\u001b[0mastype\u001b[0m\u001b[1;33m(\u001b[0m\u001b[0mint\u001b[0m\u001b[1;33m)\u001b[0m\u001b[1;33m\u001b[0m\u001b[1;33m\u001b[0m\u001b[0m\n\u001b[0m\u001b[0;32m      2\u001b[0m \u001b[0mpop_Seoul\u001b[0m\u001b[1;33m[\u001b[0m\u001b[1;34m'면적'\u001b[0m\u001b[1;33m]\u001b[0m \u001b[1;33m=\u001b[0m \u001b[0mpop_Seoul\u001b[0m\u001b[1;33m[\u001b[0m\u001b[1;34m'면적'\u001b[0m\u001b[1;33m]\u001b[0m\u001b[1;33m.\u001b[0m\u001b[0mastype\u001b[0m\u001b[1;33m(\u001b[0m\u001b[0mfloat\u001b[0m\u001b[1;33m)\u001b[0m    \u001b[1;31m# 면적은 제곱 km, 소수점 2째 자리까지 있어서 float\u001b[0m\u001b[1;33m\u001b[0m\u001b[1;33m\u001b[0m\u001b[0m\n\u001b[0;32m      3\u001b[0m \u001b[1;33m\u001b[0m\u001b[0m\n\u001b[0;32m      4\u001b[0m \u001b[0mpop_Seoul\u001b[0m\u001b[1;33m.\u001b[0m\u001b[0minfo\u001b[0m\u001b[1;33m(\u001b[0m\u001b[1;33m)\u001b[0m\u001b[1;33m\u001b[0m\u001b[1;33m\u001b[0m\u001b[0m\n",
      "\u001b[1;32mC:\\Anaconda3\\envs\\python36\\lib\\site-packages\\pandas\\core\\generic.py\u001b[0m in \u001b[0;36mastype\u001b[1;34m(self, dtype, copy, errors)\u001b[0m\n\u001b[0;32m   5875\u001b[0m         \u001b[1;32melse\u001b[0m\u001b[1;33m:\u001b[0m\u001b[1;33m\u001b[0m\u001b[1;33m\u001b[0m\u001b[0m\n\u001b[0;32m   5876\u001b[0m             \u001b[1;31m# else, only a single dtype is given\u001b[0m\u001b[1;33m\u001b[0m\u001b[1;33m\u001b[0m\u001b[1;33m\u001b[0m\u001b[0m\n\u001b[1;32m-> 5877\u001b[1;33m             \u001b[0mnew_data\u001b[0m \u001b[1;33m=\u001b[0m \u001b[0mself\u001b[0m\u001b[1;33m.\u001b[0m\u001b[0m_mgr\u001b[0m\u001b[1;33m.\u001b[0m\u001b[0mastype\u001b[0m\u001b[1;33m(\u001b[0m\u001b[0mdtype\u001b[0m\u001b[1;33m=\u001b[0m\u001b[0mdtype\u001b[0m\u001b[1;33m,\u001b[0m \u001b[0mcopy\u001b[0m\u001b[1;33m=\u001b[0m\u001b[0mcopy\u001b[0m\u001b[1;33m,\u001b[0m \u001b[0merrors\u001b[0m\u001b[1;33m=\u001b[0m\u001b[0merrors\u001b[0m\u001b[1;33m)\u001b[0m\u001b[1;33m\u001b[0m\u001b[1;33m\u001b[0m\u001b[0m\n\u001b[0m\u001b[0;32m   5878\u001b[0m             \u001b[1;32mreturn\u001b[0m \u001b[0mself\u001b[0m\u001b[1;33m.\u001b[0m\u001b[0m_constructor\u001b[0m\u001b[1;33m(\u001b[0m\u001b[0mnew_data\u001b[0m\u001b[1;33m)\u001b[0m\u001b[1;33m.\u001b[0m\u001b[0m__finalize__\u001b[0m\u001b[1;33m(\u001b[0m\u001b[0mself\u001b[0m\u001b[1;33m,\u001b[0m \u001b[0mmethod\u001b[0m\u001b[1;33m=\u001b[0m\u001b[1;34m\"astype\"\u001b[0m\u001b[1;33m)\u001b[0m\u001b[1;33m\u001b[0m\u001b[1;33m\u001b[0m\u001b[0m\n\u001b[0;32m   5879\u001b[0m \u001b[1;33m\u001b[0m\u001b[0m\n",
      "\u001b[1;32mC:\\Anaconda3\\envs\\python36\\lib\\site-packages\\pandas\\core\\internals\\managers.py\u001b[0m in \u001b[0;36mastype\u001b[1;34m(self, dtype, copy, errors)\u001b[0m\n\u001b[0;32m    629\u001b[0m         \u001b[0mself\u001b[0m\u001b[1;33m,\u001b[0m \u001b[0mdtype\u001b[0m\u001b[1;33m,\u001b[0m \u001b[0mcopy\u001b[0m\u001b[1;33m:\u001b[0m \u001b[0mbool\u001b[0m \u001b[1;33m=\u001b[0m \u001b[1;32mFalse\u001b[0m\u001b[1;33m,\u001b[0m \u001b[0merrors\u001b[0m\u001b[1;33m:\u001b[0m \u001b[0mstr\u001b[0m \u001b[1;33m=\u001b[0m \u001b[1;34m\"raise\"\u001b[0m\u001b[1;33m\u001b[0m\u001b[1;33m\u001b[0m\u001b[0m\n\u001b[0;32m    630\u001b[0m     ) -> \"BlockManager\":\n\u001b[1;32m--> 631\u001b[1;33m         \u001b[1;32mreturn\u001b[0m \u001b[0mself\u001b[0m\u001b[1;33m.\u001b[0m\u001b[0mapply\u001b[0m\u001b[1;33m(\u001b[0m\u001b[1;34m\"astype\"\u001b[0m\u001b[1;33m,\u001b[0m \u001b[0mdtype\u001b[0m\u001b[1;33m=\u001b[0m\u001b[0mdtype\u001b[0m\u001b[1;33m,\u001b[0m \u001b[0mcopy\u001b[0m\u001b[1;33m=\u001b[0m\u001b[0mcopy\u001b[0m\u001b[1;33m,\u001b[0m \u001b[0merrors\u001b[0m\u001b[1;33m=\u001b[0m\u001b[0merrors\u001b[0m\u001b[1;33m)\u001b[0m\u001b[1;33m\u001b[0m\u001b[1;33m\u001b[0m\u001b[0m\n\u001b[0m\u001b[0;32m    632\u001b[0m \u001b[1;33m\u001b[0m\u001b[0m\n\u001b[0;32m    633\u001b[0m     def convert(\n",
      "\u001b[1;32mC:\\Anaconda3\\envs\\python36\\lib\\site-packages\\pandas\\core\\internals\\managers.py\u001b[0m in \u001b[0;36mapply\u001b[1;34m(self, f, align_keys, ignore_failures, **kwargs)\u001b[0m\n\u001b[0;32m    425\u001b[0m                     \u001b[0mapplied\u001b[0m \u001b[1;33m=\u001b[0m \u001b[0mb\u001b[0m\u001b[1;33m.\u001b[0m\u001b[0mapply\u001b[0m\u001b[1;33m(\u001b[0m\u001b[0mf\u001b[0m\u001b[1;33m,\u001b[0m \u001b[1;33m**\u001b[0m\u001b[0mkwargs\u001b[0m\u001b[1;33m)\u001b[0m\u001b[1;33m\u001b[0m\u001b[1;33m\u001b[0m\u001b[0m\n\u001b[0;32m    426\u001b[0m                 \u001b[1;32melse\u001b[0m\u001b[1;33m:\u001b[0m\u001b[1;33m\u001b[0m\u001b[1;33m\u001b[0m\u001b[0m\n\u001b[1;32m--> 427\u001b[1;33m                     \u001b[0mapplied\u001b[0m \u001b[1;33m=\u001b[0m \u001b[0mgetattr\u001b[0m\u001b[1;33m(\u001b[0m\u001b[0mb\u001b[0m\u001b[1;33m,\u001b[0m \u001b[0mf\u001b[0m\u001b[1;33m)\u001b[0m\u001b[1;33m(\u001b[0m\u001b[1;33m**\u001b[0m\u001b[0mkwargs\u001b[0m\u001b[1;33m)\u001b[0m\u001b[1;33m\u001b[0m\u001b[1;33m\u001b[0m\u001b[0m\n\u001b[0m\u001b[0;32m    428\u001b[0m             \u001b[1;32mexcept\u001b[0m \u001b[1;33m(\u001b[0m\u001b[0mTypeError\u001b[0m\u001b[1;33m,\u001b[0m \u001b[0mNotImplementedError\u001b[0m\u001b[1;33m)\u001b[0m\u001b[1;33m:\u001b[0m\u001b[1;33m\u001b[0m\u001b[1;33m\u001b[0m\u001b[0m\n\u001b[0;32m    429\u001b[0m                 \u001b[1;32mif\u001b[0m \u001b[1;32mnot\u001b[0m \u001b[0mignore_failures\u001b[0m\u001b[1;33m:\u001b[0m\u001b[1;33m\u001b[0m\u001b[1;33m\u001b[0m\u001b[0m\n",
      "\u001b[1;32mC:\\Anaconda3\\envs\\python36\\lib\\site-packages\\pandas\\core\\internals\\blocks.py\u001b[0m in \u001b[0;36mastype\u001b[1;34m(self, dtype, copy, errors)\u001b[0m\n\u001b[0;32m    671\u001b[0m             \u001b[0mvals1d\u001b[0m \u001b[1;33m=\u001b[0m \u001b[0mvalues\u001b[0m\u001b[1;33m.\u001b[0m\u001b[0mravel\u001b[0m\u001b[1;33m(\u001b[0m\u001b[1;33m)\u001b[0m\u001b[1;33m\u001b[0m\u001b[1;33m\u001b[0m\u001b[0m\n\u001b[0;32m    672\u001b[0m             \u001b[1;32mtry\u001b[0m\u001b[1;33m:\u001b[0m\u001b[1;33m\u001b[0m\u001b[1;33m\u001b[0m\u001b[0m\n\u001b[1;32m--> 673\u001b[1;33m                 \u001b[0mvalues\u001b[0m \u001b[1;33m=\u001b[0m \u001b[0mastype_nansafe\u001b[0m\u001b[1;33m(\u001b[0m\u001b[0mvals1d\u001b[0m\u001b[1;33m,\u001b[0m \u001b[0mdtype\u001b[0m\u001b[1;33m,\u001b[0m \u001b[0mcopy\u001b[0m\u001b[1;33m=\u001b[0m\u001b[1;32mTrue\u001b[0m\u001b[1;33m)\u001b[0m\u001b[1;33m\u001b[0m\u001b[1;33m\u001b[0m\u001b[0m\n\u001b[0m\u001b[0;32m    674\u001b[0m             \u001b[1;32mexcept\u001b[0m \u001b[1;33m(\u001b[0m\u001b[0mValueError\u001b[0m\u001b[1;33m,\u001b[0m \u001b[0mTypeError\u001b[0m\u001b[1;33m)\u001b[0m\u001b[1;33m:\u001b[0m\u001b[1;33m\u001b[0m\u001b[1;33m\u001b[0m\u001b[0m\n\u001b[0;32m    675\u001b[0m                 \u001b[1;31m# e.g. astype_nansafe can fail on object-dtype of strings\u001b[0m\u001b[1;33m\u001b[0m\u001b[1;33m\u001b[0m\u001b[1;33m\u001b[0m\u001b[0m\n",
      "\u001b[1;32mC:\\Anaconda3\\envs\\python36\\lib\\site-packages\\pandas\\core\\dtypes\\cast.py\u001b[0m in \u001b[0;36mastype_nansafe\u001b[1;34m(arr, dtype, copy, skipna)\u001b[0m\n\u001b[0;32m   1072\u001b[0m         \u001b[1;31m# work around NumPy brokenness, #1987\u001b[0m\u001b[1;33m\u001b[0m\u001b[1;33m\u001b[0m\u001b[1;33m\u001b[0m\u001b[0m\n\u001b[0;32m   1073\u001b[0m         \u001b[1;32mif\u001b[0m \u001b[0mnp\u001b[0m\u001b[1;33m.\u001b[0m\u001b[0missubdtype\u001b[0m\u001b[1;33m(\u001b[0m\u001b[0mdtype\u001b[0m\u001b[1;33m.\u001b[0m\u001b[0mtype\u001b[0m\u001b[1;33m,\u001b[0m \u001b[0mnp\u001b[0m\u001b[1;33m.\u001b[0m\u001b[0minteger\u001b[0m\u001b[1;33m)\u001b[0m\u001b[1;33m:\u001b[0m\u001b[1;33m\u001b[0m\u001b[1;33m\u001b[0m\u001b[0m\n\u001b[1;32m-> 1074\u001b[1;33m             \u001b[1;32mreturn\u001b[0m \u001b[0mlib\u001b[0m\u001b[1;33m.\u001b[0m\u001b[0mastype_intsafe\u001b[0m\u001b[1;33m(\u001b[0m\u001b[0marr\u001b[0m\u001b[1;33m.\u001b[0m\u001b[0mravel\u001b[0m\u001b[1;33m(\u001b[0m\u001b[1;33m)\u001b[0m\u001b[1;33m,\u001b[0m \u001b[0mdtype\u001b[0m\u001b[1;33m)\u001b[0m\u001b[1;33m.\u001b[0m\u001b[0mreshape\u001b[0m\u001b[1;33m(\u001b[0m\u001b[0marr\u001b[0m\u001b[1;33m.\u001b[0m\u001b[0mshape\u001b[0m\u001b[1;33m)\u001b[0m\u001b[1;33m\u001b[0m\u001b[1;33m\u001b[0m\u001b[0m\n\u001b[0m\u001b[0;32m   1075\u001b[0m \u001b[1;33m\u001b[0m\u001b[0m\n\u001b[0;32m   1076\u001b[0m         \u001b[1;31m# if we have a datetime/timedelta array of objects\u001b[0m\u001b[1;33m\u001b[0m\u001b[1;33m\u001b[0m\u001b[1;33m\u001b[0m\u001b[0m\n",
      "\u001b[1;32mpandas\\_libs\\lib.pyx\u001b[0m in \u001b[0;36mpandas._libs.lib.astype_intsafe\u001b[1;34m()\u001b[0m\n",
      "\u001b[1;31mValueError\u001b[0m: invalid literal for int() with base 10: '-'"
     ]
    }
   ],
   "source": [
    "pop_Seoul['인구밀도'] = pop_Seoul['인구밀도'].astype(int)\n",
    "pop_Seoul['면적'] = pop_Seoul['면적'].astype(float)    # 면적은 제곱 km, 소수점 2째 자리까지 있어서 float\n",
    "\n",
    "pop_Seoul.info()"
   ]
  },
  {
   "cell_type": "markdown",
   "metadata": {},
   "source": [
    "헉! 2015년 이전까지만 인구밀도, 면적이 제공되네요. 아무래도 이번 분석의 목적은 10년 동안의 CCTV 개수 변화에 어떤 요인이 영향을 끼쳤는지니까 사용하지 못할 것 같습니다. 인구밀도, 면적 컬럼을 삭제해 줍시다😥"
   ]
  },
  {
   "cell_type": "code",
   "execution_count": 14,
   "metadata": {},
   "outputs": [
    {
     "name": "stdout",
     "output_type": "stream",
     "text": [
      "<class 'pandas.core.frame.DataFrame'>\n",
      "RangeIndex: 260 entries, 0 to 259\n",
      "Data columns (total 9 columns):\n",
      " #   Column  Non-Null Count  Dtype  \n",
      "---  ------  --------------  -----  \n",
      " 0   기간      260 non-null    int64  \n",
      " 1   구별      260 non-null    object \n",
      " 2   인구수     260 non-null    int64  \n",
      " 3   남성      260 non-null    int64  \n",
      " 4   여성      260 non-null    int64  \n",
      " 5   한국인     260 non-null    int64  \n",
      " 6   외국인     260 non-null    int64  \n",
      " 7   세대당인구   260 non-null    float64\n",
      " 8   고령자     260 non-null    int64  \n",
      "dtypes: float64(1), int64(7), object(1)\n",
      "memory usage: 18.4+ KB\n"
     ]
    }
   ],
   "source": [
    "pop_Seoul = pop_Seoul.drop('인구밀도', axis=1)\n",
    "pop_Seoul = pop_Seoul.drop('면적', axis=1)\n",
    "\n",
    "pop_Seoul.info()"
   ]
  },
  {
   "cell_type": "markdown",
   "metadata": {},
   "source": [
    "### 4.2. 탐색적 데이터 분석Exploratory Data Analysis\n",
    "\n",
    "**탐색적 데이터분석**, 줄여서 **EDA**는 데이터 분석에 돌입하기 전 데이터를 이해하기 위한 모든 작업입니다. 데이터의 형태나 분포가 어떤지, 어떤 양상을 띄는지 등 기본적인 표, 그래프를 그리는 일이 해당합니다. 누군가는 코드 치기도 바쁘고, 마감도 얼마 안남았는데 굳이 해야하나 싶기도 하겠지만! 꼭 필요한 작업이예요. 잘 했다고 생각한 분석이 알고보니 전혀 그런 데이터가 아닐 수도 있거든요. 심하게는 \"이 사람은 암에 걸리지 않았을겁니다!\"라고 자신만만하게 분석했는데, 암 관련 데이터가 아니거나 암 치료와 관련된 데이터라면 지금까지 한 모든 것들이 물거품이 되어버리거든요. 뿐만 아니라 EDA를 통해 데이터에 대해 더 자세하게 이해할 수 있으니 분석에 대한 통찰을 얻을 수 있겠죠?"
   ]
  },
  {
   "cell_type": "markdown",
   "metadata": {},
   "source": [
    "#### 데이터 확인하기\n",
    "\n",
    "모든 구가 다 있는지 확인하고 넘어갑시다.\n",
    "\n",
    "- .unique(): 한번이라도 나타난 데이터를 보여줍니다."
   ]
  },
  {
   "cell_type": "code",
   "execution_count": 15,
   "metadata": {},
   "outputs": [
    {
     "data": {
      "text/plain": [
       "array(['종로구', '중 구', '용산구', '성동구', '광진구', '동대문구', '중랑구', '성북구', '강북구',\n",
       "       '도봉구', '노원구', '은평구', '서대문구', '마포구', '양천구', '강서구', '구로구', '금천구',\n",
       "       '영등포구', '동작구', '관악구', '서초구', '강남구', '송파구', '강동구'], dtype=object)"
      ]
     },
     "execution_count": 15,
     "metadata": {},
     "output_type": "execute_result"
    }
   ],
   "source": [
    "CCTV_Seoul['구별'].unique()"
   ]
  },
  {
   "cell_type": "markdown",
   "metadata": {},
   "source": [
    "CCTV 데이터의 중구는 '중 구'로 되어있군요. 전에 배운 replace를 통해 '중 구'를 '중구'로 바꿔봅시다."
   ]
  },
  {
   "cell_type": "code",
   "execution_count": 16,
   "metadata": {},
   "outputs": [
    {
     "data": {
      "text/plain": [
       "array(['종로구', '중구', '용산구', '성동구', '광진구', '동대문구', '중랑구', '성북구', '강북구',\n",
       "       '도봉구', '노원구', '은평구', '서대문구', '마포구', '양천구', '강서구', '구로구', '금천구',\n",
       "       '영등포구', '동작구', '관악구', '서초구', '강남구', '송파구', '강동구'], dtype=object)"
      ]
     },
     "execution_count": 16,
     "metadata": {},
     "output_type": "execute_result"
    }
   ],
   "source": [
    "CCTV_Seoul.replace('중 구', '중구', inplace=True)\n",
    "\n",
    "CCTV_Seoul['구별'].unique()"
   ]
  },
  {
   "cell_type": "code",
   "execution_count": 17,
   "metadata": {},
   "outputs": [
    {
     "data": {
      "text/plain": [
       "array(['합계', '종로구', '중구', '용산구', '성동구', '광진구', '동대문구', '중랑구', '성북구',\n",
       "       '강북구', '도봉구', '노원구', '은평구', '서대문구', '마포구', '양천구', '강서구', '구로구',\n",
       "       '금천구', '영등포구', '동작구', '관악구', '서초구', '강남구', '송파구', '강동구'],\n",
       "      dtype=object)"
      ]
     },
     "execution_count": 17,
     "metadata": {},
     "output_type": "execute_result"
    }
   ],
   "source": [
    "pop_Seoul['구별'].unique()"
   ]
  },
  {
   "cell_type": "code",
   "execution_count": 18,
   "metadata": {},
   "outputs": [
    {
     "data": {
      "text/plain": [
       "array(['종로구', '중구', '용산구', '성동구', '광진구', '동대문구', '중랑구', '성북구', '강북구',\n",
       "       '도봉구', '노원구', '은평구', '서대문구', '마포구', '양천구', '강서구', '구로구', '금천구',\n",
       "       '영등포구', '동작구', '관악구', '서초구', '강남구', '송파구', '강동구'], dtype=object)"
      ]
     },
     "execution_count": 18,
     "metadata": {},
     "output_type": "execute_result"
    }
   ],
   "source": [
    "pop_gu = pop_Seoul['구별'].unique()\n",
    "pop_gu[1:]"
   ]
  },
  {
   "cell_type": "code",
   "execution_count": 19,
   "metadata": {},
   "outputs": [
    {
     "name": "stdout",
     "output_type": "stream",
     "text": [
      "25\n",
      "25\n"
     ]
    }
   ],
   "source": [
    "print(len(pop_gu[1:]))\n",
    "print(len(CCTV_Seoul['구별'].unique()))"
   ]
  },
  {
   "cell_type": "markdown",
   "metadata": {},
   "source": [
    "CCTV와 POP 모두 25개 구가 잘 들어 있군요. 혹시 둘이 다를 수 있으니 == 을 이용해 같은지 알아봅시다."
   ]
  },
  {
   "cell_type": "code",
   "execution_count": 20,
   "metadata": {},
   "outputs": [
    {
     "data": {
      "text/plain": [
       "array([ True,  True,  True,  True,  True,  True,  True,  True,  True,\n",
       "        True,  True,  True,  True,  True,  True,  True,  True,  True,\n",
       "        True,  True,  True,  True,  True,  True,  True])"
      ]
     },
     "execution_count": 20,
     "metadata": {},
     "output_type": "execute_result"
    }
   ],
   "source": [
    "CCTV_Seoul['구별'].unique() == pop_gu[1:]"
   ]
  },
  {
   "cell_type": "markdown",
   "metadata": {},
   "source": [
    "일치하네요. 좋아요!"
   ]
  },
  {
   "cell_type": "markdown",
   "metadata": {},
   "source": [
    "#### 결측치 처리\n",
    "\n",
    "아까 info()를 통해 nan값이 있는지 확인 했지만 isnull(), isna() 등 다른 방법으로도 nan값을 확인할 수 있답니다.\n",
    "\n",
    "- isnull()\n",
    "- isna()"
   ]
  },
  {
   "cell_type": "code",
   "execution_count": 21,
   "metadata": {},
   "outputs": [
    {
     "data": {
      "text/html": [
       "<div>\n",
       "<style scoped>\n",
       "    .dataframe tbody tr th:only-of-type {\n",
       "        vertical-align: middle;\n",
       "    }\n",
       "\n",
       "    .dataframe tbody tr th {\n",
       "        vertical-align: top;\n",
       "    }\n",
       "\n",
       "    .dataframe thead th {\n",
       "        text-align: right;\n",
       "    }\n",
       "</style>\n",
       "<table border=\"1\" class=\"dataframe\">\n",
       "  <thead>\n",
       "    <tr style=\"text-align: right;\">\n",
       "      <th></th>\n",
       "      <th>기간</th>\n",
       "      <th>구별</th>\n",
       "      <th>인구수</th>\n",
       "      <th>남성</th>\n",
       "      <th>여성</th>\n",
       "      <th>한국인</th>\n",
       "      <th>외국인</th>\n",
       "      <th>세대당인구</th>\n",
       "      <th>고령자</th>\n",
       "    </tr>\n",
       "  </thead>\n",
       "  <tbody>\n",
       "  </tbody>\n",
       "</table>\n",
       "</div>"
      ],
      "text/plain": [
       "Empty DataFrame\n",
       "Columns: [기간, 구별, 인구수, 남성, 여성, 한국인, 외국인, 세대당인구, 고령자]\n",
       "Index: []"
      ]
     },
     "execution_count": 21,
     "metadata": {},
     "output_type": "execute_result"
    }
   ],
   "source": [
    "pop_Seoul[pop_Seoul['구별'].isnull()] "
   ]
  },
  {
   "cell_type": "markdown",
   "metadata": {},
   "source": [
    "아까 확인한 것처럼 null값은 없네요! 혹시 null값이 있다면 이때 제거해주시면 됩니다.\n",
    "\n",
    "또, 앞으로 '합계'는 필요할 것 같지 않아서 해당 row는 지워줄께요."
   ]
  },
  {
   "cell_type": "code",
   "execution_count": 22,
   "metadata": {},
   "outputs": [],
   "source": [
    "# 삭제할 row의 index 찾기\n",
    "drop_index = pop_Seoul[pop_Seoul['구별'] == '합계'].index\n",
    "\n",
    "# drop\n",
    "pop_Seoul = pop_Seoul.drop(drop_index)"
   ]
  },
  {
   "cell_type": "code",
   "execution_count": 23,
   "metadata": {},
   "outputs": [
    {
     "data": {
      "text/plain": [
       "0"
      ]
     },
     "execution_count": 23,
     "metadata": {},
     "output_type": "execute_result"
    }
   ],
   "source": [
    "# '구별'이 '합계'인 개수가 몇이니? -> 0이요! -> 잘 삭제했구나!\n",
    "np.sum(pop_Seoul['구별'] == '합계')"
   ]
  },
  {
   "cell_type": "markdown",
   "metadata": {},
   "source": [
    "#### 데이터 정렬\n",
    "\n",
    "CCTV가 어디에 많이 있고 없는지 궁금하죠? 그러면 '총계'가 CCTV 수니까 이를 정렬시켜보겠습니다.\n",
    "\n",
    "- sort_values(by='기준 칼럼', ascending=True): 기준 칼럼을 기준으로 오름차순 정렬하기"
   ]
  },
  {
   "cell_type": "code",
   "execution_count": 24,
   "metadata": {},
   "outputs": [
    {
     "data": {
      "text/html": [
       "<div>\n",
       "<style scoped>\n",
       "    .dataframe tbody tr th:only-of-type {\n",
       "        vertical-align: middle;\n",
       "    }\n",
       "\n",
       "    .dataframe tbody tr th {\n",
       "        vertical-align: top;\n",
       "    }\n",
       "\n",
       "    .dataframe thead th {\n",
       "        text-align: right;\n",
       "    }\n",
       "</style>\n",
       "<table border=\"1\" class=\"dataframe\">\n",
       "  <thead>\n",
       "    <tr style=\"text-align: right;\">\n",
       "      <th></th>\n",
       "      <th>구별</th>\n",
       "      <th>총계</th>\n",
       "      <th>2012년 이전</th>\n",
       "      <th>2012년</th>\n",
       "      <th>2013년</th>\n",
       "      <th>2014년</th>\n",
       "      <th>2015년</th>\n",
       "      <th>2016년</th>\n",
       "      <th>2017년</th>\n",
       "      <th>2018년</th>\n",
       "      <th>2019년</th>\n",
       "      <th>2020년</th>\n",
       "      <th>2021년</th>\n",
       "    </tr>\n",
       "  </thead>\n",
       "  <tbody>\n",
       "    <tr>\n",
       "      <th>9</th>\n",
       "      <td>도봉구</td>\n",
       "      <td>1629</td>\n",
       "      <td>39</td>\n",
       "      <td>22</td>\n",
       "      <td>96</td>\n",
       "      <td>181</td>\n",
       "      <td>79</td>\n",
       "      <td>159</td>\n",
       "      <td>134</td>\n",
       "      <td>222</td>\n",
       "      <td>198</td>\n",
       "      <td>168</td>\n",
       "      <td>331</td>\n",
       "    </tr>\n",
       "    <tr>\n",
       "      <th>0</th>\n",
       "      <td>종로구</td>\n",
       "      <td>1772</td>\n",
       "      <td>813</td>\n",
       "      <td>0</td>\n",
       "      <td>0</td>\n",
       "      <td>210</td>\n",
       "      <td>150</td>\n",
       "      <td>1</td>\n",
       "      <td>261</td>\n",
       "      <td>85</td>\n",
       "      <td>9</td>\n",
       "      <td>200</td>\n",
       "      <td>43</td>\n",
       "    </tr>\n",
       "    <tr>\n",
       "      <th>19</th>\n",
       "      <td>동작구</td>\n",
       "      <td>2297</td>\n",
       "      <td>41</td>\n",
       "      <td>24</td>\n",
       "      <td>25</td>\n",
       "      <td>503</td>\n",
       "      <td>128</td>\n",
       "      <td>253</td>\n",
       "      <td>271</td>\n",
       "      <td>300</td>\n",
       "      <td>322</td>\n",
       "      <td>419</td>\n",
       "      <td>11</td>\n",
       "    </tr>\n",
       "    <tr>\n",
       "      <th>1</th>\n",
       "      <td>중구</td>\n",
       "      <td>2333</td>\n",
       "      <td>16</td>\n",
       "      <td>114</td>\n",
       "      <td>87</td>\n",
       "      <td>77</td>\n",
       "      <td>236</td>\n",
       "      <td>240</td>\n",
       "      <td>372</td>\n",
       "      <td>386</td>\n",
       "      <td>155</td>\n",
       "      <td>361</td>\n",
       "      <td>289</td>\n",
       "    </tr>\n",
       "    <tr>\n",
       "      <th>17</th>\n",
       "      <td>금천구</td>\n",
       "      <td>2374</td>\n",
       "      <td>0</td>\n",
       "      <td>0</td>\n",
       "      <td>178</td>\n",
       "      <td>80</td>\n",
       "      <td>361</td>\n",
       "      <td>133</td>\n",
       "      <td>196</td>\n",
       "      <td>540</td>\n",
       "      <td>369</td>\n",
       "      <td>508</td>\n",
       "      <td>9</td>\n",
       "    </tr>\n",
       "  </tbody>\n",
       "</table>\n",
       "</div>"
      ],
      "text/plain": [
       "     구별    총계  2012년 이전  2012년  2013년  2014년  2015년  2016년  2017년  2018년  \\\n",
       "9   도봉구  1629        39     22     96    181     79    159    134    222   \n",
       "0   종로구  1772       813      0      0    210    150      1    261     85   \n",
       "19  동작구  2297        41     24     25    503    128    253    271    300   \n",
       "1    중구  2333        16    114     87     77    236    240    372    386   \n",
       "17  금천구  2374         0      0    178     80    361    133    196    540   \n",
       "\n",
       "    2019년  2020년  2021년  \n",
       "9     198    168    331  \n",
       "0       9    200     43  \n",
       "19    322    419     11  \n",
       "1     155    361    289  \n",
       "17    369    508      9  "
      ]
     },
     "execution_count": 24,
     "metadata": {},
     "output_type": "execute_result"
    }
   ],
   "source": [
    "CCTV_Seoul.sort_values('총계', ascending=True).head()"
   ]
  },
  {
   "cell_type": "markdown",
   "metadata": {},
   "source": [
    "데이터를 살펴보는 것이니 따로 변수에 담아줄 필요는 없어요. 보니까 도봉구, 종로구, 동작구, 중구, 금천구가 CCTV 수로 하위 TOP5네요. 그리고 옆에 인덱스를 보면 구별에 따라서 인덱스가 적혀져 있어요. 이렇게 판다스는 고유한 인덱스가 변하지 않고 따라온다는 사실 덕분에 편하게 데이터를 가공할 수 있어요.\n",
    "\n",
    "도봉구, 금천구는 각각 북쪽, 서쪽 외곽이죠. 종로구와 중구는 강북의 중심지역이네요. 그리고 우리 학교가 있는 동작구가 CCTV가 적은 축에 속하는군요.\n",
    "\n",
    "정확히는 모르겠지만 외곽이나 큰 상권이 없거나 유동인구가 비교적 적은 곳이 많은 것 같습니다. 뭐, 더 자세한 내용은 분석을 해봐야 알겠지만요. 이런 생각을 할 수 있게 해준다는 점에서 EDA가 중요하답니다.\n",
    "\n",
    "반대로 CCTV가 많이 설치되어 있는 TOP5 구들을 봅시다."
   ]
  },
  {
   "cell_type": "code",
   "execution_count": 29,
   "metadata": {},
   "outputs": [
    {
     "data": {
      "text/html": [
       "<div>\n",
       "<style scoped>\n",
       "    .dataframe tbody tr th:only-of-type {\n",
       "        vertical-align: middle;\n",
       "    }\n",
       "\n",
       "    .dataframe tbody tr th {\n",
       "        vertical-align: top;\n",
       "    }\n",
       "\n",
       "    .dataframe thead th {\n",
       "        text-align: right;\n",
       "    }\n",
       "</style>\n",
       "<table border=\"1\" class=\"dataframe\">\n",
       "  <thead>\n",
       "    <tr style=\"text-align: right;\">\n",
       "      <th></th>\n",
       "      <th>구별</th>\n",
       "      <th>총계</th>\n",
       "      <th>2012년 이전</th>\n",
       "      <th>2012년</th>\n",
       "      <th>2013년</th>\n",
       "      <th>2014년</th>\n",
       "      <th>2015년</th>\n",
       "      <th>2016년</th>\n",
       "      <th>2017년</th>\n",
       "      <th>2018년</th>\n",
       "      <th>2019년</th>\n",
       "      <th>2020년</th>\n",
       "      <th>2021년</th>\n",
       "    </tr>\n",
       "  </thead>\n",
       "  <tbody>\n",
       "    <tr>\n",
       "      <th>22</th>\n",
       "      <td>강남구</td>\n",
       "      <td>6502</td>\n",
       "      <td>124</td>\n",
       "      <td>77</td>\n",
       "      <td>75</td>\n",
       "      <td>597</td>\n",
       "      <td>840</td>\n",
       "      <td>1310</td>\n",
       "      <td>999</td>\n",
       "      <td>748</td>\n",
       "      <td>789</td>\n",
       "      <td>942</td>\n",
       "      <td>1</td>\n",
       "    </tr>\n",
       "    <tr>\n",
       "      <th>20</th>\n",
       "      <td>관악구</td>\n",
       "      <td>4942</td>\n",
       "      <td>428</td>\n",
       "      <td>205</td>\n",
       "      <td>291</td>\n",
       "      <td>513</td>\n",
       "      <td>529</td>\n",
       "      <td>621</td>\n",
       "      <td>687</td>\n",
       "      <td>663</td>\n",
       "      <td>640</td>\n",
       "      <td>331</td>\n",
       "      <td>34</td>\n",
       "    </tr>\n",
       "    <tr>\n",
       "      <th>16</th>\n",
       "      <td>구로구</td>\n",
       "      <td>4075</td>\n",
       "      <td>852</td>\n",
       "      <td>216</td>\n",
       "      <td>349</td>\n",
       "      <td>187</td>\n",
       "      <td>268</td>\n",
       "      <td>326</td>\n",
       "      <td>540</td>\n",
       "      <td>488</td>\n",
       "      <td>434</td>\n",
       "      <td>415</td>\n",
       "      <td>0</td>\n",
       "    </tr>\n",
       "    <tr>\n",
       "      <th>7</th>\n",
       "      <td>성북구</td>\n",
       "      <td>3958</td>\n",
       "      <td>83</td>\n",
       "      <td>78</td>\n",
       "      <td>170</td>\n",
       "      <td>230</td>\n",
       "      <td>323</td>\n",
       "      <td>594</td>\n",
       "      <td>460</td>\n",
       "      <td>867</td>\n",
       "      <td>714</td>\n",
       "      <td>251</td>\n",
       "      <td>188</td>\n",
       "    </tr>\n",
       "    <tr>\n",
       "      <th>11</th>\n",
       "      <td>은평구</td>\n",
       "      <td>3791</td>\n",
       "      <td>14</td>\n",
       "      <td>3</td>\n",
       "      <td>44</td>\n",
       "      <td>332</td>\n",
       "      <td>329</td>\n",
       "      <td>555</td>\n",
       "      <td>403</td>\n",
       "      <td>635</td>\n",
       "      <td>1057</td>\n",
       "      <td>288</td>\n",
       "      <td>131</td>\n",
       "    </tr>\n",
       "  </tbody>\n",
       "</table>\n",
       "</div>"
      ],
      "text/plain": [
       "     구별    총계  2012년 이전  2012년  2013년  2014년  2015년  2016년  2017년  2018년  \\\n",
       "22  강남구  6502       124     77     75    597    840   1310    999    748   \n",
       "20  관악구  4942       428    205    291    513    529    621    687    663   \n",
       "16  구로구  4075       852    216    349    187    268    326    540    488   \n",
       "7   성북구  3958        83     78    170    230    323    594    460    867   \n",
       "11  은평구  3791        14      3     44    332    329    555    403    635   \n",
       "\n",
       "    2019년  2020년  2021년  \n",
       "22    789    942      1  \n",
       "20    640    331     34  \n",
       "16    434    415      0  \n",
       "7     714    251    188  \n",
       "11   1057    288    131  "
      ]
     },
     "execution_count": 29,
     "metadata": {},
     "output_type": "execute_result"
    }
   ],
   "source": [
    "CCTV_Seoul.sort_values(by='총계', ascending=False).head(5) "
   ]
  },
  {
   "cell_type": "markdown",
   "metadata": {},
   "source": [
    "강남과 구로는 이전과 다르게 21년에는 거의 설치하지 않았군요. 코로나19 방역 때문에 인력과 예산이 부족하거나, 유동인구가 줄어서라고 생각할 수도 있겠습니다.\n",
    "\n",
    "강남구, 관악구, 구로구, 성북구, 은평구 순이군요. 강남은 돈과 사람이 많은 곳이라서 맞는 것 같은데, 나머지 곳들은 딱히 해당하지는 않네요. 관악구, 구로구, 은평구도 외곽에 해당하니 외곽지역 가설도 생각을 조금 더 해봐야겠어요. 이렇게 EDA는 가설을 설정하고 수정하는데 도움을 준답니다."
   ]
  },
  {
   "cell_type": "markdown",
   "metadata": {},
   "source": [
    "#### 데이터 연산하기"
   ]
  },
  {
   "cell_type": "markdown",
   "metadata": {},
   "source": [
    "이 시점에서 저는 \n",
    "\n",
    "- 최근 5년 사이에 CCTV가 얼마나 증가했는지\n",
    "- 인구, 남성, 여성, 한국인, 외국인, 인구밀도, 면적, 세대당인구, 고령자가 많을 수록 CCTV가 많은지(인구가 CCTV 설치에 영향을 주는지)\n",
    "\n",
    "정도가 궁금하네요. 물론 평균 소득이나 세수를 같이 보면 좋겠지만 개인정보 때문에 제공하지 않거나 전처리가 복잡해요. 아직 할 일이 많기 때문에 추후 자율 과제로 남기겠습니다."
   ]
  },
  {
   "cell_type": "markdown",
   "metadata": {},
   "source": [
    "그럼 5년간 CCTV 증가율을 구해봅시다.\n",
    "\n",
    "$$최근5년간 CCTV 증가율 = \\frac{\\sum_{i=2017}^{2021} CCTV_i} {\\sum_{i=2012이전}^{2016} CCTV_i} \\times 100$$ \n",
    "\n",
    "- **(최근 5년간 CCTV 증가율) = (2017년 + 2018년 + 2019년 + 2020년 + 2021년) / (2016년도 이전) * 100**"
   ]
  },
  {
   "cell_type": "code",
   "execution_count": 87,
   "metadata": {},
   "outputs": [
    {
     "data": {
      "text/html": [
       "<div>\n",
       "<style scoped>\n",
       "    .dataframe tbody tr th:only-of-type {\n",
       "        vertical-align: middle;\n",
       "    }\n",
       "\n",
       "    .dataframe tbody tr th {\n",
       "        vertical-align: top;\n",
       "    }\n",
       "\n",
       "    .dataframe thead th {\n",
       "        text-align: right;\n",
       "    }\n",
       "</style>\n",
       "<table border=\"1\" class=\"dataframe\">\n",
       "  <thead>\n",
       "    <tr style=\"text-align: right;\">\n",
       "      <th></th>\n",
       "      <th>구별</th>\n",
       "      <th>총계</th>\n",
       "      <th>2012년 이전</th>\n",
       "      <th>2012년</th>\n",
       "      <th>2013년</th>\n",
       "      <th>2014년</th>\n",
       "      <th>2015년</th>\n",
       "      <th>2016년</th>\n",
       "      <th>2017년</th>\n",
       "      <th>2018년</th>\n",
       "      <th>2019년</th>\n",
       "      <th>2020년</th>\n",
       "      <th>2021년</th>\n",
       "      <th>최근증가율</th>\n",
       "    </tr>\n",
       "  </thead>\n",
       "  <tbody>\n",
       "    <tr>\n",
       "      <th>8</th>\n",
       "      <td>강북구</td>\n",
       "      <td>2462</td>\n",
       "      <td>0</td>\n",
       "      <td>0</td>\n",
       "      <td>24</td>\n",
       "      <td>65</td>\n",
       "      <td>105</td>\n",
       "      <td>243</td>\n",
       "      <td>6</td>\n",
       "      <td>392</td>\n",
       "      <td>1000</td>\n",
       "      <td>588</td>\n",
       "      <td>39</td>\n",
       "      <td>463.386728</td>\n",
       "    </tr>\n",
       "    <tr>\n",
       "      <th>4</th>\n",
       "      <td>광진구</td>\n",
       "      <td>2588</td>\n",
       "      <td>35</td>\n",
       "      <td>57</td>\n",
       "      <td>100</td>\n",
       "      <td>187</td>\n",
       "      <td>98</td>\n",
       "      <td>52</td>\n",
       "      <td>675</td>\n",
       "      <td>465</td>\n",
       "      <td>712</td>\n",
       "      <td>175</td>\n",
       "      <td>32</td>\n",
       "      <td>436.228814</td>\n",
       "    </tr>\n",
       "    <tr>\n",
       "      <th>23</th>\n",
       "      <td>송파구</td>\n",
       "      <td>2854</td>\n",
       "      <td>72</td>\n",
       "      <td>61</td>\n",
       "      <td>86</td>\n",
       "      <td>85</td>\n",
       "      <td>215</td>\n",
       "      <td>148</td>\n",
       "      <td>241</td>\n",
       "      <td>542</td>\n",
       "      <td>1068</td>\n",
       "      <td>235</td>\n",
       "      <td>101</td>\n",
       "      <td>360.891089</td>\n",
       "    </tr>\n",
       "    <tr>\n",
       "      <th>6</th>\n",
       "      <td>중랑구</td>\n",
       "      <td>3296</td>\n",
       "      <td>302</td>\n",
       "      <td>24</td>\n",
       "      <td>253</td>\n",
       "      <td>88</td>\n",
       "      <td>141</td>\n",
       "      <td>161</td>\n",
       "      <td>162</td>\n",
       "      <td>173</td>\n",
       "      <td>1049</td>\n",
       "      <td>939</td>\n",
       "      <td>4</td>\n",
       "      <td>246.243386</td>\n",
       "    </tr>\n",
       "    <tr>\n",
       "      <th>1</th>\n",
       "      <td>중구</td>\n",
       "      <td>2333</td>\n",
       "      <td>16</td>\n",
       "      <td>114</td>\n",
       "      <td>87</td>\n",
       "      <td>77</td>\n",
       "      <td>236</td>\n",
       "      <td>240</td>\n",
       "      <td>372</td>\n",
       "      <td>386</td>\n",
       "      <td>155</td>\n",
       "      <td>361</td>\n",
       "      <td>289</td>\n",
       "      <td>238.262195</td>\n",
       "    </tr>\n",
       "  </tbody>\n",
       "</table>\n",
       "</div>"
      ],
      "text/plain": [
       "     구별    총계  2012년 이전  2012년  2013년  2014년  2015년  2016년  2017년  2018년  \\\n",
       "8   강북구  2462         0      0     24     65    105    243      6    392   \n",
       "4   광진구  2588        35     57    100    187     98     52    675    465   \n",
       "23  송파구  2854        72     61     86     85    215    148    241    542   \n",
       "6   중랑구  3296       302     24    253     88    141    161    162    173   \n",
       "1    중구  2333        16    114     87     77    236    240    372    386   \n",
       "\n",
       "    2019년  2020년  2021년       최근증가율  \n",
       "8    1000    588     39  463.386728  \n",
       "4     712    175     32  436.228814  \n",
       "23   1068    235    101  360.891089  \n",
       "6    1049    939      4  246.243386  \n",
       "1     155    361    289  238.262195  "
      ]
     },
     "execution_count": 87,
     "metadata": {},
     "output_type": "execute_result"
    }
   ],
   "source": [
    "# 최근 5년간 CCTV 설치 증가율\n",
    "CCTV_Seoul['최근증가율'] = ((CCTV_Seoul['2017년'] + CCTV_Seoul['2018년'] \n",
    "                       + CCTV_Seoul['2019년'] + CCTV_Seoul['2020년'] + CCTV_Seoul['2021년'])\n",
    "                       / (CCTV_Seoul['2012년 이전'] + CCTV_Seoul['2013년'] + CCTV_Seoul['2014년']\n",
    "                        + CCTV_Seoul['2015년'] + CCTV_Seoul['2016년'])\n",
    "                       ) * 100\n",
    "CCTV_Seoul.sort_values(by='최근증가율', ascending=False).head(5)"
   ]
  },
  {
   "cell_type": "markdown",
   "metadata": {},
   "source": [
    "#### 데이터 탐색\n",
    "\n",
    "전체 인구 중 여성, 외국인, 고령자 비율을 계산해 봅시다. 인구 특성을 반영했는지 알아보는거예요!"
   ]
  },
  {
   "cell_type": "code",
   "execution_count": 157,
   "metadata": {},
   "outputs": [
    {
     "data": {
      "text/html": [
       "<div>\n",
       "<style scoped>\n",
       "    .dataframe tbody tr th:only-of-type {\n",
       "        vertical-align: middle;\n",
       "    }\n",
       "\n",
       "    .dataframe tbody tr th {\n",
       "        vertical-align: top;\n",
       "    }\n",
       "\n",
       "    .dataframe thead th {\n",
       "        text-align: right;\n",
       "    }\n",
       "</style>\n",
       "<table border=\"1\" class=\"dataframe\">\n",
       "  <thead>\n",
       "    <tr style=\"text-align: right;\">\n",
       "      <th></th>\n",
       "      <th>기간</th>\n",
       "      <th>구별</th>\n",
       "      <th>인구수</th>\n",
       "      <th>남성</th>\n",
       "      <th>여성</th>\n",
       "      <th>한국인</th>\n",
       "      <th>외국인</th>\n",
       "      <th>세대당인구</th>\n",
       "      <th>고령자</th>\n",
       "      <th>여성비율</th>\n",
       "      <th>외국인비율</th>\n",
       "      <th>고령자비율</th>\n",
       "    </tr>\n",
       "  </thead>\n",
       "  <tbody>\n",
       "    <tr>\n",
       "      <th>1</th>\n",
       "      <td>2012</td>\n",
       "      <td>종로구</td>\n",
       "      <td>173148</td>\n",
       "      <td>85997</td>\n",
       "      <td>87151</td>\n",
       "      <td>165207</td>\n",
       "      <td>7941</td>\n",
       "      <td>2.18</td>\n",
       "      <td>23868</td>\n",
       "      <td>50.333241</td>\n",
       "      <td>4.586250</td>\n",
       "      <td>13.784739</td>\n",
       "    </tr>\n",
       "    <tr>\n",
       "      <th>2</th>\n",
       "      <td>2012</td>\n",
       "      <td>중구</td>\n",
       "      <td>140807</td>\n",
       "      <td>70762</td>\n",
       "      <td>70045</td>\n",
       "      <td>133360</td>\n",
       "      <td>7447</td>\n",
       "      <td>2.17</td>\n",
       "      <td>18875</td>\n",
       "      <td>49.745396</td>\n",
       "      <td>5.288800</td>\n",
       "      <td>13.404873</td>\n",
       "    </tr>\n",
       "    <tr>\n",
       "      <th>3</th>\n",
       "      <td>2012</td>\n",
       "      <td>용산구</td>\n",
       "      <td>255294</td>\n",
       "      <td>124708</td>\n",
       "      <td>130586</td>\n",
       "      <td>243232</td>\n",
       "      <td>12062</td>\n",
       "      <td>2.20</td>\n",
       "      <td>33027</td>\n",
       "      <td>51.151222</td>\n",
       "      <td>4.724749</td>\n",
       "      <td>12.936849</td>\n",
       "    </tr>\n",
       "    <tr>\n",
       "      <th>4</th>\n",
       "      <td>2012</td>\n",
       "      <td>성동구</td>\n",
       "      <td>306868</td>\n",
       "      <td>153272</td>\n",
       "      <td>153596</td>\n",
       "      <td>299604</td>\n",
       "      <td>7264</td>\n",
       "      <td>2.38</td>\n",
       "      <td>34180</td>\n",
       "      <td>50.052791</td>\n",
       "      <td>2.367142</td>\n",
       "      <td>11.138340</td>\n",
       "    </tr>\n",
       "    <tr>\n",
       "      <th>5</th>\n",
       "      <td>2012</td>\n",
       "      <td>광진구</td>\n",
       "      <td>384269</td>\n",
       "      <td>189367</td>\n",
       "      <td>194902</td>\n",
       "      <td>371313</td>\n",
       "      <td>12956</td>\n",
       "      <td>2.34</td>\n",
       "      <td>35759</td>\n",
       "      <td>50.720199</td>\n",
       "      <td>3.371596</td>\n",
       "      <td>9.305721</td>\n",
       "    </tr>\n",
       "  </tbody>\n",
       "</table>\n",
       "</div>"
      ],
      "text/plain": [
       "     기간   구별     인구수      남성      여성     한국인    외국인  세대당인구    고령자       여성비율  \\\n",
       "1  2012  종로구  173148   85997   87151  165207   7941   2.18  23868  50.333241   \n",
       "2  2012   중구  140807   70762   70045  133360   7447   2.17  18875  49.745396   \n",
       "3  2012  용산구  255294  124708  130586  243232  12062   2.20  33027  51.151222   \n",
       "4  2012  성동구  306868  153272  153596  299604   7264   2.38  34180  50.052791   \n",
       "5  2012  광진구  384269  189367  194902  371313  12956   2.34  35759  50.720199   \n",
       "\n",
       "      외국인비율      고령자비율  \n",
       "1  4.586250  13.784739  \n",
       "2  5.288800  13.404873  \n",
       "3  4.724749  12.936849  \n",
       "4  2.367142  11.138340  \n",
       "5  3.371596   9.305721  "
      ]
     },
     "execution_count": 157,
     "metadata": {},
     "output_type": "execute_result"
    }
   ],
   "source": [
    "pop_Seoul['여성비율'] = pop_Seoul['여성'] / pop_Seoul['인구수'] * 100 #여성비율 칼럼 생성\n",
    "pop_Seoul['외국인비율'] = pop_Seoul['외국인'] / pop_Seoul['인구수'] * 100 #외국인비율 칼럼 생성\n",
    "pop_Seoul['고령자비율'] = pop_Seoul['고령자'] / pop_Seoul['인구수'] * 100 #고령자비율 칼럼 생성\n",
    "pop_Seoul.head()"
   ]
  },
  {
   "cell_type": "markdown",
   "metadata": {},
   "source": [
    "오름차순, 내림차순으로 알아봅시다."
   ]
  },
  {
   "cell_type": "code",
   "execution_count": 158,
   "metadata": {},
   "outputs": [
    {
     "data": {
      "text/html": [
       "<div>\n",
       "<style scoped>\n",
       "    .dataframe tbody tr th:only-of-type {\n",
       "        vertical-align: middle;\n",
       "    }\n",
       "\n",
       "    .dataframe tbody tr th {\n",
       "        vertical-align: top;\n",
       "    }\n",
       "\n",
       "    .dataframe thead th {\n",
       "        text-align: right;\n",
       "    }\n",
       "</style>\n",
       "<table border=\"1\" class=\"dataframe\">\n",
       "  <thead>\n",
       "    <tr style=\"text-align: right;\">\n",
       "      <th></th>\n",
       "      <th>기간</th>\n",
       "      <th>구별</th>\n",
       "      <th>인구수</th>\n",
       "      <th>남성</th>\n",
       "      <th>여성</th>\n",
       "      <th>한국인</th>\n",
       "      <th>외국인</th>\n",
       "      <th>세대당인구</th>\n",
       "      <th>고령자</th>\n",
       "      <th>여성비율</th>\n",
       "      <th>외국인비율</th>\n",
       "      <th>고령자비율</th>\n",
       "    </tr>\n",
       "  </thead>\n",
       "  <tbody>\n",
       "    <tr>\n",
       "      <th>206</th>\n",
       "      <td>2019</td>\n",
       "      <td>송파구</td>\n",
       "      <td>682741</td>\n",
       "      <td>330412</td>\n",
       "      <td>352329</td>\n",
       "      <td>675961</td>\n",
       "      <td>6780</td>\n",
       "      <td>2.43</td>\n",
       "      <td>87334</td>\n",
       "      <td>51.605074</td>\n",
       "      <td>0.993056</td>\n",
       "      <td>12.791674</td>\n",
       "    </tr>\n",
       "    <tr>\n",
       "      <th>24</th>\n",
       "      <td>2012</td>\n",
       "      <td>송파구</td>\n",
       "      <td>680150</td>\n",
       "      <td>333060</td>\n",
       "      <td>347090</td>\n",
       "      <td>673115</td>\n",
       "      <td>7035</td>\n",
       "      <td>2.61</td>\n",
       "      <td>58490</td>\n",
       "      <td>51.031390</td>\n",
       "      <td>1.034331</td>\n",
       "      <td>8.599574</td>\n",
       "    </tr>\n",
       "    <tr>\n",
       "      <th>50</th>\n",
       "      <td>2013</td>\n",
       "      <td>송파구</td>\n",
       "      <td>674955</td>\n",
       "      <td>330030</td>\n",
       "      <td>344925</td>\n",
       "      <td>668415</td>\n",
       "      <td>6540</td>\n",
       "      <td>2.60</td>\n",
       "      <td>61745</td>\n",
       "      <td>51.103407</td>\n",
       "      <td>0.968953</td>\n",
       "      <td>9.148017</td>\n",
       "    </tr>\n",
       "    <tr>\n",
       "      <th>232</th>\n",
       "      <td>2020</td>\n",
       "      <td>송파구</td>\n",
       "      <td>673926</td>\n",
       "      <td>325080</td>\n",
       "      <td>348846</td>\n",
       "      <td>667960</td>\n",
       "      <td>5966</td>\n",
       "      <td>2.37</td>\n",
       "      <td>93483</td>\n",
       "      <td>51.763250</td>\n",
       "      <td>0.885260</td>\n",
       "      <td>13.871404</td>\n",
       "    </tr>\n",
       "    <tr>\n",
       "      <th>180</th>\n",
       "      <td>2018</td>\n",
       "      <td>송파구</td>\n",
       "      <td>673507</td>\n",
       "      <td>326849</td>\n",
       "      <td>346658</td>\n",
       "      <td>666635</td>\n",
       "      <td>6872</td>\n",
       "      <td>2.46</td>\n",
       "      <td>81364</td>\n",
       "      <td>51.470586</td>\n",
       "      <td>1.020331</td>\n",
       "      <td>12.080647</td>\n",
       "    </tr>\n",
       "  </tbody>\n",
       "</table>\n",
       "</div>"
      ],
      "text/plain": [
       "       기간   구별     인구수      남성      여성     한국인   외국인  세대당인구    고령자       여성비율  \\\n",
       "206  2019  송파구  682741  330412  352329  675961  6780   2.43  87334  51.605074   \n",
       "24   2012  송파구  680150  333060  347090  673115  7035   2.61  58490  51.031390   \n",
       "50   2013  송파구  674955  330030  344925  668415  6540   2.60  61745  51.103407   \n",
       "232  2020  송파구  673926  325080  348846  667960  5966   2.37  93483  51.763250   \n",
       "180  2018  송파구  673507  326849  346658  666635  6872   2.46  81364  51.470586   \n",
       "\n",
       "        외국인비율      고령자비율  \n",
       "206  0.993056  12.791674  \n",
       "24   1.034331   8.599574  \n",
       "50   0.968953   9.148017  \n",
       "232  0.885260  13.871404  \n",
       "180  1.020331  12.080647  "
      ]
     },
     "execution_count": 158,
     "metadata": {},
     "output_type": "execute_result"
    }
   ],
   "source": [
    "pop_Seoul.sort_values(by='인구수', ascending=False).head(5)"
   ]
  },
  {
   "cell_type": "markdown",
   "metadata": {},
   "source": [
    "이런! 여러 시간대의 데이터가 같이 있어서 인구가 제일 많은 송파구만 나오는군요. 우리는 시기별로 인구가 많은 곳을 순서대로 알고 싶잖아요. 이럴때는 시각화하면 한눈에 알아볼 수 있답니다. 그 전에 저는 기간, 구별로 groupby를 해 줄거예요."
   ]
  },
  {
   "cell_type": "code",
   "execution_count": 159,
   "metadata": {},
   "outputs": [],
   "source": [
    "import datetime\n",
    "\n",
    "pop_Seoul['기간'] = pop_Seoul['기간'].astype(str)\n",
    "pop_Seoul['기간'] = pd.to_datetime(pop_Seoul['기간'])"
   ]
  },
  {
   "cell_type": "code",
   "execution_count": 160,
   "metadata": {},
   "outputs": [],
   "source": [
    "pop_Seoul['기간'] = pop_Seoul['기간'].dt.year"
   ]
  },
  {
   "cell_type": "code",
   "execution_count": 161,
   "metadata": {},
   "outputs": [
    {
     "data": {
      "text/html": [
       "<div>\n",
       "<style scoped>\n",
       "    .dataframe tbody tr th:only-of-type {\n",
       "        vertical-align: middle;\n",
       "    }\n",
       "\n",
       "    .dataframe tbody tr th {\n",
       "        vertical-align: top;\n",
       "    }\n",
       "\n",
       "    .dataframe thead th {\n",
       "        text-align: right;\n",
       "    }\n",
       "</style>\n",
       "<table border=\"1\" class=\"dataframe\">\n",
       "  <thead>\n",
       "    <tr style=\"text-align: right;\">\n",
       "      <th></th>\n",
       "      <th></th>\n",
       "      <th>인구수</th>\n",
       "      <th>남성</th>\n",
       "      <th>여성</th>\n",
       "      <th>한국인</th>\n",
       "      <th>외국인</th>\n",
       "      <th>세대당인구</th>\n",
       "      <th>고령자</th>\n",
       "      <th>여성비율</th>\n",
       "      <th>외국인비율</th>\n",
       "      <th>고령자비율</th>\n",
       "    </tr>\n",
       "    <tr>\n",
       "      <th>기간</th>\n",
       "      <th>구별</th>\n",
       "      <th></th>\n",
       "      <th></th>\n",
       "      <th></th>\n",
       "      <th></th>\n",
       "      <th></th>\n",
       "      <th></th>\n",
       "      <th></th>\n",
       "      <th></th>\n",
       "      <th></th>\n",
       "      <th></th>\n",
       "    </tr>\n",
       "  </thead>\n",
       "  <tbody>\n",
       "    <tr>\n",
       "      <th rowspan=\"5\" valign=\"top\">2012</th>\n",
       "      <th>강남구</th>\n",
       "      <td>569997</td>\n",
       "      <td>274124</td>\n",
       "      <td>295873</td>\n",
       "      <td>564197</td>\n",
       "      <td>5800</td>\n",
       "      <td>2.45</td>\n",
       "      <td>50348</td>\n",
       "      <td>51.907817</td>\n",
       "      <td>1.017549</td>\n",
       "      <td>8.833029</td>\n",
       "    </tr>\n",
       "    <tr>\n",
       "      <th>강동구</th>\n",
       "      <td>492728</td>\n",
       "      <td>246237</td>\n",
       "      <td>246491</td>\n",
       "      <td>487905</td>\n",
       "      <td>4823</td>\n",
       "      <td>2.60</td>\n",
       "      <td>44941</td>\n",
       "      <td>50.025775</td>\n",
       "      <td>0.978836</td>\n",
       "      <td>9.120854</td>\n",
       "    </tr>\n",
       "    <tr>\n",
       "      <th>강북구</th>\n",
       "      <td>346493</td>\n",
       "      <td>171099</td>\n",
       "      <td>175394</td>\n",
       "      <td>343157</td>\n",
       "      <td>3336</td>\n",
       "      <td>2.41</td>\n",
       "      <td>46222</td>\n",
       "      <td>50.619782</td>\n",
       "      <td>0.962790</td>\n",
       "      <td>13.339952</td>\n",
       "    </tr>\n",
       "    <tr>\n",
       "      <th>강서구</th>\n",
       "      <td>573794</td>\n",
       "      <td>282185</td>\n",
       "      <td>291609</td>\n",
       "      <td>567431</td>\n",
       "      <td>6363</td>\n",
       "      <td>2.54</td>\n",
       "      <td>55821</td>\n",
       "      <td>50.821201</td>\n",
       "      <td>1.108935</td>\n",
       "      <td>9.728404</td>\n",
       "    </tr>\n",
       "    <tr>\n",
       "      <th>관악구</th>\n",
       "      <td>540520</td>\n",
       "      <td>273640</td>\n",
       "      <td>266880</td>\n",
       "      <td>523029</td>\n",
       "      <td>17491</td>\n",
       "      <td>2.11</td>\n",
       "      <td>56620</td>\n",
       "      <td>49.374676</td>\n",
       "      <td>3.235958</td>\n",
       "      <td>10.475098</td>\n",
       "    </tr>\n",
       "    <tr>\n",
       "      <th>...</th>\n",
       "      <th>...</th>\n",
       "      <td>...</td>\n",
       "      <td>...</td>\n",
       "      <td>...</td>\n",
       "      <td>...</td>\n",
       "      <td>...</td>\n",
       "      <td>...</td>\n",
       "      <td>...</td>\n",
       "      <td>...</td>\n",
       "      <td>...</td>\n",
       "      <td>...</td>\n",
       "    </tr>\n",
       "    <tr>\n",
       "      <th rowspan=\"5\" valign=\"top\">2021</th>\n",
       "      <th>용산구</th>\n",
       "      <td>237285</td>\n",
       "      <td>115085</td>\n",
       "      <td>122200</td>\n",
       "      <td>222953</td>\n",
       "      <td>14332</td>\n",
       "      <td>2.01</td>\n",
       "      <td>39070</td>\n",
       "      <td>51.499252</td>\n",
       "      <td>6.039994</td>\n",
       "      <td>16.465432</td>\n",
       "    </tr>\n",
       "    <tr>\n",
       "      <th>은평구</th>\n",
       "      <td>477173</td>\n",
       "      <td>228024</td>\n",
       "      <td>249149</td>\n",
       "      <td>473307</td>\n",
       "      <td>3866</td>\n",
       "      <td>2.20</td>\n",
       "      <td>87241</td>\n",
       "      <td>52.213558</td>\n",
       "      <td>0.810188</td>\n",
       "      <td>18.282887</td>\n",
       "    </tr>\n",
       "    <tr>\n",
       "      <th>종로구</th>\n",
       "      <td>153789</td>\n",
       "      <td>74186</td>\n",
       "      <td>79603</td>\n",
       "      <td>144683</td>\n",
       "      <td>9106</td>\n",
       "      <td>1.97</td>\n",
       "      <td>27818</td>\n",
       "      <td>51.761179</td>\n",
       "      <td>5.921100</td>\n",
       "      <td>18.088420</td>\n",
       "    </tr>\n",
       "    <tr>\n",
       "      <th>중구</th>\n",
       "      <td>131787</td>\n",
       "      <td>64083</td>\n",
       "      <td>67704</td>\n",
       "      <td>122499</td>\n",
       "      <td>9288</td>\n",
       "      <td>1.93</td>\n",
       "      <td>24392</td>\n",
       "      <td>51.373808</td>\n",
       "      <td>7.047736</td>\n",
       "      <td>18.508654</td>\n",
       "    </tr>\n",
       "    <tr>\n",
       "      <th>중랑구</th>\n",
       "      <td>391885</td>\n",
       "      <td>192903</td>\n",
       "      <td>198982</td>\n",
       "      <td>387350</td>\n",
       "      <td>4535</td>\n",
       "      <td>2.09</td>\n",
       "      <td>71682</td>\n",
       "      <td>50.775610</td>\n",
       "      <td>1.157227</td>\n",
       "      <td>18.291591</td>\n",
       "    </tr>\n",
       "  </tbody>\n",
       "</table>\n",
       "<p>250 rows × 10 columns</p>\n",
       "</div>"
      ],
      "text/plain": [
       "             인구수      남성      여성     한국인    외국인  세대당인구    고령자       여성비율  \\\n",
       "기간   구별                                                                    \n",
       "2012 강남구  569997  274124  295873  564197   5800   2.45  50348  51.907817   \n",
       "     강동구  492728  246237  246491  487905   4823   2.60  44941  50.025775   \n",
       "     강북구  346493  171099  175394  343157   3336   2.41  46222  50.619782   \n",
       "     강서구  573794  282185  291609  567431   6363   2.54  55821  50.821201   \n",
       "     관악구  540520  273640  266880  523029  17491   2.11  56620  49.374676   \n",
       "...          ...     ...     ...     ...    ...    ...    ...        ...   \n",
       "2021 용산구  237285  115085  122200  222953  14332   2.01  39070  51.499252   \n",
       "     은평구  477173  228024  249149  473307   3866   2.20  87241  52.213558   \n",
       "     종로구  153789   74186   79603  144683   9106   1.97  27818  51.761179   \n",
       "     중구   131787   64083   67704  122499   9288   1.93  24392  51.373808   \n",
       "     중랑구  391885  192903  198982  387350   4535   2.09  71682  50.775610   \n",
       "\n",
       "             외국인비율      고령자비율  \n",
       "기간   구별                        \n",
       "2012 강남구  1.017549   8.833029  \n",
       "     강동구  0.978836   9.120854  \n",
       "     강북구  0.962790  13.339952  \n",
       "     강서구  1.108935   9.728404  \n",
       "     관악구  3.235958  10.475098  \n",
       "...            ...        ...  \n",
       "2021 용산구  6.039994  16.465432  \n",
       "     은평구  0.810188  18.282887  \n",
       "     종로구  5.921100  18.088420  \n",
       "     중구   7.047736  18.508654  \n",
       "     중랑구  1.157227  18.291591  \n",
       "\n",
       "[250 rows x 10 columns]"
      ]
     },
     "execution_count": 161,
     "metadata": {},
     "output_type": "execute_result"
    }
   ],
   "source": [
    "pop_Seoul_gby = pop_Seoul.groupby(['기간','구별']).sum()\n",
    "pop_Seoul_gby# = pd.to_DataFrame(pop_Seoul_gby)"
   ]
  },
  {
   "cell_type": "markdown",
   "metadata": {},
   "source": [
    "#### 데이터 병합하기\n",
    "\n",
    "이렇게 데이터를 하나씩 보면서 인구 데이터와 CCTV 데이터의 특징을 살펴봤어요. 그런데 아직 우리는 인구 대비 CCTV 현황을 보지 못했죠? 이 데이터는 따로 존재하기 때문에 두 데이터를 병합해야 해요. 판다스에서 merge()를 배웠으니, 이것을 사용하여 데이터를 옆으로 병합해 보겠습니다."
   ]
  },
  {
   "cell_type": "code",
   "execution_count": 163,
   "metadata": {},
   "outputs": [
    {
     "data": {
      "text/html": [
       "<div>\n",
       "<style scoped>\n",
       "    .dataframe tbody tr th:only-of-type {\n",
       "        vertical-align: middle;\n",
       "    }\n",
       "\n",
       "    .dataframe tbody tr th {\n",
       "        vertical-align: top;\n",
       "    }\n",
       "\n",
       "    .dataframe thead th {\n",
       "        text-align: right;\n",
       "    }\n",
       "</style>\n",
       "<table border=\"1\" class=\"dataframe\">\n",
       "  <thead>\n",
       "    <tr style=\"text-align: right;\">\n",
       "      <th></th>\n",
       "      <th>구별</th>\n",
       "      <th>총계</th>\n",
       "      <th>2012년 이전</th>\n",
       "      <th>2012년</th>\n",
       "      <th>2013년</th>\n",
       "      <th>2014년</th>\n",
       "      <th>2015년</th>\n",
       "      <th>2016년</th>\n",
       "      <th>2017년</th>\n",
       "      <th>2018년</th>\n",
       "      <th>...</th>\n",
       "      <th>인구수</th>\n",
       "      <th>남성</th>\n",
       "      <th>여성</th>\n",
       "      <th>한국인</th>\n",
       "      <th>외국인</th>\n",
       "      <th>세대당인구</th>\n",
       "      <th>고령자</th>\n",
       "      <th>여성비율</th>\n",
       "      <th>외국인비율</th>\n",
       "      <th>고령자비율</th>\n",
       "    </tr>\n",
       "  </thead>\n",
       "  <tbody>\n",
       "    <tr>\n",
       "      <th>0</th>\n",
       "      <td>종로구</td>\n",
       "      <td>1772</td>\n",
       "      <td>813</td>\n",
       "      <td>0</td>\n",
       "      <td>0</td>\n",
       "      <td>210</td>\n",
       "      <td>150</td>\n",
       "      <td>1</td>\n",
       "      <td>261</td>\n",
       "      <td>85</td>\n",
       "      <td>...</td>\n",
       "      <td>173148</td>\n",
       "      <td>85997</td>\n",
       "      <td>87151</td>\n",
       "      <td>165207</td>\n",
       "      <td>7941</td>\n",
       "      <td>2.18</td>\n",
       "      <td>23868</td>\n",
       "      <td>50.333241</td>\n",
       "      <td>4.586250</td>\n",
       "      <td>13.784739</td>\n",
       "    </tr>\n",
       "    <tr>\n",
       "      <th>1</th>\n",
       "      <td>종로구</td>\n",
       "      <td>1772</td>\n",
       "      <td>813</td>\n",
       "      <td>0</td>\n",
       "      <td>0</td>\n",
       "      <td>210</td>\n",
       "      <td>150</td>\n",
       "      <td>1</td>\n",
       "      <td>261</td>\n",
       "      <td>85</td>\n",
       "      <td>...</td>\n",
       "      <td>167867</td>\n",
       "      <td>83211</td>\n",
       "      <td>84656</td>\n",
       "      <td>160070</td>\n",
       "      <td>7797</td>\n",
       "      <td>2.17</td>\n",
       "      <td>23997</td>\n",
       "      <td>50.430400</td>\n",
       "      <td>4.644749</td>\n",
       "      <td>14.295246</td>\n",
       "    </tr>\n",
       "    <tr>\n",
       "      <th>2</th>\n",
       "      <td>종로구</td>\n",
       "      <td>1772</td>\n",
       "      <td>813</td>\n",
       "      <td>0</td>\n",
       "      <td>0</td>\n",
       "      <td>210</td>\n",
       "      <td>150</td>\n",
       "      <td>1</td>\n",
       "      <td>261</td>\n",
       "      <td>85</td>\n",
       "      <td>...</td>\n",
       "      <td>165344</td>\n",
       "      <td>81439</td>\n",
       "      <td>83905</td>\n",
       "      <td>156993</td>\n",
       "      <td>8351</td>\n",
       "      <td>2.15</td>\n",
       "      <td>24537</td>\n",
       "      <td>50.745718</td>\n",
       "      <td>5.050682</td>\n",
       "      <td>14.839970</td>\n",
       "    </tr>\n",
       "    <tr>\n",
       "      <th>3</th>\n",
       "      <td>종로구</td>\n",
       "      <td>1772</td>\n",
       "      <td>813</td>\n",
       "      <td>0</td>\n",
       "      <td>0</td>\n",
       "      <td>210</td>\n",
       "      <td>150</td>\n",
       "      <td>1</td>\n",
       "      <td>261</td>\n",
       "      <td>85</td>\n",
       "      <td>...</td>\n",
       "      <td>163822</td>\n",
       "      <td>80531</td>\n",
       "      <td>83291</td>\n",
       "      <td>154986</td>\n",
       "      <td>8836</td>\n",
       "      <td>2.13</td>\n",
       "      <td>24892</td>\n",
       "      <td>50.842378</td>\n",
       "      <td>5.393659</td>\n",
       "      <td>15.194540</td>\n",
       "    </tr>\n",
       "    <tr>\n",
       "      <th>4</th>\n",
       "      <td>종로구</td>\n",
       "      <td>1772</td>\n",
       "      <td>813</td>\n",
       "      <td>0</td>\n",
       "      <td>0</td>\n",
       "      <td>210</td>\n",
       "      <td>150</td>\n",
       "      <td>1</td>\n",
       "      <td>261</td>\n",
       "      <td>85</td>\n",
       "      <td>...</td>\n",
       "      <td>161922</td>\n",
       "      <td>79322</td>\n",
       "      <td>82600</td>\n",
       "      <td>152737</td>\n",
       "      <td>9185</td>\n",
       "      <td>2.12</td>\n",
       "      <td>25091</td>\n",
       "      <td>51.012216</td>\n",
       "      <td>5.672484</td>\n",
       "      <td>15.495733</td>\n",
       "    </tr>\n",
       "  </tbody>\n",
       "</table>\n",
       "<p>5 rows × 25 columns</p>\n",
       "</div>"
      ],
      "text/plain": [
       "    구별    총계  2012년 이전  2012년  2013년  2014년  2015년  2016년  2017년  2018년  ...  \\\n",
       "0  종로구  1772       813      0      0    210    150      1    261     85  ...   \n",
       "1  종로구  1772       813      0      0    210    150      1    261     85  ...   \n",
       "2  종로구  1772       813      0      0    210    150      1    261     85  ...   \n",
       "3  종로구  1772       813      0      0    210    150      1    261     85  ...   \n",
       "4  종로구  1772       813      0      0    210    150      1    261     85  ...   \n",
       "\n",
       "      인구수     남성     여성     한국인   외국인  세대당인구    고령자       여성비율     외국인비율  \\\n",
       "0  173148  85997  87151  165207  7941   2.18  23868  50.333241  4.586250   \n",
       "1  167867  83211  84656  160070  7797   2.17  23997  50.430400  4.644749   \n",
       "2  165344  81439  83905  156993  8351   2.15  24537  50.745718  5.050682   \n",
       "3  163822  80531  83291  154986  8836   2.13  24892  50.842378  5.393659   \n",
       "4  161922  79322  82600  152737  9185   2.12  25091  51.012216  5.672484   \n",
       "\n",
       "       고령자비율  \n",
       "0  13.784739  \n",
       "1  14.295246  \n",
       "2  14.839970  \n",
       "3  15.194540  \n",
       "4  15.495733  \n",
       "\n",
       "[5 rows x 25 columns]"
      ]
     },
     "execution_count": 163,
     "metadata": {},
     "output_type": "execute_result"
    }
   ],
   "source": [
    "# data_result라는 새로운 변수에 담아줄게요! \n",
    "data_result = pd.merge(CCTV_Seoul, pop_Seoul, on='구별')\n",
    "data_result.head()"
   ]
  },
  {
   "cell_type": "markdown",
   "metadata": {},
   "source": [
    "이제 앞에서 column이름은 구별로 공통적으로 처리했는지 아시겠죠? 두 데이터의 공통 컬럼인 '구별'로 merge를 하면 공통된 key를 가진 데이터만 남게 됩니다.\n",
    "\n",
    "#### 데이터 삭제하기\n",
    "\n",
    "그러면 이제 분석에 필요없는 칼럼들을 지워봅시다. 다른 지표가 현재 개수와 최근 증가율에 영향을 끼쳤다는 가설을 기반으로 분석할 거예요. '소계','최근증가율' 빼고는 필요하지 않으니까 drop()을 사용하여 지워보겠습니다. drop()은 기본이 axis=0이니까 column을 삭제하려면 axis=1로 해야겠죠?"
   ]
  },
  {
   "cell_type": "code",
   "execution_count": 164,
   "metadata": {},
   "outputs": [],
   "source": [
    "data_result = data_result.drop(['2012년 이전', '2012년', '2013년', '2014년',\n",
    "                                '2015년', '2016년', '2017년', '2018년', '2019년',\n",
    "                                '2020년', '2021년', \n",
    "                                '남성', '여성', '여성비율'], axis = 1)\n"
   ]
  },
  {
   "cell_type": "code",
   "execution_count": 165,
   "metadata": {},
   "outputs": [
    {
     "data": {
      "text/html": [
       "<div>\n",
       "<style scoped>\n",
       "    .dataframe tbody tr th:only-of-type {\n",
       "        vertical-align: middle;\n",
       "    }\n",
       "\n",
       "    .dataframe tbody tr th {\n",
       "        vertical-align: top;\n",
       "    }\n",
       "\n",
       "    .dataframe thead th {\n",
       "        text-align: right;\n",
       "    }\n",
       "</style>\n",
       "<table border=\"1\" class=\"dataframe\">\n",
       "  <thead>\n",
       "    <tr style=\"text-align: right;\">\n",
       "      <th></th>\n",
       "      <th>구별</th>\n",
       "      <th>총계</th>\n",
       "      <th>최근증가율</th>\n",
       "      <th>기간</th>\n",
       "      <th>인구수</th>\n",
       "      <th>한국인</th>\n",
       "      <th>외국인</th>\n",
       "      <th>세대당인구</th>\n",
       "      <th>고령자</th>\n",
       "      <th>외국인비율</th>\n",
       "      <th>고령자비율</th>\n",
       "    </tr>\n",
       "  </thead>\n",
       "  <tbody>\n",
       "    <tr>\n",
       "      <th>0</th>\n",
       "      <td>종로구</td>\n",
       "      <td>1772</td>\n",
       "      <td>50.936968</td>\n",
       "      <td>2012</td>\n",
       "      <td>173148</td>\n",
       "      <td>165207</td>\n",
       "      <td>7941</td>\n",
       "      <td>2.18</td>\n",
       "      <td>23868</td>\n",
       "      <td>4.586250</td>\n",
       "      <td>13.784739</td>\n",
       "    </tr>\n",
       "    <tr>\n",
       "      <th>1</th>\n",
       "      <td>종로구</td>\n",
       "      <td>1772</td>\n",
       "      <td>50.936968</td>\n",
       "      <td>2013</td>\n",
       "      <td>167867</td>\n",
       "      <td>160070</td>\n",
       "      <td>7797</td>\n",
       "      <td>2.17</td>\n",
       "      <td>23997</td>\n",
       "      <td>4.644749</td>\n",
       "      <td>14.295246</td>\n",
       "    </tr>\n",
       "    <tr>\n",
       "      <th>2</th>\n",
       "      <td>종로구</td>\n",
       "      <td>1772</td>\n",
       "      <td>50.936968</td>\n",
       "      <td>2014</td>\n",
       "      <td>165344</td>\n",
       "      <td>156993</td>\n",
       "      <td>8351</td>\n",
       "      <td>2.15</td>\n",
       "      <td>24537</td>\n",
       "      <td>5.050682</td>\n",
       "      <td>14.839970</td>\n",
       "    </tr>\n",
       "    <tr>\n",
       "      <th>3</th>\n",
       "      <td>종로구</td>\n",
       "      <td>1772</td>\n",
       "      <td>50.936968</td>\n",
       "      <td>2015</td>\n",
       "      <td>163822</td>\n",
       "      <td>154986</td>\n",
       "      <td>8836</td>\n",
       "      <td>2.13</td>\n",
       "      <td>24892</td>\n",
       "      <td>5.393659</td>\n",
       "      <td>15.194540</td>\n",
       "    </tr>\n",
       "    <tr>\n",
       "      <th>4</th>\n",
       "      <td>종로구</td>\n",
       "      <td>1772</td>\n",
       "      <td>50.936968</td>\n",
       "      <td>2016</td>\n",
       "      <td>161922</td>\n",
       "      <td>152737</td>\n",
       "      <td>9185</td>\n",
       "      <td>2.12</td>\n",
       "      <td>25091</td>\n",
       "      <td>5.672484</td>\n",
       "      <td>15.495733</td>\n",
       "    </tr>\n",
       "  </tbody>\n",
       "</table>\n",
       "</div>"
      ],
      "text/plain": [
       "    구별    총계      최근증가율    기간     인구수     한국인   외국인  세대당인구    고령자     외국인비율  \\\n",
       "0  종로구  1772  50.936968  2012  173148  165207  7941   2.18  23868  4.586250   \n",
       "1  종로구  1772  50.936968  2013  167867  160070  7797   2.17  23997  4.644749   \n",
       "2  종로구  1772  50.936968  2014  165344  156993  8351   2.15  24537  5.050682   \n",
       "3  종로구  1772  50.936968  2015  163822  154986  8836   2.13  24892  5.393659   \n",
       "4  종로구  1772  50.936968  2016  161922  152737  9185   2.12  25091  5.672484   \n",
       "\n",
       "       고령자비율  \n",
       "0  13.784739  \n",
       "1  14.295246  \n",
       "2  14.839970  \n",
       "3  15.194540  \n",
       "4  15.495733  "
      ]
     },
     "execution_count": 165,
     "metadata": {},
     "output_type": "execute_result"
    }
   ],
   "source": [
    "data_result.head()"
   ]
  },
  {
   "cell_type": "markdown",
   "metadata": {},
   "source": [
    "엥? 종로구가 여러개 들어가 있죠? 하지만 총계, 최근 증가율을 제외한 나머지 값이 조금씩 달라요. 연도별 데이터가 다 들어가 있어서 그래요. 일단 구별, 총계, 최근증가율, 기간별로 groupby 해보겠습니다."
   ]
  },
  {
   "cell_type": "code",
   "execution_count": 180,
   "metadata": {},
   "outputs": [
    {
     "name": "stderr",
     "output_type": "stream",
     "text": [
      "<ipython-input-180-a40c0bf839b8>:2: FutureWarning: Indexing with multiple keys (implicitly converted to a tuple of keys) will be deprecated, use a list instead.\n",
      "  data_result_gby = grouped['인구수','세대당인구','외국인비율','고령자비율', '총계', '최근증가율'].sum()\n"
     ]
    },
    {
     "data": {
      "text/html": [
       "<div>\n",
       "<style scoped>\n",
       "    .dataframe tbody tr th:only-of-type {\n",
       "        vertical-align: middle;\n",
       "    }\n",
       "\n",
       "    .dataframe tbody tr th {\n",
       "        vertical-align: top;\n",
       "    }\n",
       "\n",
       "    .dataframe thead th {\n",
       "        text-align: right;\n",
       "    }\n",
       "</style>\n",
       "<table border=\"1\" class=\"dataframe\">\n",
       "  <thead>\n",
       "    <tr style=\"text-align: right;\">\n",
       "      <th></th>\n",
       "      <th></th>\n",
       "      <th>인구수</th>\n",
       "      <th>세대당인구</th>\n",
       "      <th>외국인비율</th>\n",
       "      <th>고령자비율</th>\n",
       "      <th>총계</th>\n",
       "      <th>최근증가율</th>\n",
       "    </tr>\n",
       "    <tr>\n",
       "      <th>구별</th>\n",
       "      <th>기간</th>\n",
       "      <th></th>\n",
       "      <th></th>\n",
       "      <th></th>\n",
       "      <th></th>\n",
       "      <th></th>\n",
       "      <th></th>\n",
       "    </tr>\n",
       "  </thead>\n",
       "  <tbody>\n",
       "    <tr>\n",
       "      <th rowspan=\"5\" valign=\"top\">강남구</th>\n",
       "      <th>2012</th>\n",
       "      <td>569997</td>\n",
       "      <td>2.45</td>\n",
       "      <td>1.017549</td>\n",
       "      <td>8.833029</td>\n",
       "      <td>6502</td>\n",
       "      <td>118.092329</td>\n",
       "    </tr>\n",
       "    <tr>\n",
       "      <th>2013</th>\n",
       "      <td>569152</td>\n",
       "      <td>2.44</td>\n",
       "      <td>0.975662</td>\n",
       "      <td>9.393097</td>\n",
       "      <td>6502</td>\n",
       "      <td>118.092329</td>\n",
       "    </tr>\n",
       "    <tr>\n",
       "      <th>2014</th>\n",
       "      <td>583446</td>\n",
       "      <td>2.44</td>\n",
       "      <td>0.913881</td>\n",
       "      <td>9.845641</td>\n",
       "      <td>6502</td>\n",
       "      <td>118.092329</td>\n",
       "    </tr>\n",
       "    <tr>\n",
       "      <th>2015</th>\n",
       "      <td>581760</td>\n",
       "      <td>2.43</td>\n",
       "      <td>0.905012</td>\n",
       "      <td>10.370256</td>\n",
       "      <td>6502</td>\n",
       "      <td>118.092329</td>\n",
       "    </tr>\n",
       "    <tr>\n",
       "      <th>2016</th>\n",
       "      <td>572140</td>\n",
       "      <td>2.42</td>\n",
       "      <td>0.878282</td>\n",
       "      <td>10.824449</td>\n",
       "      <td>6502</td>\n",
       "      <td>118.092329</td>\n",
       "    </tr>\n",
       "    <tr>\n",
       "      <th>...</th>\n",
       "      <th>...</th>\n",
       "      <td>...</td>\n",
       "      <td>...</td>\n",
       "      <td>...</td>\n",
       "      <td>...</td>\n",
       "      <td>...</td>\n",
       "      <td>...</td>\n",
       "    </tr>\n",
       "    <tr>\n",
       "      <th rowspan=\"5\" valign=\"top\">중랑구</th>\n",
       "      <th>2017</th>\n",
       "      <td>412780</td>\n",
       "      <td>2.28</td>\n",
       "      <td>1.103251</td>\n",
       "      <td>14.356800</td>\n",
       "      <td>3296</td>\n",
       "      <td>246.243386</td>\n",
       "    </tr>\n",
       "    <tr>\n",
       "      <th>2018</th>\n",
       "      <td>408147</td>\n",
       "      <td>2.23</td>\n",
       "      <td>1.209858</td>\n",
       "      <td>15.148954</td>\n",
       "      <td>3296</td>\n",
       "      <td>246.243386</td>\n",
       "    </tr>\n",
       "    <tr>\n",
       "      <th>2019</th>\n",
       "      <td>402024</td>\n",
       "      <td>2.19</td>\n",
       "      <td>1.245946</td>\n",
       "      <td>16.208983</td>\n",
       "      <td>3296</td>\n",
       "      <td>246.243386</td>\n",
       "    </tr>\n",
       "    <tr>\n",
       "      <th>2020</th>\n",
       "      <td>399562</td>\n",
       "      <td>2.12</td>\n",
       "      <td>1.216332</td>\n",
       "      <td>17.380782</td>\n",
       "      <td>3296</td>\n",
       "      <td>246.243386</td>\n",
       "    </tr>\n",
       "    <tr>\n",
       "      <th>2021</th>\n",
       "      <td>391885</td>\n",
       "      <td>2.09</td>\n",
       "      <td>1.157227</td>\n",
       "      <td>18.291591</td>\n",
       "      <td>3296</td>\n",
       "      <td>246.243386</td>\n",
       "    </tr>\n",
       "  </tbody>\n",
       "</table>\n",
       "<p>250 rows × 6 columns</p>\n",
       "</div>"
      ],
      "text/plain": [
       "             인구수  세대당인구     외국인비율      고령자비율    총계       최근증가율\n",
       "구별  기간                                                        \n",
       "강남구 2012  569997   2.45  1.017549   8.833029  6502  118.092329\n",
       "    2013  569152   2.44  0.975662   9.393097  6502  118.092329\n",
       "    2014  583446   2.44  0.913881   9.845641  6502  118.092329\n",
       "    2015  581760   2.43  0.905012  10.370256  6502  118.092329\n",
       "    2016  572140   2.42  0.878282  10.824449  6502  118.092329\n",
       "...          ...    ...       ...        ...   ...         ...\n",
       "중랑구 2017  412780   2.28  1.103251  14.356800  3296  246.243386\n",
       "    2018  408147   2.23  1.209858  15.148954  3296  246.243386\n",
       "    2019  402024   2.19  1.245946  16.208983  3296  246.243386\n",
       "    2020  399562   2.12  1.216332  17.380782  3296  246.243386\n",
       "    2021  391885   2.09  1.157227  18.291591  3296  246.243386\n",
       "\n",
       "[250 rows x 6 columns]"
      ]
     },
     "execution_count": 180,
     "metadata": {},
     "output_type": "execute_result"
    }
   ],
   "source": [
    "grouped = data_result.groupby(['구별', '기간'])\n",
    "data_result_gby = grouped['인구수','세대당인구','외국인비율','고령자비율', '총계', '최근증가율'].sum()\n",
    "data_result_gby"
   ]
  },
  {
   "cell_type": "markdown",
   "metadata": {},
   "source": [
    "그리고 비율이나 개수 변화를 중심으로 보기 위해 21년 기준으로 data_result_gby21도 만들어줄께요."
   ]
  },
  {
   "cell_type": "code",
   "execution_count": 190,
   "metadata": {},
   "outputs": [
    {
     "data": {
      "text/html": [
       "<div>\n",
       "<style scoped>\n",
       "    .dataframe tbody tr th:only-of-type {\n",
       "        vertical-align: middle;\n",
       "    }\n",
       "\n",
       "    .dataframe tbody tr th {\n",
       "        vertical-align: top;\n",
       "    }\n",
       "\n",
       "    .dataframe thead th {\n",
       "        text-align: right;\n",
       "    }\n",
       "</style>\n",
       "<table border=\"1\" class=\"dataframe\">\n",
       "  <thead>\n",
       "    <tr style=\"text-align: right;\">\n",
       "      <th></th>\n",
       "      <th>구별</th>\n",
       "      <th>총계</th>\n",
       "      <th>최근증가율</th>\n",
       "      <th>기간</th>\n",
       "      <th>인구수</th>\n",
       "      <th>한국인</th>\n",
       "      <th>외국인</th>\n",
       "      <th>세대당인구</th>\n",
       "      <th>고령자</th>\n",
       "      <th>외국인비율</th>\n",
       "      <th>고령자비율</th>\n",
       "    </tr>\n",
       "  </thead>\n",
       "  <tbody>\n",
       "    <tr>\n",
       "      <th>9</th>\n",
       "      <td>종로구</td>\n",
       "      <td>1772</td>\n",
       "      <td>50.936968</td>\n",
       "      <td>2021</td>\n",
       "      <td>153789</td>\n",
       "      <td>144683</td>\n",
       "      <td>9106</td>\n",
       "      <td>1.97</td>\n",
       "      <td>27818</td>\n",
       "      <td>5.921100</td>\n",
       "      <td>18.088420</td>\n",
       "    </tr>\n",
       "    <tr>\n",
       "      <th>19</th>\n",
       "      <td>중구</td>\n",
       "      <td>2333</td>\n",
       "      <td>238.262195</td>\n",
       "      <td>2021</td>\n",
       "      <td>131787</td>\n",
       "      <td>122499</td>\n",
       "      <td>9288</td>\n",
       "      <td>1.93</td>\n",
       "      <td>24392</td>\n",
       "      <td>7.047736</td>\n",
       "      <td>18.508654</td>\n",
       "    </tr>\n",
       "    <tr>\n",
       "      <th>29</th>\n",
       "      <td>용산구</td>\n",
       "      <td>2383</td>\n",
       "      <td>153.508772</td>\n",
       "      <td>2021</td>\n",
       "      <td>237285</td>\n",
       "      <td>222953</td>\n",
       "      <td>14332</td>\n",
       "      <td>2.01</td>\n",
       "      <td>39070</td>\n",
       "      <td>6.039994</td>\n",
       "      <td>16.465432</td>\n",
       "    </tr>\n",
       "    <tr>\n",
       "      <th>39</th>\n",
       "      <td>성동구</td>\n",
       "      <td>3602</td>\n",
       "      <td>145.898161</td>\n",
       "      <td>2021</td>\n",
       "      <td>292672</td>\n",
       "      <td>285990</td>\n",
       "      <td>6682</td>\n",
       "      <td>2.13</td>\n",
       "      <td>46380</td>\n",
       "      <td>2.283102</td>\n",
       "      <td>15.847092</td>\n",
       "    </tr>\n",
       "    <tr>\n",
       "      <th>49</th>\n",
       "      <td>광진구</td>\n",
       "      <td>2588</td>\n",
       "      <td>436.228814</td>\n",
       "      <td>2021</td>\n",
       "      <td>352627</td>\n",
       "      <td>339996</td>\n",
       "      <td>12631</td>\n",
       "      <td>2.02</td>\n",
       "      <td>51723</td>\n",
       "      <td>3.581972</td>\n",
       "      <td>14.667907</td>\n",
       "    </tr>\n",
       "  </tbody>\n",
       "</table>\n",
       "</div>"
      ],
      "text/plain": [
       "     구별    총계       최근증가율    기간     인구수     한국인    외국인  세대당인구    고령자  \\\n",
       "9   종로구  1772   50.936968  2021  153789  144683   9106   1.97  27818   \n",
       "19   중구  2333  238.262195  2021  131787  122499   9288   1.93  24392   \n",
       "29  용산구  2383  153.508772  2021  237285  222953  14332   2.01  39070   \n",
       "39  성동구  3602  145.898161  2021  292672  285990   6682   2.13  46380   \n",
       "49  광진구  2588  436.228814  2021  352627  339996  12631   2.02  51723   \n",
       "\n",
       "       외국인비율      고령자비율  \n",
       "9   5.921100  18.088420  \n",
       "19  7.047736  18.508654  \n",
       "29  6.039994  16.465432  \n",
       "39  2.283102  15.847092  \n",
       "49  3.581972  14.667907  "
      ]
     },
     "execution_count": 190,
     "metadata": {},
     "output_type": "execute_result"
    }
   ],
   "source": [
    "data_result21 = data_result[data_result['기간']==2021]\n",
    "data_result21.head()"
   ]
  },
  {
   "cell_type": "code",
   "execution_count": 194,
   "metadata": {},
   "outputs": [
    {
     "name": "stderr",
     "output_type": "stream",
     "text": [
      "<ipython-input-194-0f0d066cea02>:2: FutureWarning: Indexing with multiple keys (implicitly converted to a tuple of keys) will be deprecated, use a list instead.\n",
      "  data_result_gby21 = grouped['인구수','세대당인구','외국인비율','고령자비율', '총계', '최근증가율'].sum()\n"
     ]
    },
    {
     "data": {
      "text/html": [
       "<div>\n",
       "<style scoped>\n",
       "    .dataframe tbody tr th:only-of-type {\n",
       "        vertical-align: middle;\n",
       "    }\n",
       "\n",
       "    .dataframe tbody tr th {\n",
       "        vertical-align: top;\n",
       "    }\n",
       "\n",
       "    .dataframe thead th {\n",
       "        text-align: right;\n",
       "    }\n",
       "</style>\n",
       "<table border=\"1\" class=\"dataframe\">\n",
       "  <thead>\n",
       "    <tr style=\"text-align: right;\">\n",
       "      <th></th>\n",
       "      <th>인구수</th>\n",
       "      <th>세대당인구</th>\n",
       "      <th>외국인비율</th>\n",
       "      <th>고령자비율</th>\n",
       "      <th>총계</th>\n",
       "      <th>최근증가율</th>\n",
       "    </tr>\n",
       "    <tr>\n",
       "      <th>구별</th>\n",
       "      <th></th>\n",
       "      <th></th>\n",
       "      <th></th>\n",
       "      <th></th>\n",
       "      <th></th>\n",
       "      <th></th>\n",
       "    </tr>\n",
       "  </thead>\n",
       "  <tbody>\n",
       "    <tr>\n",
       "      <th>강남구</th>\n",
       "      <td>537800</td>\n",
       "      <td>2.28</td>\n",
       "      <td>0.884716</td>\n",
       "      <td>14.545556</td>\n",
       "      <td>6502</td>\n",
       "      <td>118.092329</td>\n",
       "    </tr>\n",
       "    <tr>\n",
       "      <th>강동구</th>\n",
       "      <td>466472</td>\n",
       "      <td>2.29</td>\n",
       "      <td>0.816341</td>\n",
       "      <td>15.878767</td>\n",
       "      <td>2547</td>\n",
       "      <td>180.000000</td>\n",
       "    </tr>\n",
       "    <tr>\n",
       "      <th>강북구</th>\n",
       "      <td>302563</td>\n",
       "      <td>2.07</td>\n",
       "      <td>1.117453</td>\n",
       "      <td>21.262679</td>\n",
       "      <td>2462</td>\n",
       "      <td>463.386728</td>\n",
       "    </tr>\n",
       "    <tr>\n",
       "      <th>강서구</th>\n",
       "      <td>579768</td>\n",
       "      <td>2.12</td>\n",
       "      <td>0.940549</td>\n",
       "      <td>15.964662</td>\n",
       "      <td>2560</td>\n",
       "      <td>233.013699</td>\n",
       "    </tr>\n",
       "    <tr>\n",
       "      <th>관악구</th>\n",
       "      <td>499449</td>\n",
       "      <td>1.76</td>\n",
       "      <td>2.753034</td>\n",
       "      <td>15.991823</td>\n",
       "      <td>4942</td>\n",
       "      <td>98.866499</td>\n",
       "    </tr>\n",
       "  </tbody>\n",
       "</table>\n",
       "</div>"
      ],
      "text/plain": [
       "        인구수  세대당인구     외국인비율      고령자비율    총계       최근증가율\n",
       "구별                                                       \n",
       "강남구  537800   2.28  0.884716  14.545556  6502  118.092329\n",
       "강동구  466472   2.29  0.816341  15.878767  2547  180.000000\n",
       "강북구  302563   2.07  1.117453  21.262679  2462  463.386728\n",
       "강서구  579768   2.12  0.940549  15.964662  2560  233.013699\n",
       "관악구  499449   1.76  2.753034  15.991823  4942   98.866499"
      ]
     },
     "execution_count": 194,
     "metadata": {},
     "output_type": "execute_result"
    }
   ],
   "source": [
    "grouped = data_result21.groupby('구별')\n",
    "data_result_gby21 = grouped['인구수','세대당인구','외국인비율','고령자비율', '총계', '최근증가율'].sum()\n",
    "data_result_gby21.head()"
   ]
  },
  {
   "cell_type": "markdown",
   "metadata": {},
   "source": [
    "혹시 csv, excel 파일로 저장하고 싶다면 to_csv(), to_excel()을 이용하시면 됩니다. 저는 실행하지는 않을께요."
   ]
  },
  {
   "cell_type": "code",
   "execution_count": null,
   "metadata": {},
   "outputs": [],
   "source": [
    "# df.to_csv('원하는 저장 경로/원하는 이름.csv', encoding = '원하는 인코딩')\n",
    "# df.to_excel('원하는 저장 경로/원하는 이름.csv', encoding = '원하는 인코딩')\n",
    "\n",
    "# data_result_gby21.to_csv('C:/week1/cctv_pop21.csv', encoding = 'utf-8')"
   ]
  },
  {
   "cell_type": "markdown",
   "metadata": {},
   "source": [
    "### 상관계수 분석"
   ]
  },
  {
   "cell_type": "markdown",
   "metadata": {},
   "source": [
    "이제 간단한 **상관계수 분석**을 해볼거에요. 상관관계는 관계를 알고자 하는 두 변수가 모두 **연속변수**일 경우에만 계산이 가능하고, 이는 인과관계를 분석하는게 아닌 두 연속변수가 관련이 있는지 없는지를 알아보는 **기술통계** 분석이에요. 쉽게 말해서 **상관계수의 절대값이 크다고 원인이라고 단정지을 수 없다**는 거죠.\n",
    "\n",
    "두 변수를 x,y라고 하면 상관관계 계수(coefficient)는 x값과 y값을 모두 z값으로 표준화해서 Zx * Zy를 모두 더한다음, n(총 개수)으로 나눠준 것이 상관계수에요. 다른 것은 다됐고 여기서 상관계수는 넘파이가 다 계산해 줄 테니까 우리는 여기서 상관계수가 무엇을 의미하는지만 알면 됩니다!\n",
    "\n",
    "- 0 ~ 0.2 : 매우 약한 상관관계\n",
    "- 0.2 ~ 0.4 : 약한 상관관계\n",
    "- 0.4 ~ 0.6 : 어느 정도의 상관관계\n",
    "- 0.6 ~ 0.8 : 강한 상관관계\n",
    "- 0.8 ~ 1.0 : 매우 강한 상관관계\n",
    "\n",
    "상관계수의 범위는 -1부터 1까지 음수가 나오면 음의 상관관계, 양수가 나오면 양의 상관관계라는 것까지만 알면 됩니다.\n",
    "\n",
    "그럼 다수의 데이터 중 상관계수가 가장 큰 값은 데이터를 비교해볼게요. numpy의 corrcoef 명령을 사용하면 상관계수를 알아서 계산해줍니다."
   ]
  },
  {
   "cell_type": "code",
   "execution_count": 195,
   "metadata": {},
   "outputs": [
    {
     "data": {
      "text/plain": [
       "array([[ 1.        , -0.26592195],\n",
       "       [-0.26592195,  1.        ]])"
      ]
     },
     "execution_count": 195,
     "metadata": {},
     "output_type": "execute_result"
    }
   ],
   "source": [
    "# 약한 음의 상관관계 \n",
    "np.corrcoef(data_result_gby['고령자비율'], data_result_gby['총계'])"
   ]
  },
  {
   "cell_type": "code",
   "execution_count": 196,
   "metadata": {},
   "outputs": [
    {
     "data": {
      "text/plain": [
       "array([[ 1.        , -0.10597348],\n",
       "       [-0.10597348,  1.        ]])"
      ]
     },
     "execution_count": 196,
     "metadata": {},
     "output_type": "execute_result"
    }
   ],
   "source": [
    "# 상관관계가 거의 없다고 할 수 있음. \n",
    "np.corrcoef(data_result_gby['외국인비율'], data_result_gby['총계'])"
   ]
  },
  {
   "cell_type": "code",
   "execution_count": 197,
   "metadata": {},
   "outputs": [
    {
     "data": {
      "text/plain": [
       "array([[1.        , 0.46415004],\n",
       "       [0.46415004, 1.        ]])"
      ]
     },
     "execution_count": 197,
     "metadata": {},
     "output_type": "execute_result"
    }
   ],
   "source": [
    "# 0.46: 어느 정도의 양의 상관관계 \n",
    "np.corrcoef(data_result_gby['인구수'], data_result_gby['총계'])"
   ]
  },
  {
   "cell_type": "markdown",
   "metadata": {},
   "source": [
    "## 5. 시각화"
   ]
  },
  {
   "cell_type": "markdown",
   "metadata": {},
   "source": [
    "지금까지 만진 데이터를 더 직관적으로 시각화 해 볼거예요. 어떤 그래프를 그릴지는 데이터에 따라 달라집니다. 그래도 **데이터의 특성을 잘 나타낼 수 있는 그래프를 선택**할 수 있어야 합니다. 그래서 앞에서 시간 순서대로 정리하고, 구별로 정리하는 등 데이터를 꼼꼼하게 살펴봤답니다. 만약 무턱대고 plot을 통해 선그래프를 그렸다면 마구잡이의 데이터가 나올 수 있겠죠? 반대로 시각화해서 데이터를 더 잘 알게 될 수도 있답니다.\n",
    "\n",
    "우선 matplotlib을 inline으로 처리해 보일 수 있게 만들고, 한글이 나올 수 있도록 할거예요. 아래 코드는 복사 붙여넣기만 하시면 됩니다. 이해하실 필요 없어요!"
   ]
  },
  {
   "cell_type": "markdown",
   "metadata": {},
   "source": [
    "혹시 잘 안되시는 분은 [이곳](https://teddylee777.github.io/colab/colab-korean)을 참고하세요."
   ]
  },
  {
   "cell_type": "code",
   "execution_count": null,
   "metadata": {},
   "outputs": [],
   "source": [
    "# !sudo apt-get install -y fonts-nanum\n",
    "# !sudo fc-cache -fv\n",
    "# !rm ~/.cache/matplotlib -rf\n",
    "\n",
    "# import matplotlib.pyplot as plt\n",
    "\n",
    "# plt.rc('font', family='NanumBarunGothic') "
   ]
  },
  {
   "cell_type": "markdown",
   "metadata": {},
   "source": [
    "코랩colab 사용중이시면 #을 풀고 위의 코드를 실행시킨 다음, runtime을 다시 시작 해주세요! colab이신 분들은 아래 코드를 실행하지 않으셔도 괜찮습니다."
   ]
  },
  {
   "cell_type": "code",
   "execution_count": null,
   "metadata": {},
   "outputs": [],
   "source": [
    "import matplotlib.pyplot as plt \n",
    "%matplotlib inline\n",
    "import platform \n",
    "from matplotlib import font_manager, rc \n",
    "\n",
    "plt.rcParams['axes.unicode_minus'] = False\n",
    "\n",
    "if platform.system() == 'Darwin':\n",
    "    rc('font', family='AppleGothic')\n",
    "elif platform.system() == 'Windows':\n",
    "    path = \"c:/Windows/Fonts/malgun.ttf\"\n",
    "    font_name = font_manager.FontProperties(fname=path).get_name()\n",
    "    rc('font', family=font_name)\n",
    "else:\n",
    "    print('Unknown system')"
   ]
  },
  {
   "cell_type": "markdown",
   "metadata": {},
   "source": [
    "seaborn은 matplotlib과 유사한 그래프 그리는 도구예요. 우리가 제일 궁금한건 CCTV가 얼마나 설치되었느냐죠? 먼저 bar chart로 그려봅시다."
   ]
  },
  {
   "cell_type": "code",
   "execution_count": 198,
   "metadata": {},
   "outputs": [
    {
     "data": {
      "image/png": "[encoded data removed]",
      "text/plain": [
       "<Figure size 720x720 with 1 Axes>"
      ]
     },
     "metadata": {},
     "output_type": "display_data"
    }
   ],
   "source": [
    "data_result_gby21['총계'].plot(kind='barh', grid=True, figsize=(10,10))\n",
    "plt.show()"
   ]
  },
  {
   "cell_type": "markdown",
   "metadata": {},
   "source": [
    "조금 뒤죽박죽이네요. 정렬을 해봅시다."
   ]
  },
  {
   "cell_type": "code",
   "execution_count": 200,
   "metadata": {},
   "outputs": [
    {
     "data": {
      "image/png": "[encoded data removed]",
      "text/plain": [
       "<Figure size 720x720 with 1 Axes>"
      ]
     },
     "metadata": {},
     "output_type": "display_data"
    }
   ],
   "source": [
    "data_result_gby21['총계'].sort_values().plot(kind='barh', grid=True, figsize=(10,10))\n",
    "plt.show()"
   ]
  },
  {
   "cell_type": "markdown",
   "metadata": {},
   "source": [
    "이렇게 sort_values()를 메서드 체이닝으로 연결해주어 정렬해줍니다. 와, 이렇게 bar 그래프로 보니까 강남구가 정말 많기는 많네요..! 그리고 그리드를 설정해줘서 강남구가 도봉구의 3배 이상이 된다는 사실 또한 쉽게 알 수 있네요. \n",
    "\n",
    "강남구 CCTV 설치수가 정말 많고, 그 다음에는 관악구, 구로구, 성북구 순으로 많습니다. 가장 수가 적은 곳은 도봉구이고, 종로구, 동작구, 중구, 금천구가 CCTV 설치수가 상대적으로 적은 곳이네요."
   ]
  },
  {
   "cell_type": "markdown",
   "metadata": {},
   "source": [
    "그렇지만 CCTV 수가 많은 것만 보면 안되죠. 지역구가 다른 곳에 비해 상대적으로 넓다거나, 인구 수가 많아서 CCTV를 더 많이 설치했을 수도 있잖아요. 그래서 우리는 인구 대비 CCTV 비율을 계산해서 다시 시각화해볼게요."
   ]
  },
  {
   "cell_type": "code",
   "execution_count": 202,
   "metadata": {},
   "outputs": [
    {
     "data": {
      "image/png": "[encoded data removed]",
      "text/plain": [
       "<Figure size 720x720 with 1 Axes>"
      ]
     },
     "metadata": {},
     "output_type": "display_data"
    }
   ],
   "source": [
    "data_result_gby21['CCTV비율'] = data_result_gby21['총계'] / data_result_gby21['인구수'] * 100\n",
    "data_result_gby21['CCTV비율'].sort_values().plot(kind='barh', grid=True, figsize=(10,10))\n",
    "\n",
    "plt.show()"
   ]
  },
  {
   "cell_type": "markdown",
   "metadata": {},
   "source": [
    "Wow! 중구는 CCTV 수는 하위였지만, 인구 대비로 보면 월등히 많네요. 성동구도 중위 정도였는데 인구 대비 비율로는 2등입니다. 이렇게 데이터를 그 자체로만 믿지 마시고 인구, 면적, 인구 밀도 등과 함께 사고하면 훨씬 더 입체적인 분석을 하실 수 있을거예요."
   ]
  },
  {
   "cell_type": "markdown",
   "metadata": {},
   "source": [
    "다음으로 독립변수라고 할 수 있는 다른 지표들도 시각화 해볼거예요. 먼저 연도별, 구별 인구가 어떻게 변화했는지 살펴볼께요."
   ]
  },
  {
   "cell_type": "code",
   "execution_count": 171,
   "metadata": {},
   "outputs": [
    {
     "data": {
      "text/plain": [
       "<matplotlib.legend.Legend at 0x1180d055eb0>"
      ]
     },
     "execution_count": 171,
     "metadata": {},
     "output_type": "execute_result"
    },
    {
     "data": {
      "image/png": "[encoded data removed]",
      "text/plain": [
       "<Figure size 1440x864 with 1 Axes>"
      ]
     },
     "metadata": {},
     "output_type": "display_data"
    }
   ],
   "source": [
    "# pop_Seoul 시각화\n",
    "\n",
    "import seaborn as sns\n",
    "import matplotlib.pyplot as plt\n",
    "%matplotlib inline\n",
    "\n",
    "sns.set(font=\"NanumGothic\", \n",
    "        rc={\"axes.unicode_minus\":False, 'figure.figsize':(20,12)},\n",
    "        style='darkgrid')\n",
    "\n",
    "\n",
    "fig25, ax25 = plt.subplots()\n",
    "sns.lineplot(ax = ax25, x= '기간', y='인구수', hue = '구별', data = pop_Seoul_gby)\n",
    "ax25.grid()\n",
    "plt.legend(loc='upper right')\n"
   ]
  },
  {
   "cell_type": "markdown",
   "metadata": {},
   "source": [
    "생각보다 인구 변화가 그렇게 드라마틱하진 않네요. 차라리 최근 1년 데이터를 비교하는 편이 눈에 잘 들어오겠어요.\n"
   ]
  },
  {
   "cell_type": "code",
   "execution_count": null,
   "metadata": {},
   "outputs": [
    {
     "name": "stdout",
     "output_type": "stream",
     "text": [
      "25\n",
      "------------------------------------------------------------------------------------\n",
      "['종로구' '중구' '용산구' '성동구' '광진구' '동대문구' '중랑구' '성북구' '강북구' '도봉구' '노원구' '은평구'\n",
      " '서대문구' '마포구' '양천구' '강서구' '구로구' '금천구' '영등포구' '동작구' '관악구' '서초구' '강남구' '송파구'\n",
      " '강동구']\n"
     ]
    }
   ],
   "source": [
    "condition = (pop_Seoul['기간'] == 2021) # 조건식\n",
    "\n",
    "pop21 = pop_Seoul[condition]\n",
    "\n",
    "print(len(pop21))\n",
    "print('------------------------------------------------------------------------------------')\n",
    "print(pop21['구별'].unique())\n"
   ]
  },
  {
   "cell_type": "markdown",
   "metadata": {},
   "source": [
    "서울시 구는 25개, 빠진 곳 없이 다 들어 와 있군요."
   ]
  },
  {
   "cell_type": "code",
   "execution_count": null,
   "metadata": {},
   "outputs": [
    {
     "data": {
      "text/plain": [
       "Text(0.5, 1.0, '구별 인구수')"
      ]
     },
     "metadata": {},
     "output_type": "display_data"
    },
    {
     "data": {
      "image/png": "[encoded data removed]",
      "text/plain": [
       "<Figure size 1440x864 with 1 Axes>"
      ]
     },
     "metadata": {},
     "output_type": "display_data"
    }
   ],
   "source": [
    "sns.set(font=\"NanumGothic\", \n",
    "        rc={\"axes.unicode_minus\":False},\n",
    "        style='darkgrid')\n",
    "\n",
    "sns.barplot(data = pop21.sort_values(by='인구수'), x = '구별', y = '인구수')\n",
    "plt.title(\"구별 인구수\", fontsize=25)"
   ]
  },
  {
   "cell_type": "markdown",
   "metadata": {},
   "source": [
    "아까 본 것처럼 송파구 인구가 제일 많고, 그 뒤를 강서, 강남, 노원이 잇는군요. 중구, 종로구는 사람이 적게 사는 곳이네요. 다른 지표들(남성, 여성, 한국인, 외국인, 세대당인구, 고령자, 여성비율, 외국인비율,고령자비율)도 적용해봅시다."
   ]
  },
  {
   "cell_type": "code",
   "execution_count": null,
   "metadata": {},
   "outputs": [
    {
     "data": {
      "text/plain": [
       "Text(0.5, 1.0, '여성')"
      ]
     },
     "metadata": {},
     "output_type": "display_data"
    },
    {
     "data": {
      "image/png": "[encoded data removed]",
      "text/plain": [
       "<Figure size 1440x864 with 2 Axes>"
      ]
     },
     "metadata": {},
     "output_type": "display_data"
    }
   ],
   "source": [
    "fig, axes = plt.subplots(2, 1)\n",
    "\n",
    "sns.set(font=\"NanumGothic\", \n",
    "        rc={\"axes.unicode_minus\":False, 'figure.figsize':(20,12)},\n",
    "        style='darkgrid')\n",
    "\n",
    "sns.barplot(data = pop21.sort_values(by='남성'), x = '구별', y = '남성', ax = axes[0])\n",
    "sns.barplot(data = pop21.sort_values(by='여성'), x = '구별', y = '여성', ax = axes[1])\n",
    "\n",
    "# subplot 간 간격 조절\n",
    "plt.subplots_adjust(hspace=0.4)\n",
    "\n",
    "# 폰트 크기 조정\n",
    "sns.set(font_scale=1.2)\n",
    "\n",
    "# 각각 타이틀 생성\n",
    "axes[0].set_title('남성', fontsize = 25)\n",
    "axes[1].set_title('여성', fontsize = 25)"
   ]
  },
  {
   "cell_type": "markdown",
   "metadata": {},
   "source": [
    "성별로 상위 3개, 하위 2개 구는 차이가 없네요. 대신 중위값에 가까울 수록 순위 변동이 조금 있습니다."
   ]
  },
  {
   "cell_type": "code",
   "execution_count": null,
   "metadata": {},
   "outputs": [],
   "source": [
    "# 강제로 글씨체, 크기, figure size 설정\n",
    "plt.rcParams[\"font.family\"] = 'NanumGothic'\n",
    "plt.rcParams[\"font.size\"] = 20\n",
    "plt.rcParams[\"figure.figsize\"] = (20,12)"
   ]
  },
  {
   "cell_type": "markdown",
   "metadata": {},
   "source": [
    "이렇게 모든 font, figure를 하나로 통일할 수도 있어요! 더 자세한 내용은 [이곳](https://programmers.co.kr/learn/courses/21/lessons/950)을 참고하세요."
   ]
  },
  {
   "cell_type": "code",
   "execution_count": null,
   "metadata": {},
   "outputs": [
    {
     "data": {
      "text/plain": [
       "Text(0.5, 1.0, '세대당인구')"
      ]
     },
     "metadata": {},
     "output_type": "display_data"
    },
    {
     "data": {
      "image/png": "[encoded data removed]",
      "text/plain": [
       "<Figure size 1440x864 with 4 Axes>"
      ]
     },
     "metadata": {},
     "output_type": "display_data"
    }
   ],
   "source": [
    "fig, axes = plt.subplots(4, 1)\n",
    "\n",
    "\n",
    "sns.barplot(data = pop21.sort_values(by='한국인'), x = '구별', y = '한국인', ax = axes[0])\n",
    "sns.barplot(data = pop21.sort_values(by='외국인'), x = '구별', y = '외국인', ax = axes[1])\n",
    "sns.barplot(data = pop21.sort_values(by='고령자'), x = '구별', y = '고령자', ax = axes[2])\n",
    "sns.barplot(data = pop21.sort_values(by='세대당인구'), x = '구별', y = '세대당인구', ax = axes[3])\n",
    "\n",
    "\n",
    "# subplot 간 간격 조절\n",
    "plt.subplots_adjust(hspace=0.6)\n",
    "\n",
    "# 폰트 크기 조정\n",
    "sns.set(font_scale=1.2)\n",
    "\n",
    "# 각각 타이틀 생성\n",
    "axes[0].set_title('한국인')\n",
    "axes[1].set_title('외국인')\n",
    "axes[2].set_title('고령자')\n",
    "axes[3].set_title('세대당인구')\n"
   ]
  },
  {
   "cell_type": "markdown",
   "metadata": {},
   "source": [
    "- 한국인: 한국인이 아무래도 다수여서 그런지 남성, 여성 데이터와 비슷한 양상이군요.\n",
    "\n",
    "- 외국인: 구로, 영등포에 압도적으로 많이 거주하네요.\n",
    "\n",
    "- 고령자: 고령자도 인구가 집중된 송파, 강서에 많이 거주하지만 노원, 은평, 관악 등 외곽 지역의 순위가 조금 올라갔네요.\n",
    "\n",
    "- 세대당 인구: 양천, 서초, 노원에 다인 가구 비율이 높군요. 다른 데이터와는 조금 다른 양상입니다."
   ]
  },
  {
   "cell_type": "code",
   "execution_count": null,
   "metadata": {},
   "outputs": [],
   "source": [
    "# 강제로 글씨체, 크기, figure size 설정\n",
    "plt.rcParams[\"font.family\"] = 'NanumGothic'\n",
    "plt.rcParams[\"font.size\"] = 20\n",
    "plt.rcParams[\"figure.figsize\"] = (20,12)"
   ]
  },
  {
   "cell_type": "code",
   "execution_count": null,
   "metadata": {},
   "outputs": [
    {
     "data": {
      "text/plain": [
       "Text(0.5, 1.0, '고령자비율')"
      ]
     },
     "metadata": {},
     "output_type": "display_data"
    },
    {
     "data": {
      "image/png": "[encoded data removed]",
      "text/plain": [
       "<Figure size 1440x864 with 3 Axes>"
      ]
     },
     "metadata": {},
     "output_type": "display_data"
    }
   ],
   "source": [
    "# 여성비율, 외국인비율,고령자비율\n",
    "\n",
    "fig, axes = plt.subplots(3, 1)\n",
    "\n",
    "\n",
    "sns.barplot(data = pop21.sort_values(by='여성비율'), x = '구별', y = '여성비율', ax = axes[0])\n",
    "sns.barplot(data = pop21.sort_values(by='외국인비율'), x = '구별', y = '외국인비율', ax = axes[1])\n",
    "sns.barplot(data = pop21.sort_values(by='고령자비율'), x = '구별', y = '고령자비율', ax = axes[2])\n",
    "\n",
    "# subplot 간 간격 조절\n",
    "plt.subplots_adjust(hspace=0.6)\n",
    "\n",
    "# 폰트 크기 조정\n",
    "sns.set(font_scale=1.2)\n",
    "\n",
    "# 각각 타이틀 생성\n",
    "axes[0].set_title('여성비율')\n",
    "axes[1].set_title('외국인비율')\n",
    "axes[2].set_title('고령자비율')"
   ]
  },
  {
   "cell_type": "markdown",
   "metadata": {},
   "source": [
    "- 여성비율: 성별 인구가 고만고만해서 그런지 큰 차이가 없네요. 분석에서 제외해야겠습니다.\n",
    "\n",
    "- 외국인비율: 의외로 중구, 용산구가 상위 위치에 있네요. 종로, 금천구도 높은 편에 속하구요. 아까 영등포, 구로는 그냥도 인구가 많았는데, 비율로 생각하니 새로운 인사이트를 얻을 수 있었습니다.\n",
    "\n",
    "- 고령자비율: 강북, 도봉, 중구, 중랑, 은평, 종로... 강북에 위치한 구들이 상위 랭크에 많네요. 마포, 강남, 서초, 광진, 송파 같은 곳은 비교적 젊은 분들이 많군요. 아무래도 대학이나 업무-상업 지구가 몰려있어서 그런 것 같네요.\n",
    "\n"
   ]
  },
  {
   "cell_type": "markdown",
   "metadata": {},
   "source": [
    "## 6. 추세선 그리기"
   ]
  },
  {
   "cell_type": "markdown",
   "metadata": {},
   "source": [
    "이번에는 인구수와 CCTV 수를 산점도로 그려볼게요. scatter를 사용하면 산점도를 그릴 수 있고, s는 마커의 크기입니다.(마커가 뭔지 모른다면 숫자를 늘렸다 줄였다 해보세요!)"
   ]
  },
  {
   "cell_type": "code",
   "execution_count": 204,
   "metadata": {},
   "outputs": [
    {
     "data": {
      "image/png": "[encoded data removed]",
      "text/plain": [
       "<Figure size 432x432 with 1 Axes>"
      ]
     },
     "metadata": {},
     "output_type": "display_data"
    }
   ],
   "source": [
    "plt.figure(figsize=(6,6))\n",
    "plt.scatter(data_result_gby21['인구수'], data_result_gby21['총계'], s=50)\n",
    "plt.xlabel('인구수')\n",
    "plt.ylabel('CCTV')\n",
    "plt.grid()\n",
    "plt.show()"
   ]
  },
  {
   "cell_type": "markdown",
   "metadata": {},
   "source": [
    "각각의 코드가 무엇을 의미하는지 모른다면 matplotlib의 scatter를 좀더 보고오세요:)\n",
    "\n",
    " 인구수를 보면 x축이 100,000부터 시작해 700,000까지 있죠? 기억해두시면 이따가 추세선 그릴 때 또 쓰일 거에요."
   ]
  },
  {
   "cell_type": "markdown",
   "metadata": {},
   "source": [
    "**추세선 그리기 - 선형 회귀선**\n",
    "\n",
    "통계 관련 수업을 듣지 않았거나 이 부분을 읽어도 이해가 가지 않는다면, 코드만 복붙해서 실행해보고 넘어가면 됩니다!\n",
    "\n",
    "이제는 경향을 보고 싶어요. 아까 상관계수가 어느 정도 약하게 있다고 나왔잖아요. 그래서 이 데이터로 경향성을 나타낼 수 있는 하나의 직선을 만들어줄 겁니다. 우리가 넘파이 실습과제에서 하나의 선을 그렸듯이 넘파이의 polyfit 함수를 사용해서 만들어줄 거에요. polyfit()은 n차 다항식으로 회귀분석을 할 때 사용하는 함수에요.\n",
    "\n",
    "np.polyfit(x, y, n): x는 x에 들어갈 데이터, y는 y에 들어갈 데이터, n는 다항식의 차수\n",
    "우리가 그리고 싶은 추세선은 직선이라 y=ax+b라고 하죠. 직선은 1차원이니까 n=1이고, polyfit의 결과값은 [a,b]가 나오게 됩니다. 즉, 기울기와 절편값이 나오는거죠. 우리가 통계 기초 과목에서 요 a,b값을 구하려고, 일일이 하나씩 다 계산해서 정말 힘들게 계산했잖아요. 그런데 이렇게 polyfit()을 사용하면 바로 기울기와 절편값을 줍니다. 2,3,4 등 n차원까지 모두 가능해요."
   ]
  },
  {
   "cell_type": "code",
   "execution_count": 206,
   "metadata": {},
   "outputs": [
    {
     "data": {
      "text/plain": [
       "array([3.88010343e-03, 1.57020833e+03])"
      ]
     },
     "execution_count": 206,
     "metadata": {},
     "output_type": "execute_result"
    }
   ],
   "source": [
    "fp1 = np.polyfit(data_result_gby21['인구수'], data_result_gby21['총계'],1)\n",
    "fp1"
   ]
  },
  {
   "cell_type": "markdown",
   "metadata": {},
   "source": [
    "그럼 이건 주어진 데이터를 가지고 만들어낸 1차 방정식의 기울기와 절편값이에요. 그 다음에는 **poly1d()**를 가지고 직선을 만들어볼게요.\n",
    "\n",
    "[poly1d()란](https://numpy.org/doc/stable/reference/generated/numpy.poly1d.html)\n",
    "\n",
    "poly1d는 다항식(polynomial function)을 정의해주는 함수에요. 즉, 우리가 poly1d() 안에 [a,b]를 넣는다면, ax+b라는 1차 방정식을 넣어주는거죠. 만약 poly1d([1,2,3])이라면 x^2+2x+3을 만들어주는 것이구요."
   ]
  },
  {
   "cell_type": "code",
   "execution_count": 208,
   "metadata": {},
   "outputs": [
    {
     "data": {
      "text/plain": [
       "poly1d([3.88010343e-03, 1.57020833e+03])"
      ]
     },
     "execution_count": 208,
     "metadata": {},
     "output_type": "execute_result"
    }
   ],
   "source": [
    "f1 = np.poly1d(fp1)\n",
    "f1"
   ]
  },
  {
   "cell_type": "markdown",
   "metadata": {},
   "source": [
    "f1 자체가 방정식이니까, 직선을 만드려면 x값을 공급해줘야해요. 그 x값은 np.linspace로 만들어 줄 거에요.\n",
    "\n",
    "- np.linspace(start, stop, num): num은 데이터 개수"
   ]
  },
  {
   "cell_type": "code",
   "execution_count": 209,
   "metadata": {},
   "outputs": [],
   "source": [
    "fx = np.linspace(100000, 700000, 100)"
   ]
  },
  {
   "cell_type": "markdown",
   "metadata": {},
   "source": [
    "그러니까 정리를 하면, x에는 fx를 공급해주고, y로는 다항식을 만들어 준 f1을 넣어주는 것이죠. 그래서 점선의 일차원 그래프를 만들어보면!"
   ]
  },
  {
   "cell_type": "code",
   "execution_count": 211,
   "metadata": {},
   "outputs": [
    {
     "data": {
      "image/png": "[encoded data removed]",
      "text/plain": [
       "<Figure size 720x720 with 1 Axes>"
      ]
     },
     "metadata": {},
     "output_type": "display_data"
    }
   ],
   "source": [
    "plt.figure(figsize=(10,10))\n",
    "plt.scatter(data_result_gby21['인구수'], data_result_gby21['총계'], s=50)\n",
    "plt.plot(fx, f1(fx), ls='dashed', lw=3, color='g')\n",
    "plt.xlabel('인구수')\n",
    "plt.ylabel('CCTV')\n",
    "plt.grid()\n",
    "plt.show()"
   ]
  },
  {
   "cell_type": "markdown",
   "metadata": {},
   "source": [
    "이렇게 추세선 완성! 오, CCTV와 인구수에 이런 추세선이 그려지는 군요.\n",
    "\n",
    "여기에다가 두 가지 장치를 더할거예요. 하나는 **직선의 경향에서 멀어진 구일수록 색이 변한다**, 다른 하나는 **경향에서 멀어진 구의 이름을 표시하고 싶다**는 거에요. 그래서 이를 표시하기위해 오차를 계산하는 코드를 만들었어요.\n",
    "\n",
    "- **오차 = |(CCTV수) - f1(인구수)|**\n",
    "\n",
    "엇, 이거 우리 회귀분석할 때 선형 회귀식을 만들 때 봤죠? 아까 우리가 추세선을 만들었잖아요. 그 추세선이 바로 **회귀식**이랍니다. **오차는 회귀선을 통해서 나온 y값과 실제 y값의 차이**잖아요. 그래서 이것을 이용해서 오차를 계산하고, data_result에다 새로운 컬럼으로 넣어주어봤습니다."
   ]
  },
  {
   "cell_type": "code",
   "execution_count": 215,
   "metadata": {},
   "outputs": [
    {
     "data": {
      "text/html": [
       "<div>\n",
       "<style scoped>\n",
       "    .dataframe tbody tr th:only-of-type {\n",
       "        vertical-align: middle;\n",
       "    }\n",
       "\n",
       "    .dataframe tbody tr th {\n",
       "        vertical-align: top;\n",
       "    }\n",
       "\n",
       "    .dataframe thead th {\n",
       "        text-align: right;\n",
       "    }\n",
       "</style>\n",
       "<table border=\"1\" class=\"dataframe\">\n",
       "  <thead>\n",
       "    <tr style=\"text-align: right;\">\n",
       "      <th></th>\n",
       "      <th>인구수</th>\n",
       "      <th>세대당인구</th>\n",
       "      <th>외국인비율</th>\n",
       "      <th>고령자비율</th>\n",
       "      <th>총계</th>\n",
       "      <th>최근증가율</th>\n",
       "      <th>CCTV비율</th>\n",
       "      <th>오차</th>\n",
       "    </tr>\n",
       "    <tr>\n",
       "      <th>구별</th>\n",
       "      <th></th>\n",
       "      <th></th>\n",
       "      <th></th>\n",
       "      <th></th>\n",
       "      <th></th>\n",
       "      <th></th>\n",
       "      <th></th>\n",
       "      <th></th>\n",
       "    </tr>\n",
       "  </thead>\n",
       "  <tbody>\n",
       "    <tr>\n",
       "      <th>강남구</th>\n",
       "      <td>537800</td>\n",
       "      <td>2.28</td>\n",
       "      <td>0.884716</td>\n",
       "      <td>14.545556</td>\n",
       "      <td>6502</td>\n",
       "      <td>118.092329</td>\n",
       "      <td>1.209000</td>\n",
       "      <td>2845.072046</td>\n",
       "    </tr>\n",
       "    <tr>\n",
       "      <th>강동구</th>\n",
       "      <td>466472</td>\n",
       "      <td>2.29</td>\n",
       "      <td>0.816341</td>\n",
       "      <td>15.878767</td>\n",
       "      <td>2547</td>\n",
       "      <td>180.000000</td>\n",
       "      <td>0.546013</td>\n",
       "      <td>833.167937</td>\n",
       "    </tr>\n",
       "    <tr>\n",
       "      <th>강북구</th>\n",
       "      <td>302563</td>\n",
       "      <td>2.07</td>\n",
       "      <td>1.117453</td>\n",
       "      <td>21.262679</td>\n",
       "      <td>2462</td>\n",
       "      <td>463.386728</td>\n",
       "      <td>0.813715</td>\n",
       "      <td>282.184064</td>\n",
       "    </tr>\n",
       "    <tr>\n",
       "      <th>강서구</th>\n",
       "      <td>579768</td>\n",
       "      <td>2.12</td>\n",
       "      <td>0.940549</td>\n",
       "      <td>15.964662</td>\n",
       "      <td>2560</td>\n",
       "      <td>233.013699</td>\n",
       "      <td>0.441556</td>\n",
       "      <td>1259.768135</td>\n",
       "    </tr>\n",
       "    <tr>\n",
       "      <th>관악구</th>\n",
       "      <td>499449</td>\n",
       "      <td>1.76</td>\n",
       "      <td>2.753034</td>\n",
       "      <td>15.991823</td>\n",
       "      <td>4942</td>\n",
       "      <td>98.866499</td>\n",
       "      <td>0.989490</td>\n",
       "      <td>1433.877893</td>\n",
       "    </tr>\n",
       "  </tbody>\n",
       "</table>\n",
       "</div>"
      ],
      "text/plain": [
       "        인구수  세대당인구     외국인비율      고령자비율    총계       최근증가율    CCTV비율  \\\n",
       "구별                                                                    \n",
       "강남구  537800   2.28  0.884716  14.545556  6502  118.092329  1.209000   \n",
       "강동구  466472   2.29  0.816341  15.878767  2547  180.000000  0.546013   \n",
       "강북구  302563   2.07  1.117453  21.262679  2462  463.386728  0.813715   \n",
       "강서구  579768   2.12  0.940549  15.964662  2560  233.013699  0.441556   \n",
       "관악구  499449   1.76  2.753034  15.991823  4942   98.866499  0.989490   \n",
       "\n",
       "              오차  \n",
       "구별                \n",
       "강남구  2845.072046  \n",
       "강동구   833.167937  \n",
       "강북구   282.184064  \n",
       "강서구  1259.768135  \n",
       "관악구  1433.877893  "
      ]
     },
     "execution_count": 215,
     "metadata": {},
     "output_type": "execute_result"
    }
   ],
   "source": [
    "fp1 = np.polyfit(data_result_gby21['인구수'], data_result_gby21['총계'],1)\n",
    "\n",
    "f1 = np.poly1d(fp1)\n",
    "fx = np.linspace(100000, 700000, 100)\n",
    "\n",
    "# 오차 칼럼 만들어주기 \n",
    "data_result_gby21['오차'] = np.abs(data_result_gby21['총계'] - f1(data_result_gby21['인구수']))\n",
    "data_result_gby21.head()"
   ]
  },
  {
   "cell_type": "markdown",
   "metadata": {},
   "source": [
    "그럼 '오차'를 기준으로 데이터를 정렬해보도록 할게요."
   ]
  },
  {
   "cell_type": "code",
   "execution_count": 216,
   "metadata": {},
   "outputs": [
    {
     "data": {
      "text/html": [
       "<div>\n",
       "<style scoped>\n",
       "    .dataframe tbody tr th:only-of-type {\n",
       "        vertical-align: middle;\n",
       "    }\n",
       "\n",
       "    .dataframe tbody tr th {\n",
       "        vertical-align: top;\n",
       "    }\n",
       "\n",
       "    .dataframe thead th {\n",
       "        text-align: right;\n",
       "    }\n",
       "</style>\n",
       "<table border=\"1\" class=\"dataframe\">\n",
       "  <thead>\n",
       "    <tr style=\"text-align: right;\">\n",
       "      <th></th>\n",
       "      <th>인구수</th>\n",
       "      <th>세대당인구</th>\n",
       "      <th>외국인비율</th>\n",
       "      <th>고령자비율</th>\n",
       "      <th>총계</th>\n",
       "      <th>최근증가율</th>\n",
       "      <th>CCTV비율</th>\n",
       "      <th>오차</th>\n",
       "    </tr>\n",
       "    <tr>\n",
       "      <th>구별</th>\n",
       "      <th></th>\n",
       "      <th></th>\n",
       "      <th></th>\n",
       "      <th></th>\n",
       "      <th></th>\n",
       "      <th></th>\n",
       "      <th></th>\n",
       "      <th></th>\n",
       "    </tr>\n",
       "  </thead>\n",
       "  <tbody>\n",
       "    <tr>\n",
       "      <th>강남구</th>\n",
       "      <td>537800</td>\n",
       "      <td>2.28</td>\n",
       "      <td>0.884716</td>\n",
       "      <td>14.545556</td>\n",
       "      <td>6502</td>\n",
       "      <td>118.092329</td>\n",
       "      <td>1.209000</td>\n",
       "      <td>2845.072046</td>\n",
       "    </tr>\n",
       "    <tr>\n",
       "      <th>관악구</th>\n",
       "      <td>499449</td>\n",
       "      <td>1.76</td>\n",
       "      <td>2.753034</td>\n",
       "      <td>15.991823</td>\n",
       "      <td>4942</td>\n",
       "      <td>98.866499</td>\n",
       "      <td>0.989490</td>\n",
       "      <td>1433.877893</td>\n",
       "    </tr>\n",
       "    <tr>\n",
       "      <th>송파구</th>\n",
       "      <td>663965</td>\n",
       "      <td>2.33</td>\n",
       "      <td>0.847484</td>\n",
       "      <td>14.713276</td>\n",
       "      <td>2854</td>\n",
       "      <td>360.891089</td>\n",
       "      <td>0.429842</td>\n",
       "      <td>1292.461203</td>\n",
       "    </tr>\n",
       "    <tr>\n",
       "      <th>강서구</th>\n",
       "      <td>579768</td>\n",
       "      <td>2.12</td>\n",
       "      <td>0.940549</td>\n",
       "      <td>15.964662</td>\n",
       "      <td>2560</td>\n",
       "      <td>233.013699</td>\n",
       "      <td>0.441556</td>\n",
       "      <td>1259.768135</td>\n",
       "    </tr>\n",
       "    <tr>\n",
       "      <th>도봉구</th>\n",
       "      <td>319373</td>\n",
       "      <td>2.29</td>\n",
       "      <td>0.628419</td>\n",
       "      <td>20.089363</td>\n",
       "      <td>1629</td>\n",
       "      <td>190.072202</td>\n",
       "      <td>0.510062</td>\n",
       "      <td>1180.408603</td>\n",
       "    </tr>\n",
       "  </tbody>\n",
       "</table>\n",
       "</div>"
      ],
      "text/plain": [
       "        인구수  세대당인구     외국인비율      고령자비율    총계       최근증가율    CCTV비율  \\\n",
       "구별                                                                    \n",
       "강남구  537800   2.28  0.884716  14.545556  6502  118.092329  1.209000   \n",
       "관악구  499449   1.76  2.753034  15.991823  4942   98.866499  0.989490   \n",
       "송파구  663965   2.33  0.847484  14.713276  2854  360.891089  0.429842   \n",
       "강서구  579768   2.12  0.940549  15.964662  2560  233.013699  0.441556   \n",
       "도봉구  319373   2.29  0.628419  20.089363  1629  190.072202  0.510062   \n",
       "\n",
       "              오차  \n",
       "구별                \n",
       "강남구  2845.072046  \n",
       "관악구  1433.877893  \n",
       "송파구  1292.461203  \n",
       "강서구  1259.768135  \n",
       "도봉구  1180.408603  "
      ]
     },
     "execution_count": 216,
     "metadata": {},
     "output_type": "execute_result"
    }
   ],
   "source": [
    "df_sort = data_result_gby21.sort_values(by='오차', ascending=False)\n",
    "df_sort.head()"
   ]
  },
  {
   "cell_type": "markdown",
   "metadata": {},
   "source": [
    "그럼 이제 텍스트와 color map을 입혀볼게요.\n",
    "\n",
    "- color: plt.scatter()의 c 옵션값으로 넣어줬어요.\n",
    "- plt.text(x, y, s): x와 y는 (x,y)위치(the position to place the text), s는 넣어줄 텍스트(the text)\n",
    "\n",
    "우리 파이썬을 배웠기 때문에 아래의 for문 이해할 수 있겠죠?💖"
   ]
  },
  {
   "cell_type": "code",
   "execution_count": 217,
   "metadata": {},
   "outputs": [
    {
     "data": {
      "image/png": "[encoded data removed]",
      "text/plain": [
       "<Figure size 1008x720 with 2 Axes>"
      ]
     },
     "metadata": {},
     "output_type": "display_data"
    }
   ],
   "source": [
    "plt.figure(figsize=(14,10))\n",
    "plt.scatter(data_result_gby21['인구수'], data_result_gby21['총계'],\n",
    "           c=data_result_gby21['오차'], s=50)                   #c=marker color, s=marker size\n",
    "plt.plot(fx, f1(fx), ls='dashed', lw=3, color='g')       #lw=line width\n",
    "\n",
    "# 텍스트 만들어주기\n",
    "for n in range(10):\n",
    "    plt.text(df_sort['인구수'][n]*1.02, df_sort['총계'][n]*0.98,   \n",
    "            df_sort.index[n], fontsize=15)\n",
    "\n",
    "plt.xlabel('인구수')\n",
    "plt.ylabel('인구당비율')\n",
    "\n",
    "plt.colorbar()\n",
    "plt.grid()\n",
    "plt.show()"
   ]
  },
  {
   "cell_type": "markdown",
   "metadata": {},
   "source": [
    "df_sort는 오차가 높은 순으로 배열을 해놓았죠. 그래서 for문을 사용해 range(10), 즉 상위 10개만 text를 보이도록 해줬어요.\n",
    "\n",
    "- df_sort['인구수'][n]1.02, df_sort['소계'][n]0.98\n",
    "\n",
    "이렇게 적은 이유는 점의 바로 위에 이름이 올라가게 하지 말고, 오른쪽으로 이름이 위치할 수 있도록 한거에요. 이름이 위치한 곳이 모두 다 오른쪽 살짝 옆에 있죠? 이것을 for문으로 구현한 것이랍니다."
   ]
  },
  {
   "cell_type": "markdown",
   "metadata": {},
   "source": [
    "## 7. 분석 결과"
   ]
  },
  {
   "cell_type": "markdown",
   "metadata": {},
   "source": [
    "직선을 기준으로 위에 있는 '강남구', '관악구', '구로구', '성동구'는 서울시 전체 지역의 일반적인 경향보다 CCTV가 많이 설치된 지역이네요. 그리고 '송파구', '강서구', '노원구', '강동구', '동작구', '도봉구'는 일반적인 경향보다 CCTV가 적게 설치된 지역이고요. 특히 '강남구'는 월등히 많은 CCTV가 설치됐지만, '송파구'는 인구수에 비해 너무나도 적은 수의 CCTV를 가지고 있네요!\n",
    "\n",
    "이제 우리는 왜 이렇게 될까를 생각해봐야겠죠. 앞서 처음에 생각했던 예산 데이터를 구해서 '구별 예산 정도에 따라 CCTV 설치수가 다를 것이다' 등 더 나아갈 수도 있을겁니다. 왜 저렇게 강남구는 아웃라이어로 있나라고 생각해볼 수도 있겠죠 😊"
   ]
  },
  {
   "cell_type": "markdown",
   "metadata": {},
   "source": [
    "#### 마치기 전에\n",
    "\n",
    "**주의**\n",
    "\n",
    "지금 한 간단한 일원 회귀 분석은 통계적 전제를 많이 무시했어요. 사실 회귀 분석이 성립하려면 독립변수들이 서로 영향을 주지 않는 **독립**이어야 하고, 변수들의 **정규분포**가 전제되어야 합니다. 그래서 이번 분석은 인구수에 따른 어떤 경향을 봤다고 생각해주시면 좋을 것 같아요.\n",
    "\n",
    "더 자세한 회귀 분석은 추후에 blog나 짧은 커리큘럼으로 만들어 보기로 할께요."
   ]
  },
  {
   "cell_type": "markdown",
   "metadata": {},
   "source": [
    "## 프로젝트를 끝내며\n",
    "\n",
    "축하합니다, 여러분! 드디어 프로젝트 하나를 마쳤어요!!!\n",
    "\n",
    "마지막 추세선 만들기에서 많이 어려웠을 것 같은데, 최대한 이해를 해보시고 안되면 넘어가세요. 괜히 압도되지 말고 할 수 있는 것을 챙겨서 하면 된답니다💕 \n",
    "\n",
    "전체 과정을 한번 쭉 보세요. 거시적으로 보면서 하나하나씩 세부적으로 들어가면 왜 이 코드를 작성하고 있는지 알 수 있게 됩니다. 여러분에게 많이 도움이 되었길 바라구요. 모두모두 고생했습니다💗"
   ]
  }
 ],
 "metadata": {
  "interpreter": {
   "hash": "6d46af94c2bbce495f1e668725902fa517c90b1782bcfe2fce0dd9868df553d3"
  },
  "kernelspec": {
   "display_name": "Python 3.8.8 64-bit ('base': conda)",
   "language": "python",
   "name": "python3"
  },
  "language_info": {
   "codemirror_mode": {
    "name": "ipython",
    "version": 3
   },
   "file_extension": ".py",
   "mimetype": "text/x-python",
   "name": "python",
   "nbconvert_exporter": "python",
   "pygments_lexer": "ipython3",
   "version": "3.8.8"
  },
  "orig_nbformat": 4
 },
 "nbformat": 4,
 "nbformat_minor": 2
}
