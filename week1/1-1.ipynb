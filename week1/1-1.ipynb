{
 "cells": [
  {
   "cell_type": "markdown",
   "metadata": {},
   "source": [
    "# COSADAMA Introduction to Data Science Study\n",
    "\n",
    "- 작성자: 정 찬\n",
    "- 참고자료: 2020년 코사다마 데이터 분석 커리큘럼(박하람), 2021년 코사다마 데이터 분석 커리큘럼(조용주), 파이썬 머신러닝 완벽 가이드(권철민), 비주얼 프로그래밍 수업(김승태), 파이썬으로 데이터 주무르기(민형기)\n",
    "\n",
    "Introduction to Data Science 커리큘럼의 목적은 데이터 '수집, '조작', '시각화'입니다. 1~2주에는 이미 만들어진 데이터를 조작하고, 효과적으로 시각화 하는 방법에 대해 배울 예정입니다.\n",
    "\n",
    "이번 주에는 **데이터 분석 모듈 Pandas, 수치 데이터 처리 모듈 Numpy, 시각화 모듈 matplitlib**에 대해 배웁니다. 앞으로 가장 많이 사용하게 되실 모듈이니 꼼꼼히 공부하시고, 스스로 사용해보시며 친해지시기 바랍니다."
   ]
  },
  {
   "cell_type": "markdown",
   "metadata": {},
   "source": [
    "## 1. Pandas \n",
    "\n",
    "모든 데이터, 정보가 줄글로 씌여 있다고 생각해 봅시다. 예컨대 \n",
    "> 사과 100개, 귤 200개, 양초 50개가 있습니다.\n",
    "\n",
    "이정도의 데이터는 한 눈으로 봐도 이해가 될 수 있습니다. 하지만 1960년대부터 2022년까지 매일, 모든 지역의, 모든 과일의 시세를 직관적으로 파악하기는 힘듭니다. 그래서 사람들은 대부분 **행row과 열column**으로 된 표table 형태의 2차원 데이터를 사용합니다. Excel이나 Numbers를 떠올리셨다면 정답입니다. **Pandas**는 이러한 2차원 데이터를 가공하고 처리하기 위해 만들어졌습니다. \n",
    "\n",
    "그렇다면 왜 Excel을 사용하지 않냐는 물음이 생길 수 있습니다. 우리가 다루는 데이터들은 하나하나 확인하기 어려울만큼 거대합니다. 컬럼이 한 화면에 들어오기 어려운 경우도 많고, 애초에 데이터가 많아서 Excel이 실행되지 않기도 합니다. 그래서 판다스는 보다 개념적인 명령을 통해 큰 데이터의 추출, 조작을 도와줍니다.\n",
    "\n",
    "Excel을 쓸 줄 아는 사람들은 많지만, Excel의 모든 기능을 사용할 줄 아는 전문가는 많지 않습니다. Pansdas도 마찬가지 입니다. 많이 사용되는 기능 위주로 작성했으니 더 필요한 부분은 구글에게 물어가며 이후 프로젝트를 진행해 봅시다."
   ]
  },
  {
   "cell_type": "markdown",
   "metadata": {},
   "source": [
    "### 1.1. Pandas의 자료 구조"
   ]
  },
  {
   "cell_type": "markdown",
   "metadata": {},
   "source": [
    "- **Series**: 1차원 배열의 자료구조. 하나의 열(column컬럼)으로 이루어짐. 인덱스와 함께 구성됨. \n",
    "- **DataFrame**: 2차원 배열의 자료구조. 여러 열로 이루어짐.\n",
    "\n",
    "Series와 DataFrame의 가장 큰 차이는 Series는 칼럼이 하나, DataFrame은 칼럼이 여러 개!\n",
    "\n",
    "> 행.. 열..?\n",
    "\n",
    "> 보통 가로, 세로 순서로 말하죠? 행과 열도 가로(행row), 세로(열column) 순서입니다.\n",
    "\n",
    "> 하지만 엄밀하게 말해서 \"행렬\"Matrix과 같은 의미는 아닙니다. 연산 규칙이 달라지거든요. 일단 DataFrame이 행렬Matrix보다 더 직관적이라고만 알고 계셔도 충분합니다.\n",
    "\n",
    "> 배열(array): 같은 타입의 변수들로 이루어진 유한 집합. \n"
   ]
  },
  {
   "cell_type": "markdown",
   "metadata": {},
   "source": [
    "```python\n",
    "# 파이썬 3.8버전 추가하기(숙지할 필요 없음)\n",
    "\n",
    "import sys \n",
    "sys.path.append(\"/usr/local/lib/python3.8/site-packages\")\n",
    "```"
   ]
  },
  {
   "cell_type": "code",
   "execution_count": null,
   "metadata": {},
   "outputs": [],
   "source": [
    "# 파이썬 3.8버전 추가하기(숙지할 필요 없음)\n",
    "\n",
    "import sys \n",
    "sys.path.append(\"/usr/local/lib/python3.8/site-packages\")"
   ]
  },
  {
   "cell_type": "code",
   "execution_count": null,
   "metadata": {},
   "outputs": [],
   "source": [
    "# pandas 모듈 import\n",
    "# pandas 모듈을 가져와! \n",
    "# 코드에서는 pd라고 축약해서 쓸거야!\n",
    "import pandas as pd"
   ]
  },
  {
   "cell_type": "code",
   "execution_count": null,
   "metadata": {},
   "outputs": [
    {
     "data": {
      "text/plain": [
       "0    4\n",
       "1    7\n",
       "2   -5\n",
       "3    3\n",
       "dtype: int64"
      ]
     },
     "metadata": {},
     "output_type": "display_data"
    }
   ],
   "source": [
    "# Series\n",
    "obj = pd.Series([4,7,-5,3])   # 왼쪽의 인덱스와 결합됨. 오른쪽이 시리즈의 값.\n",
    "obj"
   ]
  },
  {
   "cell_type": "code",
   "execution_count": null,
   "metadata": {},
   "outputs": [
    {
     "data": {
      "text/plain": [
       "RangeIndex(start=0, stop=4, step=1)"
      ]
     },
     "metadata": {},
     "output_type": "display_data"
    }
   ],
   "source": [
    "obj.index\n",
    "\n",
    "# 숫자 범위로 된 인덱스. 0부터 4까지 1씩 증가."
   ]
  },
  {
   "cell_type": "code",
   "execution_count": null,
   "metadata": {},
   "outputs": [
    {
     "data": {
      "text/plain": [
       "d    4\n",
       "b    7\n",
       "a   -5\n",
       "c    3\n",
       "dtype: int64"
      ]
     },
     "metadata": {},
     "output_type": "display_data"
    }
   ],
   "source": [
    "# 인덱스 지정하기\n",
    "obj2 = pd.Series([4,7,-5,3], index=['d','b','a','c'])\n",
    "obj2   # 항상 어떤 데이터가 들어있는지 확인해보는 것 잊지말기!"
   ]
  },
  {
   "cell_type": "code",
   "execution_count": null,
   "metadata": {},
   "outputs": [
    {
     "data": {
      "text/plain": [
       "d    6\n",
       "b    7\n",
       "a   -5\n",
       "c    3\n",
       "dtype: int64"
      ]
     },
     "metadata": {},
     "output_type": "display_data"
    }
   ],
   "source": [
    "# 인덱스가 'd'인 값 정수 6으로 바꾸기\n",
    "obj2['d'] = 6\n",
    "obj2"
   ]
  },
  {
   "cell_type": "code",
   "execution_count": null,
   "metadata": {},
   "outputs": [
    {
     "data": {
      "text/plain": [
       "Ohio      35000\n",
       "Texas     71000\n",
       "Oregon    16000\n",
       "Utah       5000\n",
       "dtype: int64"
      ]
     },
     "metadata": {},
     "output_type": "display_data"
    }
   ],
   "source": [
    "# 딕셔너리에서 Series 만들기 \n",
    "sdata = {'Ohio': 35000, 'Texas':71000,\n",
    "        'Oregon':16000, 'Utah':5000}\n",
    "obj3 = pd.Series(sdata)\n",
    "obj3"
   ]
  },
  {
   "cell_type": "code",
   "execution_count": null,
   "metadata": {},
   "outputs": [
    {
     "data": {
      "text/plain": [
       "California        NaN\n",
       "Ohio          35000.0\n",
       "Oregon        16000.0\n",
       "Texas         71000.0\n",
       "dtype: float64"
      ]
     },
     "metadata": {},
     "output_type": "display_data"
    }
   ],
   "source": [
    "# 리스트로 인덱스 설정하기\n",
    "state = ['California','Ohio','Oregon','Texas']\n",
    "obj4 = pd.Series(sdata, index=state)\n",
    "obj4"
   ]
  },
  {
   "cell_type": "markdown",
   "metadata": {},
   "source": [
    "- NaN: Not a Number -> 값이 없다!\n",
    "\n",
    "     -  문제: Series나 DataFrame을 열었는데 공백으로 표시된다면 그 데이터는 NaN일까?\n",
    "\n",
    "    - 정답: NO! NaN은 NaN이라고 분명하게 표시됩니다. 확인해 봐야 알겠지만, ''이나 ' ' 같은 모양으로 된 \"데이터가 들어가 있\"을 가능성이 높아요. 물론 0도 0이라고 분명하게 표시해 줍니다."
   ]
  },
  {
   "cell_type": "markdown",
   "metadata": {},
   "source": [
    "### DataFrame\n",
    "- 구성: 인덱스index, 열column, 데이터\n",
    "- 여러 행, 여러 열로 이루어진 2차원 데이터 구조체\n",
    "- DataFrame == 여러 개의 Series\n",
    "- Series는 DataFrame의 열column이 될 수 있음"
   ]
  },
  {
   "cell_type": "code",
   "execution_count": null,
   "metadata": {},
   "outputs": [
    {
     "data": {
      "text/html": [
       "<div>\n",
       "<style scoped>\n",
       "    .dataframe tbody tr th:only-of-type {\n",
       "        vertical-align: middle;\n",
       "    }\n",
       "\n",
       "    .dataframe tbody tr th {\n",
       "        vertical-align: top;\n",
       "    }\n",
       "\n",
       "    .dataframe thead th {\n",
       "        text-align: right;\n",
       "    }\n",
       "</style>\n",
       "<table border=\"1\" class=\"dataframe\">\n",
       "  <thead>\n",
       "    <tr style=\"text-align: right;\">\n",
       "      <th></th>\n",
       "      <th>state</th>\n",
       "      <th>year</th>\n",
       "      <th>pop</th>\n",
       "    </tr>\n",
       "  </thead>\n",
       "  <tbody>\n",
       "    <tr>\n",
       "      <th>0</th>\n",
       "      <td>Ohio</td>\n",
       "      <td>2000</td>\n",
       "      <td>1.5</td>\n",
       "    </tr>\n",
       "    <tr>\n",
       "      <th>1</th>\n",
       "      <td>Ohio</td>\n",
       "      <td>2001</td>\n",
       "      <td>1.7</td>\n",
       "    </tr>\n",
       "    <tr>\n",
       "      <th>2</th>\n",
       "      <td>Ohio</td>\n",
       "      <td>2002</td>\n",
       "      <td>3.6</td>\n",
       "    </tr>\n",
       "    <tr>\n",
       "      <th>3</th>\n",
       "      <td>Nevada</td>\n",
       "      <td>2001</td>\n",
       "      <td>2.4</td>\n",
       "    </tr>\n",
       "    <tr>\n",
       "      <th>4</th>\n",
       "      <td>Nevada</td>\n",
       "      <td>2002</td>\n",
       "      <td>2.9</td>\n",
       "    </tr>\n",
       "  </tbody>\n",
       "</table>\n",
       "</div>"
      ],
      "text/plain": [
       "    state  year  pop\n",
       "0    Ohio  2000  1.5\n",
       "1    Ohio  2001  1.7\n",
       "2    Ohio  2002  3.6\n",
       "3  Nevada  2001  2.4\n",
       "4  Nevada  2002  2.9"
      ]
     },
     "metadata": {},
     "output_type": "display_data"
    }
   ],
   "source": [
    "# 딕셔너리를 이용해 DataFrame 생성하기 \n",
    "data = {'state':['Ohio','Ohio','Ohio','Nevada','Nevada'],\n",
    "       'year':[2000,2001,2002,2001,2002],\n",
    "       'pop':[1.5,1.7,3.6,2.4,2.9]}\n",
    "df = pd.DataFrame(data)\n",
    "df"
   ]
  },
  {
   "cell_type": "code",
   "execution_count": null,
   "metadata": {},
   "outputs": [
    {
     "data": {
      "text/html": [
       "<div>\n",
       "<style scoped>\n",
       "    .dataframe tbody tr th:only-of-type {\n",
       "        vertical-align: middle;\n",
       "    }\n",
       "\n",
       "    .dataframe tbody tr th {\n",
       "        vertical-align: top;\n",
       "    }\n",
       "\n",
       "    .dataframe thead th {\n",
       "        text-align: right;\n",
       "    }\n",
       "</style>\n",
       "<table border=\"1\" class=\"dataframe\">\n",
       "  <thead>\n",
       "    <tr style=\"text-align: right;\">\n",
       "      <th></th>\n",
       "      <th>year</th>\n",
       "      <th>state</th>\n",
       "      <th>pop</th>\n",
       "    </tr>\n",
       "  </thead>\n",
       "  <tbody>\n",
       "    <tr>\n",
       "      <th>0</th>\n",
       "      <td>2000</td>\n",
       "      <td>Ohio</td>\n",
       "      <td>1.5</td>\n",
       "    </tr>\n",
       "    <tr>\n",
       "      <th>1</th>\n",
       "      <td>2001</td>\n",
       "      <td>Ohio</td>\n",
       "      <td>1.7</td>\n",
       "    </tr>\n",
       "    <tr>\n",
       "      <th>2</th>\n",
       "      <td>2002</td>\n",
       "      <td>Ohio</td>\n",
       "      <td>3.6</td>\n",
       "    </tr>\n",
       "    <tr>\n",
       "      <th>3</th>\n",
       "      <td>2001</td>\n",
       "      <td>Nevada</td>\n",
       "      <td>2.4</td>\n",
       "    </tr>\n",
       "    <tr>\n",
       "      <th>4</th>\n",
       "      <td>2002</td>\n",
       "      <td>Nevada</td>\n",
       "      <td>2.9</td>\n",
       "    </tr>\n",
       "  </tbody>\n",
       "</table>\n",
       "</div>"
      ],
      "text/plain": [
       "   year   state  pop\n",
       "0  2000    Ohio  1.5\n",
       "1  2001    Ohio  1.7\n",
       "2  2002    Ohio  3.6\n",
       "3  2001  Nevada  2.4\n",
       "4  2002  Nevada  2.9"
      ]
     },
     "metadata": {},
     "output_type": "display_data"
    }
   ],
   "source": [
    "# 칼럼을 원하는 순서대로 보기 \n",
    "df2 = pd.DataFrame(data, columns=['year','state','pop'])\n",
    "df2"
   ]
  },
  {
   "cell_type": "code",
   "execution_count": null,
   "metadata": {},
   "outputs": [
    {
     "data": {
      "text/html": [
       "<div>\n",
       "<style scoped>\n",
       "    .dataframe tbody tr th:only-of-type {\n",
       "        vertical-align: middle;\n",
       "    }\n",
       "\n",
       "    .dataframe tbody tr th {\n",
       "        vertical-align: top;\n",
       "    }\n",
       "\n",
       "    .dataframe thead th {\n",
       "        text-align: right;\n",
       "    }\n",
       "</style>\n",
       "<table border=\"1\" class=\"dataframe\">\n",
       "  <thead>\n",
       "    <tr style=\"text-align: right;\">\n",
       "      <th></th>\n",
       "      <th>year</th>\n",
       "      <th>state</th>\n",
       "      <th>pop</th>\n",
       "      <th>debt</th>\n",
       "    </tr>\n",
       "  </thead>\n",
       "  <tbody>\n",
       "    <tr>\n",
       "      <th>one</th>\n",
       "      <td>2000</td>\n",
       "      <td>Ohio</td>\n",
       "      <td>1.5</td>\n",
       "      <td>NaN</td>\n",
       "    </tr>\n",
       "    <tr>\n",
       "      <th>two</th>\n",
       "      <td>2001</td>\n",
       "      <td>Ohio</td>\n",
       "      <td>1.7</td>\n",
       "      <td>NaN</td>\n",
       "    </tr>\n",
       "    <tr>\n",
       "      <th>three</th>\n",
       "      <td>2002</td>\n",
       "      <td>Ohio</td>\n",
       "      <td>3.6</td>\n",
       "      <td>NaN</td>\n",
       "    </tr>\n",
       "    <tr>\n",
       "      <th>four</th>\n",
       "      <td>2001</td>\n",
       "      <td>Nevada</td>\n",
       "      <td>2.4</td>\n",
       "      <td>NaN</td>\n",
       "    </tr>\n",
       "    <tr>\n",
       "      <th>five</th>\n",
       "      <td>2002</td>\n",
       "      <td>Nevada</td>\n",
       "      <td>2.9</td>\n",
       "      <td>NaN</td>\n",
       "    </tr>\n",
       "  </tbody>\n",
       "</table>\n",
       "</div>"
      ],
      "text/plain": [
       "       year   state  pop debt\n",
       "one    2000    Ohio  1.5  NaN\n",
       "two    2001    Ohio  1.7  NaN\n",
       "three  2002    Ohio  3.6  NaN\n",
       "four   2001  Nevada  2.4  NaN\n",
       "five   2002  Nevada  2.9  NaN"
      ]
     },
     "metadata": {},
     "output_type": "display_data"
    }
   ],
   "source": [
    "# 인덱스를 지정하고 싶다면\n",
    "df3 = pd.DataFrame(data, columns=['year','state','pop','debt'],\n",
    "                  index=['one','two','three','four','five'])\n",
    "df3"
   ]
  }
 ],
 "metadata": {
  "language_info": {
   "name": "python"
  },
  "orig_nbformat": 4
 },
 "nbformat": 4,
 "nbformat_minor": 2
}
