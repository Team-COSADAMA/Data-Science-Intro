{
 "cells": [
  {
   "cell_type": "markdown",
   "metadata": {},
   "source": [
    "# COSADAMA Introduction to Data Science Study"
   ]
  },
  {
   "cell_type": "markdown",
   "metadata": {},
   "source": [
    "- 작성자: 정 찬\n",
    "- 참고자료: 2021년 코사다마 데이터 분석 커리큘럼(조용주), 파이썬 머신러닝 완벽 가이드(권철민), 비주얼 프로그래밍 수업(김승태), 파이썬으로 데이터 주무르기(민형기), "
   ]
  },
  {
   "cell_type": "markdown",
   "metadata": {},
   "source": [
    "Introduction to Data Science 커리큘럼의 목적은 데이터 '수집, '조작', '시각화'입니다. 1~2주에는 이미 만들어진 데이터를 조작하고, 효과적으로 시각화 하는 방법에 대해 배울 예정입니다.\n",
    "\n",
    "이번 주에는 **데이터 분석 모듈 Pandas, 수치 데이터 처리 모듈 Numpy, 시각화 모듈 matplitlib**에 대해 배웁니다. 앞으로 가장 많이 사용하게 되실 모듈이니 꼼꼼히 공부하시고, 스스로 사용해보시며 친해지시길 바랍니다."
   ]
  },
  {
   "cell_type": "markdown",
   "metadata": {},
   "source": [
    "## 1. Pandas\n",
    "\n",
    "모든 데이터, 정보가 줄글로 씌여 있다고 생각해 봅시다. 예컨대 \n",
    "> 사과 100개, 귤 200개, 양초 50개가 있습니다.\n",
    "\n",
    "이정도의 데이터는 한 눈으로 봐도 이해가 될 수 있습니다. 하지만 1960년대부터 2022년까지 매일, 모든 지역의, 모든 과일의 시세를 직관적으로 파악하기는 힘듭니다. 그래서 사람들은 대부분 **행row과 열column**으로 된 표table 형태의 2차원 데이터를 사용합니다. Excel이나 Numbers를 떠올리셨다면 정답입니다. **Pandas**는 이러한 2차원 데이터를 가공하고 처리하기 위해 만들어졌습니다. \n",
    "\n",
    "그렇다면 왜 Excel을 사용하지 않냐는 물음이 생길 수 있습니다. 우리가 다루는 데이터들은 하나하나 확인하기 어려울만큼 거대합니다. 컬럼이 한 화면에 들어오기 어려운 경우도 많고, 애초에 데이터가 많아서 Excel이 실행되지 않기도 합니다. 그래서 판다스는 보다 개념적인 명령을 통해 큰 데이터의 추출, 조작을 도와줍니다.\n",
    "\n",
    "Excel을 쓸 줄 아는 사람들은 많지만, Excel의 모든 기능을 사용할 줄 아는 전문가는 많지 않습니다. Pansdas도 마찬가지 입니다. 많이 사용되는 기능 위주로 작성했으니 더 필요한 부분은 구글에게 물어가며 이후 프로젝트를 진행해 봅시다."
   ]
  },
  {
   "cell_type": "markdown",
   "metadata": {},
   "source": [
    "### 1.1. Pandas의 자료 구조"
   ]
  },
  {
   "cell_type": "markdown",
   "metadata": {},
   "source": [
    "- 시리즈\n",
    "- 데이터프레임\n",
    "\n",
    "관련 설명 및 예시 -> 그냥 실행만 해도 알 수 있게끔"
   ]
  },
  {
   "cell_type": "markdown",
   "metadata": {},
   "source": [
    "### 1.2. 데이터 준비"
   ]
  },
  {
   "cell_type": "markdown",
   "metadata": {},
   "source": [
    "- 데이터 프레임 만들기\n",
    "- pd.read_csv() -> 인코딩, uescols 등등 같이 알려주기"
   ]
  },
  {
   "cell_type": "code",
   "execution_count": null,
   "metadata": {},
   "outputs": [],
   "source": []
  },
  {
   "cell_type": "markdown",
   "metadata": {},
   "source": [
    "### 1.3. 데이터 확인"
   ]
  },
  {
   "cell_type": "markdown",
   "metadata": {},
   "source": [
    "- head()\n",
    "- tail()\n",
    "- type()\n",
    "- shape()\n",
    "- info()\n",
    "- describe()\n",
    "- value_counts()\n",
    "- sort_values()"
   ]
  },
  {
   "cell_type": "markdown",
   "metadata": {},
   "source": [
    "### 1.4. 원하는 데이터 선택"
   ]
  },
  {
   "cell_type": "markdown",
   "metadata": {},
   "source": [
    "- 슬라이싱: [[]]\n",
    "- 불린 인덱싱: []==?\n",
    "- loc[], iloc[]"
   ]
  },
  {
   "cell_type": "markdown",
   "metadata": {},
   "source": [
    "### 1.5. 연산Aggregation 함수"
   ]
  },
  {
   "cell_type": "markdown",
   "metadata": {},
   "source": [
    "- min(), max(), sum(), count()\n",
    "- groupby()"
   ]
  },
  {
   "cell_type": "markdown",
   "metadata": {},
   "source": [
    "### 1.6. 데이터 보간"
   ]
  },
  {
   "cell_type": "markdown",
   "metadata": {},
   "source": [
    "- 결측치 확인: isna()\n",
    "- 결측치 대체:\n",
    "    - fillna()\n",
    "    - replace()\n",
    "- 인덱스 초기화: reset_index()"
   ]
  },
  {
   "cell_type": "markdown",
   "metadata": {},
   "source": [
    "### 1.7. 데이터 삭제"
   ]
  },
  {
   "cell_type": "markdown",
   "metadata": {},
   "source": [
    "- drop()"
   ]
  },
  {
   "cell_type": "markdown",
   "metadata": {},
   "source": [
    "### 1.8. 사용자 지정함수 apply lambda()"
   ]
  },
  {
   "cell_type": "markdown",
   "metadata": {},
   "source": []
  },
  {
   "cell_type": "markdown",
   "metadata": {},
   "source": [
    "### 1.9. DataFrame 병합"
   ]
  },
  {
   "cell_type": "markdown",
   "metadata": {},
   "source": [
    "- pd.concat()\n",
    "- pd.merge()\n"
   ]
  },
  {
   "cell_type": "markdown",
   "metadata": {},
   "source": [
    "### 1.10. 기타"
   ]
  },
  {
   "cell_type": "markdown",
   "metadata": {},
   "source": [
    "- 컬럼 이름 바꾸기: df.column = []\n",
    "- 자료형 바꾸기: \n",
    "    - df.astype()\n",
    "    - apply(pd.to_numeric)\n",
    "- 로컬 파일의 특정 형식(csv) 파일 모두 읽어오기:\n",
    "    - from os import listdir\n",
    "    - from glob import iglob\n",
    "- DataFrame을 csv, excel 형태로 로컬에 저장하기\n",
    "    "
   ]
  },
  {
   "cell_type": "markdown",
   "metadata": {},
   "source": []
  },
  {
   "cell_type": "markdown",
   "metadata": {},
   "source": [
    "## 2. NumPy"
   ]
  },
  {
   "cell_type": "markdown",
   "metadata": {},
   "source": [
    "**NumPy**는 선형대수 기반 데이터/수치 분석 모듈입니다. 파이썬에서 여러 데이터를 연산할 때 for이나 while을 사용했습니다. 이런 형태를 loop라고 하고 계속해서 순차적으로 데이터를 확인하고 연산합니다. CPU를 사용해 하나하나 처리하는 형식입니다. \n",
    "\n",
    "하지만 numpy는 수치(숫자)로 된 데이터를 배열Array형식으로 인식하여 계산하기 때문에 기존보다 더 빠르게 만들어줍니다. 배열은 쉽게 말하면 n차원의 행렬matrix로 된 데이터입니다. NumPy가 빠른 이유는 GPU를 사용한 배열의 병렬 계산이 가능하기 때문입니다. (물론 cpu로도 가능합니다)\n",
    "\n",
    "이번 커리큘럼의 목적은 \"Python을 통한 데이터 수집/처리/시각화를 할 수 있다\"이기 때문에 더 효율적인 연산에 대한 설명은 각설합니다.\n",
    "\n",
    "앞선 설명과 같이 NumPy는 Pandas의 처리를 돕는 도구이지, 분석도구는 아닙니다. NumPy 또한 내용이 방대합니다. 기초적인 데이터 분석에 필요한 내용만 추렸으니 더 필요하다면 구글, 책을 통한 스터디를 추천드립니다."
   ]
  },
  {
   "cell_type": "markdown",
   "metadata": {},
   "source": [
    "### 2.1. 배열 생성 "
   ]
  },
  {
   "cell_type": "markdown",
   "metadata": {},
   "source": []
  },
  {
   "cell_type": "markdown",
   "metadata": {},
   "source": [
    "### 2.2. ndarray 속성"
   ]
  },
  {
   "cell_type": "markdown",
   "metadata": {},
   "source": []
  },
  {
   "cell_type": "markdown",
   "metadata": {},
   "source": [
    "### 2.3. 수학/ 통계 매서드"
   ]
  },
  {
   "cell_type": "markdown",
   "metadata": {},
   "source": [
    "- np.sum(): 전체 또는 특정 축의 원소의 합계\n",
    "- np.mean(): 산술평균\n",
    "- np.std(): 표준편차\n",
    "- np.var(): 분산\n",
    "- np.min(), max(): 최소값, 최대값\n",
    "- np.cumsum(): 누적합\n",
    "- np.comprod(): 누적곱"
   ]
  },
  {
   "cell_type": "markdown",
   "metadata": {},
   "source": [
    "### 2.4. array 선택: Slicing"
   ]
  },
  {
   "cell_type": "markdown",
   "metadata": {},
   "source": [
    "- []\n",
    "- 불린 인덱싱"
   ]
  },
  {
   "cell_type": "markdown",
   "metadata": {},
   "source": [
    "### 2.5. ndarray, 난수 생성"
   ]
  },
  {
   "cell_type": "markdown",
   "metadata": {},
   "source": [
    "- np.arange(): range의 numpy 버전. 0부터 함수 인자 값 -1까지의 값을 순차적으로 ndarray의 데이터값으로 변환해줌.\n",
    "- np.zeros(): 함수 인자로 튜플 형태의 shape 값을 입력하면 모든 값을 0으로 채운 해당 shape를 가진 ndarray를 반환함.\n",
    "- np.ones(): 함수 인자로 튜플 형태의 shape 값을 입력하면 모든 값을 1로 채운 해당 shape을 가진 ndarray를 반환함.\n",
    "\n",
    "- np.random.rand(): 균등 분포에서 추철\n",
    "- np.random.randint(): 주어진 범위 내의 임의의 난수\n",
    "- np.random.randn(): 표준편차가 1이고 평균 0인 정규 분포에서 추출\n",
    "- np.random.normal(): 정규 분포에서 추출"
   ]
  },
  {
   "cell_type": "markdown",
   "metadata": {},
   "source": []
  },
  {
   "cell_type": "markdown",
   "metadata": {},
   "source": [
    "## 3. Matplotlib"
   ]
  },
  {
   "cell_type": "markdown",
   "metadata": {},
   "source": [
    "우리는 이제 **시각화**를 통해 데이터를 직관적으로 표현할 겁니다. 판다스를 통해 데이터를 예쁘게 만들었어도, 처음 보는 사람이 코드부터 데이터프레임까지 확인하기는 어렵습니다. 그래서 우리는 시각화를 통해 점진적 증가나 하락, A와 B의 차이, 데이터의 분포 등을 고안해 냈습니다.\n",
    "\n",
    "**Matplotlib**은 가장 간단한 시각화 도구 중 하나입니다. Seaborn, plotly도 있지만 가장 기본적이고 모든 내용을 포괄하기 때문에 Matplotlib을 선정했습니다.\n",
    "\n",
    "Matplotlib 또한 모든 내용을 외운다고 생각하지 마세요. 어떤 작업을 할 수 있고, 어떤 매커니즘으로 코드를 작성하는지 흐름을 파악하시면 충분합니다. 어차피 막상 프로젝트 들어가면 다시 찾아보게 되니까요:)"
   ]
  },
  {
   "cell_type": "markdown",
   "metadata": {},
   "source": [
    "### 3.0. 기본 설정"
   ]
  },
  {
   "cell_type": "markdown",
   "metadata": {},
   "source": [
    "- plt.subplot(): 여러 개의 그래프 한 화면에 그리기\n",
    "- plt.legend(): 범례 그리기\n",
    "- plt.title(): 제목\n",
    "- plt.xlabel(): x축 제목\n",
    "- plt.ylabel(): y축 제목\n",
    "- plt.grid(): 그리드 설정\n",
    "- plt.xlim(), plt.ylim(): x, y축 범위 설정\n",
    "- 스타일 지정: plt.plot() 괄호 내부에 color='', markers='', linestyle=''을 통해 색, 점 모양, 선 스타일 지정\n"
   ]
  },
  {
   "cell_type": "markdown",
   "metadata": {},
   "source": [
    "### 3.1. 1차원"
   ]
  },
  {
   "cell_type": "markdown",
   "metadata": {},
   "source": [
    "- 히스토그램\n",
    "- pie chart\n",
    "- bar chart"
   ]
  },
  {
   "cell_type": "markdown",
   "metadata": {},
   "source": [
    "### 3.2. 2차원"
   ]
  },
  {
   "cell_type": "markdown",
   "metadata": {},
   "source": [
    "- line plot\n",
    "- scatter chart"
   ]
  },
  {
   "cell_type": "markdown",
   "metadata": {},
   "source": [
    "### 3.3. 3차원(참고)"
   ]
  },
  {
   "cell_type": "markdown",
   "metadata": {},
   "source": [
    "- bubble chart\n",
    "- color map\n",
    "- surface plot"
   ]
  }
 ],
 "metadata": {
  "language_info": {
   "name": "python"
  },
  "orig_nbformat": 4
 },
 "nbformat": 4,
 "nbformat_minor": 2
}
