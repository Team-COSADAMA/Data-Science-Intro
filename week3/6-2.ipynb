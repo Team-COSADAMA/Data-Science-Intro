{
 "cells": [
  {
   "cell_type": "markdown",
   "metadata": {},
   "source": [
    "\n",
    "### 4. 지도 정보를 얻을 수 있는 Google Maps\n",
    "\n",
    "우선 관서의 정확한 구를 파악하기 위해서 제대로 된 주소가 필요합니다. 또한 이후 지도로 시각화하기 위해서는 위도와 경도가 필요해요. 그래서 Google Maps에서는 관서의 주소, 위도, 경도의 정보를 가져오려 합니다. \n",
    "\n",
    "그럼 우선 Google Maps API에 접근하여 키를 가져와야 합니다. 그런데 이게 유료로 전환되었기는 한데, 충분히 무료로 사용할 수 있기 때문에 걱정하지 않아도 됩니다. 아래를 보고 키를 가져오면 됩니다.\n",
    "\n",
    "- [Google Maps API 다운로드](https://pinkwink.kr/1143)\n",
    "- 다운로드 후, 터미널에서 **pip install googlemaps** 입력해 까는 것 잊지말기!\n",
    "\n",
    "그럼 본격적으로 구글 맵스를 사용해봅시다."
   ]
  },
  {
   "cell_type": "code",
   "execution_count": null,
   "metadata": {},
   "outputs": [],
   "source": [
    "import googlemaps"
   ]
  },
  {
   "cell_type": "code",
   "execution_count": null,
   "metadata": {},
   "outputs": [],
   "source": [
    "gmaps_key = \"*****************************\"\n",
    "gmaps = googlemaps.Client(key=gmaps_key)"
   ]
  },
  {
   "cell_type": "markdown",
   "metadata": {},
   "source": [
    "요 key에는 여러분들이 받은 키를 넣으셔야 하겠죠? 나머지는 복붙해서 쓰면 됩니다.\n",
    "\n",
    "그럼 '서울중부경찰서'를 먼저 찾아보도록 할게요. 그냥 중부경찰서를 찾게될 경우, 서울이 아닌 다른 지역에 있는 중부경찰서가 나올 수 있기 때문에 서울중부경찰서라고 검색합니다. 어떻게 googlemaps에 표시되어 나올까요? "
   ]
  },
  {
   "cell_type": "code",
   "execution_count": null,
   "metadata": {},
   "outputs": [
    {
     "data": {
      "text/plain": [
       "[{'address_components': [{'long_name': '２７',\n",
       "    'short_name': '２７',\n",
       "    'types': ['premise']},\n",
       "   {'long_name': '수표로',\n",
       "    'short_name': '수표로',\n",
       "    'types': ['political', 'sublocality', 'sublocality_level_4']},\n",
       "   {'long_name': '중구',\n",
       "    'short_name': '중구',\n",
       "    'types': ['political', 'sublocality', 'sublocality_level_1']},\n",
       "   {'long_name': '서울특별시',\n",
       "    'short_name': '서울특별시',\n",
       "    'types': ['administrative_area_level_1', 'political']},\n",
       "   {'long_name': '대한민국',\n",
       "    'short_name': 'KR',\n",
       "    'types': ['country', 'political']},\n",
       "   {'long_name': '100-032',\n",
       "    'short_name': '100-032',\n",
       "    'types': ['postal_code']}],\n",
       "  'formatted_address': '대한민국 서울특별시 중구 수표로 27',\n",
       "  'geometry': {'location': {'lat': 37.56361709999999, 'lng': 126.9896517},\n",
       "   'location_type': 'ROOFTOP',\n",
       "   'viewport': {'northeast': {'lat': 37.5649660802915,\n",
       "     'lng': 126.9910006802915},\n",
       "    'southwest': {'lat': 37.5622681197085, 'lng': 126.9883027197085}}},\n",
       "  'partial_match': True,\n",
       "  'place_id': 'ChIJc-9q5uSifDURLhQmr5wkXmc',\n",
       "  'plus_code': {'compound_code': 'HX7Q+CV 대한민국 서울특별시',\n",
       "   'global_code': '8Q98HX7Q+CV'},\n",
       "  'types': ['establishment', 'point_of_interest', 'police']}]"
      ]
     },
     "metadata": {},
     "output_type": "display_data"
    }
   ],
   "source": [
    "gmaps.geocode('서울중부경찰서', language='ko')"
   ]
  },
  {
   "cell_type": "markdown",
   "metadata": {},
   "source": [
    "구조를 잘 살펴보세요. 전체가 리스트, 안에는 딕셔너리로 이루어진 것을 알 수 있습니다. 이를 잘 살펴봐야 하는게 우리가 구와 위도, 경도를 프로그래밍으로 뽑아낼 것이기 때문이에요. **formatted_address, lat, lng**에 정보들이 들어있네요. \n",
    "\n",
    "앞의 데이터프레임에서 googlemaps에 넣을 이름만 뽑아내보도록 하겠습니다. 아래는 프로그래밍이지만, 파이썬을 모두들 배웠으니 이해하실 수 있습니다. (이해해야 다음 번에 써먹을 수 있겠죵?)"
   ]
  },
  {
   "cell_type": "code",
   "execution_count": null,
   "metadata": {},
   "outputs": [
    {
     "data": {
      "text/plain": [
       "['서울중부경찰서',\n",
       " '서울종로경찰서',\n",
       " '서울남대문경찰서',\n",
       " '서울서대문경찰서',\n",
       " '서울혜화경찰서',\n",
       " '서울용산경찰서',\n",
       " '서울성북경찰서',\n",
       " '서울동대문경찰서',\n",
       " '서울마포경찰서',\n",
       " '서울영등포경찰서',\n",
       " '서울성동경찰서',\n",
       " '서울동작경찰서',\n",
       " '서울광진경찰서',\n",
       " '서울서부경찰서',\n",
       " '서울강북경찰서',\n",
       " '서울금천경찰서',\n",
       " '서울중랑경찰서',\n",
       " '서울강남경찰서',\n",
       " '서울관악경찰서',\n",
       " '서울강서경찰서',\n",
       " '서울강동경찰서',\n",
       " '서울종암경찰서',\n",
       " '서울구로경찰서',\n",
       " '서울서초경찰서',\n",
       " '서울양천경찰서',\n",
       " '서울송파경찰서',\n",
       " '서울노원경찰서',\n",
       " '서울방배경찰서',\n",
       " '서울은평경찰서',\n",
       " '서울도봉경찰서',\n",
       " '서울수서경찰서']"
      ]
     },
     "metadata": {},
     "output_type": "display_data"
    }
   ],
   "source": [
    "station_name = []\n",
    "\n",
    "for name in crime_anal_police['관서명']:\n",
    "    station_name.append('서울' + str(name) + '경찰서')   #혹시나 str이 아닐 경우를 대비해!\n",
    "    \n",
    "station_name"
   ]
  },
  {
   "cell_type": "markdown",
   "metadata": {},
   "source": [
    "앞에는 '서울, 뒤에는 '경찰서'를 붙였습니다. 이를 station_name에 담아두었습니다. \n",
    "\n",
    "station_address에는 주소를, station_lat에는 경도를, station_lng에는 위도를 담으려 합니다. 이 코드를 시행하는 데에는 조금 시간이 걸려요ㅎㅎ 또한 아래 코드들도 충분히 이해할 수 있으니 이해하시길 바라요."
   ]
  },
  {
   "cell_type": "code",
   "execution_count": null,
   "metadata": {},
   "outputs": [
    {
     "name": "stdout",
     "output_type": "stream",
     "text": [
      "서울중부경찰서-->대한민국 서울특별시 중구 수표로 27\n",
      "서울종로경찰서-->대한민국 서울특별시 종로구 종로1.2.3.4가동 율곡로 46\n",
      "서울남대문경찰서-->대한민국 서울특별시 중구 한강대로 410\n",
      "서울서대문경찰서-->대한민국 서울특별시 서대문구 통일로 113\n",
      "서울혜화경찰서-->대한민국 서울특별시 종로구 인의동 창경궁로 112-16\n",
      "서울용산경찰서-->대한민국 서울특별시 용산구 백범로 329\n",
      "서울성북경찰서-->대한민국 서울특별시 성북구 삼선동 보문로 170\n",
      "서울동대문경찰서-->대한민국 서울특별시 동대문구 약령시로21길 29\n",
      "서울마포경찰서-->대한민국 서울특별시 마포구 마포대로 183\n",
      "서울영등포경찰서-->대한민국 서울특별시 영등포구 르노삼성정비소옆철도청임시구역\n",
      "서울성동경찰서-->대한민국 서울특별시 성동구 행당동 왕십리광장로 9\n",
      "서울동작경찰서-->대한민국 서울특별시 동작구 노량진로 148\n",
      "서울광진경찰서-->대한민국 서울특별시 광진구 구의동 자양로 167\n",
      "서울서부경찰서-->대한민국 서울특별시 은평구 녹번동 177-15\n",
      "서울강북경찰서-->대한민국 서울특별시 강북구 오패산로 406\n",
      "서울금천경찰서-->대한민국 서울특별시 금천구 시흥대로73길 50\n",
      "서울중랑경찰서-->대한민국 서울특별시 중랑구 묵2동 249-2\n",
      "서울강남경찰서-->대한민국 서울특별시 강남구 테헤란로114길 11\n",
      "서울관악경찰서-->대한민국 서울특별시 관악구 관악로5길 33\n",
      "서울강서경찰서-->대한민국 서울특별시 강서구 화곡6동 980-27\n",
      "서울강동경찰서-->대한민국 서울특별시 강동구 성내로 57\n",
      "서울종암경찰서-->대한민국 서울특별시 성북구 종암로 135\n",
      "서울구로경찰서-->대한민국 서울특별시 구로구 가마산로 235\n",
      "서울서초경찰서-->대한민국 서울특별시 서초구 서초3동 반포대로 179\n",
      "서울양천경찰서-->대한민국 서울특별시 양천구 목동동로 99\n",
      "서울송파경찰서-->대한민국 서울특별시 송파구 중대로 221\n",
      "서울노원경찰서-->대한민국 서울특별시 노원구 하계동 노원로 283\n",
      "서울방배경찰서-->대한민국 서울특별시 서초구 동작대로 204\n",
      "서울은평경찰서-->대한민국 서울특별시 은평구 불광동 연서로 365\n",
      "서울도봉경찰서-->대한민국 서울특별시 도봉구 노해로 403\n",
      "서울수서경찰서-->대한민국 서울특별시 강남구 개포로 617\n"
     ]
    }
   ],
   "source": [
    "station_address = []\n",
    "station_lat = []\n",
    "station_lng = []\n",
    "\n",
    "for name in station_name: \n",
    "    tmp = gmaps.geocode(name, language='ko')\n",
    "    station_address.append(tmp[0].get(\"formatted_address\"))\n",
    "    \n",
    "    tmp_loc = tmp[0].get(\"geometry\")\n",
    "    station_lat.append(tmp_loc['location']['lat'])\n",
    "    station_lng.append(tmp_loc['location']['lng'])\n",
    "    print(name + '-->' + tmp[0].get(\"formatted_address\"))"
   ]
  },
  {
   "cell_type": "markdown",
   "metadata": {},
   "source": [
    "이렇게 주소들만 잘 뽑아냈네요. 그럼 각자 변수들에 의도한대로 잘 담겼는지 살펴볼게요."
   ]
  },
  {
   "cell_type": "code",
   "execution_count": null,
   "metadata": {},
   "outputs": [
    {
     "data": {
      "text/plain": [
       "['대한민국 서울특별시 중구 수표로 27',\n",
       " '대한민국 서울특별시 종로구 종로1.2.3.4가동 율곡로 46',\n",
       " '대한민국 서울특별시 중구 한강대로 410',\n",
       " '대한민국 서울특별시 서대문구 통일로 113',\n",
       " '대한민국 서울특별시 종로구 인의동 창경궁로 112-16',\n",
       " '대한민국 서울특별시 용산구 백범로 329',\n",
       " '대한민국 서울특별시 성북구 삼선동 보문로 170',\n",
       " '대한민국 서울특별시 동대문구 약령시로21길 29',\n",
       " '대한민국 서울특별시 마포구 마포대로 183',\n",
       " '대한민국 서울특별시 영등포구 르노삼성정비소옆철도청임시구역',\n",
       " '대한민국 서울특별시 성동구 행당동 왕십리광장로 9',\n",
       " '대한민국 서울특별시 동작구 노량진로 148',\n",
       " '대한민국 서울특별시 광진구 구의동 자양로 167',\n",
       " '대한민국 서울특별시 은평구 녹번동 177-15',\n",
       " '대한민국 서울특별시 강북구 오패산로 406',\n",
       " '대한민국 서울특별시 금천구 시흥대로73길 50',\n",
       " '대한민국 서울특별시 중랑구 묵2동 249-2',\n",
       " '대한민국 서울특별시 강남구 테헤란로114길 11',\n",
       " '대한민국 서울특별시 관악구 관악로5길 33',\n",
       " '대한민국 서울특별시 강서구 화곡6동 980-27',\n",
       " '대한민국 서울특별시 강동구 성내로 57',\n",
       " '대한민국 서울특별시 성북구 종암로 135',\n",
       " '대한민국 서울특별시 구로구 가마산로 235',\n",
       " '대한민국 서울특별시 서초구 서초3동 반포대로 179',\n",
       " '대한민국 서울특별시 양천구 목동동로 99',\n",
       " '대한민국 서울특별시 송파구 중대로 221',\n",
       " '대한민국 서울특별시 노원구 하계동 노원로 283',\n",
       " '대한민국 서울특별시 서초구 동작대로 204',\n",
       " '대한민국 서울특별시 은평구 불광동 연서로 365',\n",
       " '대한민국 서울특별시 도봉구 노해로 403',\n",
       " '대한민국 서울특별시 강남구 개포로 617']"
      ]
     },
     "metadata": {},
     "output_type": "display_data"
    }
   ],
   "source": [
    "station_address"
   ]
  },
  {
   "cell_type": "code",
   "execution_count": null,
   "metadata": {},
   "outputs": [
    {
     "data": {
      "text/plain": [
       "[37.56361709999999,\n",
       " 37.575548,\n",
       " 37.5547584,\n",
       " 37.5647439,\n",
       " 37.5718426,\n",
       " 37.5387099,\n",
       " 37.58977830000001,\n",
       " 37.58506149999999,\n",
       " 37.550814,\n",
       " 37.5190711,\n",
       " 37.5617303,\n",
       " 37.5130866,\n",
       " 37.542873,\n",
       " 37.6021405,\n",
       " 37.63730390000001,\n",
       " 37.4568722,\n",
       " 37.6056429,\n",
       " 37.5094352,\n",
       " 37.4743945,\n",
       " 37.551284,\n",
       " 37.528511,\n",
       " 37.6020592,\n",
       " 37.494931,\n",
       " 37.4956054,\n",
       " 37.5167711,\n",
       " 37.5016941,\n",
       " 37.6425238,\n",
       " 37.4945959,\n",
       " 37.6283178,\n",
       " 37.6533589,\n",
       " 37.49349]"
      ]
     },
     "metadata": {},
     "output_type": "display_data"
    }
   ],
   "source": [
    "station_lat"
   ]
  },
  {
   "cell_type": "code",
   "execution_count": null,
   "metadata": {},
   "outputs": [
    {
     "data": {
      "text/plain": [
       "[126.9896517,\n",
       " 126.9847471,\n",
       " 126.9734981,\n",
       " 126.9667705,\n",
       " 126.9986235,\n",
       " 126.9659183,\n",
       " 127.016589,\n",
       " 127.0457679,\n",
       " 126.954028,\n",
       " 126.9283514,\n",
       " 127.0364217,\n",
       " 126.9428498,\n",
       " 127.083821,\n",
       " 126.9213074,\n",
       " 127.0273399,\n",
       " 126.8970429,\n",
       " 127.0764866,\n",
       " 127.0669578,\n",
       " 126.9513489,\n",
       " 126.850038,\n",
       " 127.1268224,\n",
       " 127.0321577,\n",
       " 126.886731,\n",
       " 127.0052504,\n",
       " 126.8656996,\n",
       " 127.1272481,\n",
       " 127.0717076,\n",
       " 126.9831279,\n",
       " 126.9287041,\n",
       " 127.052682,\n",
       " 127.0772119]"
      ]
     },
     "metadata": {},
     "output_type": "display_data"
    }
   ],
   "source": [
    "station_lng"
   ]
  },
  {
   "cell_type": "markdown",
   "metadata": {},
   "source": [
    "그러면 이제 station_address에 담긴 구 정보를 빼내어 보도록 하겠습니다."
   ]
  },
  {
   "cell_type": "code",
   "execution_count": null,
   "metadata": {},
   "outputs": [
    {
     "data": {
      "text/html": [
       "<div>\n",
       "<style scoped>\n",
       "    .dataframe tbody tr th:only-of-type {\n",
       "        vertical-align: middle;\n",
       "    }\n",
       "\n",
       "    .dataframe tbody tr th {\n",
       "        vertical-align: top;\n",
       "    }\n",
       "\n",
       "    .dataframe thead th {\n",
       "        text-align: right;\n",
       "    }\n",
       "</style>\n",
       "<table border=\"1\" class=\"dataframe\">\n",
       "  <thead>\n",
       "    <tr style=\"text-align: right;\">\n",
       "      <th></th>\n",
       "      <th>관서명</th>\n",
       "      <th>살인 발생</th>\n",
       "      <th>살인 검거</th>\n",
       "      <th>강도 발생</th>\n",
       "      <th>강도 검거</th>\n",
       "      <th>강간,추행 발생</th>\n",
       "      <th>강간,추행 검거</th>\n",
       "      <th>절도 발생</th>\n",
       "      <th>절도 검거</th>\n",
       "      <th>폭력 발생</th>\n",
       "      <th>폭력 검거</th>\n",
       "      <th>구별</th>\n",
       "    </tr>\n",
       "  </thead>\n",
       "  <tbody>\n",
       "    <tr>\n",
       "      <th>0</th>\n",
       "      <td>중부</td>\n",
       "      <td>1</td>\n",
       "      <td>1</td>\n",
       "      <td>3</td>\n",
       "      <td>4</td>\n",
       "      <td>113.0</td>\n",
       "      <td>76.0</td>\n",
       "      <td>943</td>\n",
       "      <td>495</td>\n",
       "      <td>997</td>\n",
       "      <td>830</td>\n",
       "      <td>중구</td>\n",
       "    </tr>\n",
       "    <tr>\n",
       "      <th>1</th>\n",
       "      <td>종로</td>\n",
       "      <td>9</td>\n",
       "      <td>6</td>\n",
       "      <td>4</td>\n",
       "      <td>4</td>\n",
       "      <td>115.0</td>\n",
       "      <td>93.0</td>\n",
       "      <td>602</td>\n",
       "      <td>284</td>\n",
       "      <td>964</td>\n",
       "      <td>792</td>\n",
       "      <td>종로구</td>\n",
       "    </tr>\n",
       "    <tr>\n",
       "      <th>2</th>\n",
       "      <td>남대문</td>\n",
       "      <td>1</td>\n",
       "      <td>1</td>\n",
       "      <td>2</td>\n",
       "      <td>2</td>\n",
       "      <td>73.0</td>\n",
       "      <td>52.0</td>\n",
       "      <td>699</td>\n",
       "      <td>368</td>\n",
       "      <td>579</td>\n",
       "      <td>494</td>\n",
       "      <td>중구</td>\n",
       "    </tr>\n",
       "    <tr>\n",
       "      <th>3</th>\n",
       "      <td>서대문</td>\n",
       "      <td>3</td>\n",
       "      <td>3</td>\n",
       "      <td>2</td>\n",
       "      <td>1</td>\n",
       "      <td>159.0</td>\n",
       "      <td>149.0</td>\n",
       "      <td>1077</td>\n",
       "      <td>524</td>\n",
       "      <td>1292</td>\n",
       "      <td>1029</td>\n",
       "      <td>서대문구</td>\n",
       "    </tr>\n",
       "    <tr>\n",
       "      <th>4</th>\n",
       "      <td>혜화</td>\n",
       "      <td>0</td>\n",
       "      <td>0</td>\n",
       "      <td>3</td>\n",
       "      <td>3</td>\n",
       "      <td>77.0</td>\n",
       "      <td>53.0</td>\n",
       "      <td>581</td>\n",
       "      <td>310</td>\n",
       "      <td>747</td>\n",
       "      <td>628</td>\n",
       "      <td>종로구</td>\n",
       "    </tr>\n",
       "  </tbody>\n",
       "</table>\n",
       "</div>"
      ],
      "text/plain": [
       "   관서명  살인 발생  살인 검거  강도 발생  강도 검거  강간,추행 발생  강간,추행 검거  절도 발생  절도 검거  폭력 발생  \\\n",
       "0   중부      1      1      3      4     113.0      76.0    943    495    997   \n",
       "1   종로      9      6      4      4     115.0      93.0    602    284    964   \n",
       "2  남대문      1      1      2      2      73.0      52.0    699    368    579   \n",
       "3  서대문      3      3      2      1     159.0     149.0   1077    524   1292   \n",
       "4   혜화      0      0      3      3      77.0      53.0    581    310    747   \n",
       "\n",
       "   폭력 검거    구별  \n",
       "0    830    중구  \n",
       "1    792   종로구  \n",
       "2    494    중구  \n",
       "3   1029  서대문구  \n",
       "4    628   종로구  "
      ]
     },
     "metadata": {},
     "output_type": "display_data"
    }
   ],
   "source": [
    "gu_name = []\n",
    "\n",
    "for name in station_address: \n",
    "    tmp = name.split()\n",
    "    \n",
    "    # 한줄로는? tmp_gu = [gu for gu in tmp if gu[-1] == '구'][0]\n",
    "    for gu in tmp: \n",
    "        if gu[-1] == '구': \n",
    "            gu_name.append(gu)\n",
    "            \n",
    "crime_anal_police['구별'] = gu_name\n",
    "crime_anal_police.head()"
   ]
  },
  {
   "cell_type": "markdown",
   "metadata": {},
   "source": [
    "오, 우리가 의도한대로 구별이 잘 나왔습니다. 위를 힘들게 구했으니 우리 따로 파일에 일단 저장해둡시다. "
   ]
  },
  {
   "cell_type": "code",
   "execution_count": null,
   "metadata": {},
   "outputs": [],
   "source": [
    "crime_anal_police.to_csv('crime_in_Seoul_include_gu_name.csv', \n",
    "                        sep=',', encoding='utf-8')"
   ]
  },
  {
   "cell_type": "code",
   "execution_count": null,
   "metadata": {},
   "outputs": [
    {
     "data": {
      "text/html": [
       "<div>\n",
       "<style scoped>\n",
       "    .dataframe tbody tr th:only-of-type {\n",
       "        vertical-align: middle;\n",
       "    }\n",
       "\n",
       "    .dataframe tbody tr th {\n",
       "        vertical-align: top;\n",
       "    }\n",
       "\n",
       "    .dataframe thead th {\n",
       "        text-align: right;\n",
       "    }\n",
       "</style>\n",
       "<table border=\"1\" class=\"dataframe\">\n",
       "  <thead>\n",
       "    <tr style=\"text-align: right;\">\n",
       "      <th></th>\n",
       "      <th>관서명</th>\n",
       "      <th>살인 발생</th>\n",
       "      <th>살인 검거</th>\n",
       "      <th>강도 발생</th>\n",
       "      <th>강도 검거</th>\n",
       "      <th>강간,추행 발생</th>\n",
       "      <th>강간,추행 검거</th>\n",
       "      <th>절도 발생</th>\n",
       "      <th>절도 검거</th>\n",
       "      <th>폭력 발생</th>\n",
       "      <th>폭력 검거</th>\n",
       "      <th>구별</th>\n",
       "    </tr>\n",
       "  </thead>\n",
       "  <tbody>\n",
       "    <tr>\n",
       "      <th>0</th>\n",
       "      <td>중부</td>\n",
       "      <td>1</td>\n",
       "      <td>1</td>\n",
       "      <td>3</td>\n",
       "      <td>4</td>\n",
       "      <td>113.0</td>\n",
       "      <td>76.0</td>\n",
       "      <td>943</td>\n",
       "      <td>495</td>\n",
       "      <td>997</td>\n",
       "      <td>830</td>\n",
       "      <td>중구</td>\n",
       "    </tr>\n",
       "    <tr>\n",
       "      <th>1</th>\n",
       "      <td>종로</td>\n",
       "      <td>9</td>\n",
       "      <td>6</td>\n",
       "      <td>4</td>\n",
       "      <td>4</td>\n",
       "      <td>115.0</td>\n",
       "      <td>93.0</td>\n",
       "      <td>602</td>\n",
       "      <td>284</td>\n",
       "      <td>964</td>\n",
       "      <td>792</td>\n",
       "      <td>종로구</td>\n",
       "    </tr>\n",
       "    <tr>\n",
       "      <th>2</th>\n",
       "      <td>남대문</td>\n",
       "      <td>1</td>\n",
       "      <td>1</td>\n",
       "      <td>2</td>\n",
       "      <td>2</td>\n",
       "      <td>73.0</td>\n",
       "      <td>52.0</td>\n",
       "      <td>699</td>\n",
       "      <td>368</td>\n",
       "      <td>579</td>\n",
       "      <td>494</td>\n",
       "      <td>중구</td>\n",
       "    </tr>\n",
       "    <tr>\n",
       "      <th>3</th>\n",
       "      <td>서대문</td>\n",
       "      <td>3</td>\n",
       "      <td>3</td>\n",
       "      <td>2</td>\n",
       "      <td>1</td>\n",
       "      <td>159.0</td>\n",
       "      <td>149.0</td>\n",
       "      <td>1077</td>\n",
       "      <td>524</td>\n",
       "      <td>1292</td>\n",
       "      <td>1029</td>\n",
       "      <td>서대문구</td>\n",
       "    </tr>\n",
       "    <tr>\n",
       "      <th>4</th>\n",
       "      <td>혜화</td>\n",
       "      <td>0</td>\n",
       "      <td>0</td>\n",
       "      <td>3</td>\n",
       "      <td>3</td>\n",
       "      <td>77.0</td>\n",
       "      <td>53.0</td>\n",
       "      <td>581</td>\n",
       "      <td>310</td>\n",
       "      <td>747</td>\n",
       "      <td>628</td>\n",
       "      <td>종로구</td>\n",
       "    </tr>\n",
       "  </tbody>\n",
       "</table>\n",
       "</div>"
      ],
      "text/plain": [
       "   관서명  살인 발생  살인 검거  강도 발생  강도 검거  강간,추행 발생  강간,추행 검거  절도 발생  절도 검거  폭력 발생  \\\n",
       "0   중부      1      1      3      4     113.0      76.0    943    495    997   \n",
       "1   종로      9      6      4      4     115.0      93.0    602    284    964   \n",
       "2  남대문      1      1      2      2      73.0      52.0    699    368    579   \n",
       "3  서대문      3      3      2      1     159.0     149.0   1077    524   1292   \n",
       "4   혜화      0      0      3      3      77.0      53.0    581    310    747   \n",
       "\n",
       "   폭력 검거    구별  \n",
       "0    830    중구  \n",
       "1    792   종로구  \n",
       "2    494    중구  \n",
       "3   1029  서대문구  \n",
       "4    628   종로구  "
      ]
     },
     "metadata": {},
     "output_type": "display_data"
    }
   ],
   "source": [
    "crime_anal_police.head()"
   ]
  },
  {
   "cell_type": "markdown",
   "metadata": {},
   "source": [
    "구별에서 보듯이 중구와 종로구가 2개가 있죠? 구별 시각화를 하고 싶으니 이를 합춰주고 싶습니다. 이럴 때에는 pandas에 있는 pivot_table을 활용하면 빠르게 해결할 수 있습니다."
   ]
  }
 ],
 "metadata": {
  "language_info": {
   "name": "python"
  },
  "orig_nbformat": 4
 },
 "nbformat": 4,
 "nbformat_minor": 2
}
