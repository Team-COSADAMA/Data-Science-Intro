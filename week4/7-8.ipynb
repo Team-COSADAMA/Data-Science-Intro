{
 "cells": [
  {
   "cell_type": "markdown",
   "metadata": {},
   "source": [
    "### 7. 심화 - 기사의 여러 페이지를 한번에 크롤링해오기"
   ]
  },
  {
   "cell_type": "markdown",
   "metadata": {},
   "source": [
    "그럼, 이번에는 조금 더 심화해서 한국일보 사회면의 기사 제목과 url을 함께 가져와봅시다. 단, 이전의 네이버뉴스 크롤링은 1페이지만 가져왔다면, 이번에는 1페이지부터 5페이지까지의 기사제목을 모두 가져와보도록 하죠!\n",
    "\n",
    "- [한국일보 사회](https://www.hankookilbo.com/News/Society/HC01)"
   ]
  },
  {
   "cell_type": "code",
   "execution_count": null,
   "metadata": {},
   "outputs": [],
   "source": [
    "from urllib.request import urlopen \n",
    "from urllib.request import urljoin\n",
    "from bs4 import BeautifulSoup\n",
    "import re\n",
    "import openpyxl\n",
    "\n",
    "excel_file = openpyxl.Workbook()\n",
    "excel_file.remove(excel_file.active)\n",
    "excel_sheet = excel_file.create_sheet('헤드라인')  \n",
    "excel_sheet.column_dimensions['B'].width = 100   \n",
    "excel_sheet.column_dimensions['C'].width = 100\n",
    "excel_sheet.append(['번호', '제목', 'URL'])\n",
    " \n",
    "import urllib.request # 403 Forbidden 오류해결\n",
    "headers = {'User-Agent': 'Mozilla/5.0'}\n",
    "\n",
    "base_url = 'https://www.hankookilbo.com/News/Society/HC01?Page={}'\n",
    "num = 0\n",
    "for n in range(5) : \n",
    "    url = base_url.format(n+1)\n",
    "    page = urlopen(url)\n",
    "    soup = BeautifulSoup(page, \"html.parser\")\n",
    "    title = soup.find_all('h3')\n",
    "    for n in title : \n",
    "        a = re.sub('[\\\\n]','',n.get_text())\n",
    "        b= re.sub(\"\\s\\s\\s\\s\\s\\s\\s\\s\",'', a)\n",
    "        url_add = urljoin(base_url, n.find('a')['href'])\n",
    "        num += 1\n",
    "        excel_sheet.append([num, b, url_add])\n",
    "        \n",
    "        \n",
    "cell_A1 = excel_sheet['A1']\n",
    "cell_A1.alignment = openpyxl.styles.Alignment(horizontal=\"center\")  \n",
    "cell_B1 = excel_sheet['B1']\n",
    "cell_B1.alignment = openpyxl.styles.Alignment(horizontal=\"center\")  \n",
    "cell_C1 = excel_sheet['C1']\n",
    "cell_C1.alignment = openpyxl.styles.Alignment(horizontal=\"center\")\n",
    "excel_file.save('한국일보 사회면 1~5페이지 타이틀과 URL 크롤링.xlsx')\n",
    "excel_file.close()"
   ]
  }
 ],
 "metadata": {
  "language_info": {
   "name": "python"
  },
  "orig_nbformat": 4
 },
 "nbformat": 4,
 "nbformat_minor": 2
}
