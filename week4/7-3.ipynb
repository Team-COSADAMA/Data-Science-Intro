{
 "cells": [
  {
   "cell_type": "markdown",
   "metadata": {
    "id": "ESenmqwSC5cc"
   },
   "source": [
    "### 3. urllib 라이브러리를 이용해 웹 크롤링하기 \n",
    "\n",
    "이제 앞서 배운 BeautifulSoup 모듈과 urllib 라이브러리를 활용해 실제 사이트에서 웹을 크롤링해봅시다. 네이버 증권 국내증시에서 오늘의 코스피를 가져와 볼게요. \n",
    "\n",
    "우선 크롬의 개발자 도구를 활용하면 내가 가져오고자 하는 텍스트의 태그와 아이디, 클라스를 무척 쉽게 알 수 있어요. 혹은 인터넷을 사용해도 되구요.\n",
    "\n",
    "- urllib 라이브러리란 ?\n",
    "urllib은 URL 처리에 관련된 모듈을 모아 놓은 패키지입니다. urllib에 있는 request 모듈을 가져오고, 그 안의 함수를 사용할거에요. urllib.request.urlopen은 URL을 여는 함수인데 URL 열기에 성공하면 response.status의 값이 200이 나옵니다. 이 200은 HTTP 상태 코드이며 웹 서버가 요청을 제대로 처리했다는 뜻입니다. [더 자세한 내용](https://docs.python.org/3/library/urllib.request.html#module-urllib.request)\n",
    "\n",
    "- 크롬 개발자 도구란?\n",
    "구글에서 만든 웹브라우저인 크롬에는 개발을 도와주는 다양한 도구가 기본적으로 제공됩니다. [크롬 개발자 도구 사용법 참고](https://mainia.tistory.com/2393)\n",
    "\n",
    "\n",
    "- [네이버 증권 국내증시](https://finance.naver.com/sise/)\n",
    "\n",
    "코스피를 크롬 개발자 도구로 찾아보니까 <span>에 대한 태그들을 가져와야 겠네요. 그리고 KOSPI_now id를 가지고 있어요. "
   ]
  },
  {
   "cell_type": "code",
   "execution_count": null,
   "metadata": {
    "colab": {
     "base_uri": "https://localhost:8080/"
    },
    "id": "rDyn3JkZC5cd",
    "outputId": "3fbc356a-2f5c-4637-82f1-59d74960a8ff"
   },
   "outputs": [
    {
     "name": "stdout",
     "output_type": "stream",
     "text": [
      "200\n",
      "[<span class=\"num _au_real_list\">@code@</span>, <span class=\"num num2\" id=\"KOSPI_now\">2,652.95</span>, <span class=\"num num2\" id=\"KOSDAQ_now\">853.31</span>, <span class=\"num num2\" id=\"KPI200_now\">355.64</span>]\n"
     ]
    }
   ],
   "source": [
    "from urllib.request import urlopen\n",
    "from bs4 import BeautifulSoup\n",
    "\n",
    "res = urlopen('https://finance.naver.com/sise/') # url 넣기\n",
    "print(res.status) # 200이 나오면 성공~\n",
    "soup = BeautifulSoup(res, \"html.parser\") # 객체 생성\n",
    "\n",
    "data = soup.find_all('span', class_='num') # 원하는 태크를 이용해 찾기\n",
    "print(data)"
   ]
  },
  {
   "cell_type": "markdown",
   "metadata": {
    "id": "jpC5iiaeC5ce"
   },
   "source": [
    "data의 형태가 리스트인 것을 아시겠나요?! 코스피만 가져오려면 가장 첫 항목만 가져오면 되겠죠? 출력해봅니다."
   ]
  },
  {
   "cell_type": "code",
   "execution_count": null,
   "metadata": {
    "colab": {
     "base_uri": "https://localhost:8080/"
    },
    "id": "GPlNZdiMC5ce",
    "outputId": "4db773a3-0b9a-4372-8866-641c320d5eef"
   },
   "outputs": [
    {
     "data": {
      "text/plain": [
       "<span class=\"num _au_real_list\">@code@</span>"
      ]
     },
     "metadata": {},
     "output_type": "display_data"
    }
   ],
   "source": [
    "kospi = data[0]\n",
    "kospi"
   ]
  },
  {
   "cell_type": "code",
   "execution_count": null,
   "metadata": {
    "colab": {
     "base_uri": "https://localhost:8080/",
     "height": 35
    },
    "id": "2Bi4SI0JC5ce",
    "outputId": "948aa925-4a9d-4987-a0af-16ef937a411a"
   },
   "outputs": [
    {
     "data": {
      "text/plain": [
       "'@code@'"
      ]
     },
     "metadata": {},
     "output_type": "display_data"
    }
   ],
   "source": [
    "kospi.get_text()  # 문자만 가져와라 "
   ]
  },
  {
   "cell_type": "markdown",
   "metadata": {
    "id": "7RcPHjhuC5cg"
   },
   "source": [
    "get_text()를 이용해 코스피만 딱 가져왔네요 :)\n"
   ]
  }
 ],
 "metadata": {
  "language_info": {
   "name": "python"
  },
  "orig_nbformat": 4
 },
 "nbformat": 4,
 "nbformat_minor": 2
}
