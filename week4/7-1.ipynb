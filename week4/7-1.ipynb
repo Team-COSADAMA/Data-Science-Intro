{
 "cells": [
  {
   "cell_type": "markdown",
   "metadata": {
    "id": "wyGmczxvC5bu"
   },
   "source": [
    "# COSADAMA Introduction to Data Science Study\n",
    "\n",
    "# WEEK4 : 웹 크롤링과 정규 표현식\n",
    "\n",
    "- 작성자 : 송혜민 \n",
    "- 참고자료: 2020/2021 코사다마 데이터 분석 커리큘럼(박하람), 파이썬으로 데이터 주무르기(민형기), 점프 투 파이썬(박응용), 파이썬 입문과 크롤링 기초 부트캠프(잔재미코딩)\n",
    "\n",
    "이번 주차에는 드디어 **재밌는 웹 크롤링과 외계어 같은 정규 표현식**에 대해 알아보려고 합니다 🕷🕸\n",
    "\n",
    "웹 크롤링이라는 것은 웹에서 내가 원하는 데이터를 긁어오는 것을 말하는데요, 웹 크롤링을 하면 뭔가 내가 프로그래밍을 배웠긴 배웠구나라는 신기한 생각이 든답니다😀 웹 크롤링도 엄청나게 방대한 기술이 있기 때문에 기초적인 수준을 먼저 다뤄보려 합니다.\n",
    "\n",
    "웹에서 정보를 가져오기 위해서는 **HTML/CSS**에 대한 기본지식이 있어야 하니, 이 또한 필요한 부분(아주 작은 부분)만 뽑아서 학습해 볼 겁니다. 그 후에는 **정규표현식**을 배워 원하는 데이터만 좀 더 편하게가져올 수 있도록 할 것이구요!\n",
    "\n",
    "이번 주차는 학습 분량이 넘칩니다. 너무 많다고요? 어쩔 수 없습니다 ㅎ 정말 줄이고 줄여서 담은 내용이라 하나도 뺄게 없거든요... 😂\n",
    "\n",
    "마음의 준비가 다 되셨나요?\n",
    "\n",
    "준비가 다 되셨다면, **BeatifulSoup과 urllib 라이브러리를 활용해 웹 크롤링**을 해보고, 엑셀을 열고 기록하는데 사용되는 모듈 **openpyxl**을 사용해 가져온 데이터를 엑셀 파일에 저장하고 읽어본 뒤, **정규표현식**을 통해 원하는 데이터만 쏙쏙 골라보러 출발~🏃‍♀️🏃‍♂️\n",
    "\n",
    "### 1. HTML/CSS 기초 \n",
    "\n",
    "웹 크롤링을 하려면 웹이 어떤 문법으로 만들어지는지부터 우선 알아야 합니다. html는 웹 페이지를 만들기 위한 언어로 웹브라우저 위에서 동작하는 언어에요. 웹 페이지 뿐만 아니라 이미지, 텍스트, 비디오의 내용도 담을 수 있습니다. CSS는 간단히 웹 브라우저를 꾸며주는 언어라고 생각하면 되구요. 웹이 어떻게 구성되어 있는지를 이해해야 웹 크롤링도 할 수 있어요. 아래 링크를 보고 해당 부분만 학습하고 오면 됩니다!\n",
    "\n",
    "- [Introduction to HTML](https://www.codecademy.com/learn/learn-html) - syllabus 1. elements & structured의 Introduction to HTML과 HTML Document Standard 학습하기\n",
    "- [Learn CSS](https://www.codecademy.com/learn/learn-css) - syllabus의 Syntax and Selectors 중 Lesson(Set up and Syntax / Selectors) 학습하기\n",
    "\n",
    "\n",
    "- [생활코딩 WEB1 - HTML & Internet](https://opentutorials.org/course/3084) - 처음 ~ HTML 태그의 제왕까지\n",
    "- [생활코딩 WEB2 - CSS](https://opentutorials.org/course/3086) - 처음 ~ CSS 선택자를 스스로 알아내는 방법까지\n",
    "\n",
    "영어, 한글 교육자료를 모두 첨부합니다. 영어 자료는 직접 실습하며 공부할 수 있어요. 생활코딩 강의를 다 들으시고 복습 겸 영어 자료 사이트에 들어가셔서 실습해보시는 것도 추천합니다. 영어, 한글 자료를 모두 공부하실 필요는 없고, 편하신 것으로 공부하시면 됩니다.\n",
    "\n",
    "처음 배우시면 이것을 끝내시는데 하루(3시간 이상) 정도는 걸릴 것 같아요. html/css를 아시는 분들은 이 파트를 넘어가시면 됩니다."
   ]
  }
 ],
 "metadata": {
  "language_info": {
   "name": "python"
  },
  "orig_nbformat": 4
 },
 "nbformat": 4,
 "nbformat_minor": 2
}
