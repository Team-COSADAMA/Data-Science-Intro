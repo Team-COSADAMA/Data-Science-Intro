{
 "cells": [
  {
   "cell_type": "markdown",
   "metadata": {
    "id": "rGBihF7GC5cj"
   },
   "source": [
    "### 5. 정규표현식\n",
    "정규 표현식(Regular Expressions)은 복잡한 문자열을 처리할 때 사용하는 기법으로, 파이썬만의 고유 문법이 아니라 문자열을 처리하는 모든 곳에서 사용해요. 기초 문법 할 때는 다루지 않았는데요, 그만큼 초보들이 배우기에는 어려울 수 있어요. 하지만 우리는 때가 되었으니! 정규표현식에 대해 배워봅시다.\n",
    "\n",
    "[점프 투 파이썬 7장 정규표현식](https://wikidocs.net/1669) - 7장을 모두 숙지하시면 됩니다.\n",
    "\n",
    "위를 학습한 후, [**깃헙의 regularexpression.html**](https://github.com/hyemin-song/Data-Science-Intro-1/tree/main/week4/regularexpression)을 다운받아 학습하세요!"
   ]
  },
  {
   "cell_type": "code",
   "execution_count": null,
   "metadata": {
    "colab": {
     "base_uri": "https://localhost:8080/"
    },
    "id": "4pAtcTYwC5ck",
    "outputId": "61db7f19-5724-4718-f1f5-b93f2b6694ca"
   },
   "outputs": [
    {
     "name": "stdout",
     "output_type": "stream",
     "text": [
      "[' AI 고객센터 \\'카카오 i 커넥트 센터\\' 오픈…\"기업고객 겨냥\"', \" 삼성, 갤S22·탭S8에 '삼성케어플러스 케이스구독형' 적용\", \" KT, MWC에서 'AI 통화비서' 선보인다\", ' 네이버, \\'학급 밴드\\' 2년간 440만명 가입…\"학교 필수앱으로 부상\"', ' 삼성전자, ‘삼성케어플러스 케이스 구독형’ 서비스 선봬', ' 과기정통부, 이음5G 시장 키운다…\"5G 기반 디지털 혁신 주도\"', \" 파손 보장에 케이스까지…'갤S22·탭S8 구독서비스' 나왔다\", \" 과기부, 올해 340억 규모 '메타버스 플랫폼 개발지원 사업' 공모\", ' 과기부, 1인 미디어 지원사업 본격 추진…창작자경제 뒷받침', ' 한국 5G 기지국 전자파 평가방법 국제표준으로 채택', ' 과기부, 올해 여성과학기술인 지원 사업에 251억 투자', ' 제2의 통신비 인하? 정치권 ‘통신데이터 보장’ 압박 커지나', ' \"갑자기 화내는 성인 ADHD, 게임으로 치료 가능하다\"', ' 구글의 차세대 폰 ‘픽셀7·픽셀7프로’ 렌더링 공개', ' 캐논코리아, RF 마운트 초망원 줌렌즈 2종 공개', ' 삼성, 갤S22·탭S8 구매고객 위해 케이스 구독형 서비스', ' 삼성, 갤S22·탭S8 구매고객 위해 케이스구독형 서비스', \" 삼성전자, '삼성케어플러스 케이스구독형' 서비스 출시\", ' 삼성, 갤S22·갤탭S8 대상 ‘삼성케어플러스 케이스구독형’ 출시', \" 갤럭시S22·탭S8, '삼성케어플러스 케이스구독형 서비스' 출시\"]\n"
     ]
    }
   ],
   "source": [
    "from urllib.request import urlopen \n",
    "from bs4 import BeautifulSoup\n",
    "import re\n",
    "\n",
    "url = 'https://news.naver.com/main/list.naver?mode=LS2D&mid=shm&sid1=105&sid2=731'\n",
    "page = urlopen(url)\n",
    "soup = BeautifulSoup(page, \"html.parser\")\n",
    "\n",
    "title = soup.find_all('dt', class_= None)\n",
    "titles=[]\n",
    "for n in title:\n",
    "    a= re.sub('[\\\\n]','',n.get_text())\n",
    "    b= re.sub(\"\\s\\s\\s\\s\\s\\s\\s\\s\",'', a)\n",
    "    titles.append(b)\n",
    "    \n",
    "print(titles)"
   ]
  },
  {
   "cell_type": "markdown",
   "metadata": {
    "id": "hNgGZzpoC5ck"
   },
   "source": [
    "정규표현식으로 타이틀을 정리해주니 말끔하게 헤드라인 기사 제목만 뽑혔습니다. \"어? 그런데 중간중간 \\가 여전히 안 없어진거 아닌가요?\" 하실 수 있겠지만, 리스트의 요소를 나타낼 때 사용하는 작은 따옴표와 기사 제목의 작은 따옴표를 구분하기 위해 써준거라고 보시면 될거 같아요. 출력해보면 원래대로 나온답니다."
   ]
  }
 ],
 "metadata": {
  "language_info": {
   "name": "python"
  },
  "orig_nbformat": 4
 },
 "nbformat": 4,
 "nbformat_minor": 2
}
