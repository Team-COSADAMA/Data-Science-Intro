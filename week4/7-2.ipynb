{
 "cells": [
  {
   "cell_type": "markdown",
   "metadata": {},
   "source": [
    "\n",
    "### 1. HTML/CSS 기초 \n",
    "\n",
    "웹 크롤링을 하려면 웹이 어떤 문법으로 만들어지는지부터 우선 알아야 합니다. html는 웹 페이지를 만들기 위한 언어로 웹브라우저 위에서 동작하는 언어에요. 웹 페이지 뿐만 아니라 이미지, 텍스트, 비디오의 내용도 담을 수 있습니다. CSS는 간단히 웹 브라우저를 꾸며주는 언어라고 생각하면 되구요. 웹이 어떻게 구성되어 있는지를 이해해야 웹 크롤링도 할 수 있어요. 아래 링크를 보고 해당 부분만 학습하고 오면 됩니다!\n",
    "\n",
    "- [Introduction to HTML](https://www.codecademy.com/learn/learn-html) - syllabus 1. elements & structured의 Introduction to HTML과 HTML Document Standard 학습하기\n",
    "- [Learn CSS](https://www.codecademy.com/learn/learn-css) - syllabus의 Syntax and Selectors 중 Lesson(Set up and Syntax / Selectors) 학습하기\n",
    "\n",
    "\n",
    "- [생활코딩 WEB1 - HTML & Internet](https://opentutorials.org/course/3084) - 처음 ~ HTML 태그의 제왕까지\n",
    "- [생활코딩 WEB2 - CSS](https://opentutorials.org/course/3086) - 처음 ~ CSS 선택자를 스스로 알아내는 방법까지\n",
    "\n",
    "영어, 한글 교육자료를 모두 첨부합니다. 영어 자료는 직접 실습하며 공부할 수 있어요. 생활코딩 강의를 다 들으시고 복습 겸 영어 자료 사이트에 들어가셔서 실습해보시는 것도 추천합니다. 영어, 한글 자료를 모두 공부하실 필요는 없고, 편하신 것으로 공부하시면 됩니다.\n",
    "\n",
    "처음 배우시면 이것을 끝내시는데 하루(3시간 이상) 정도는 걸릴 것 같아요. html/css를 아시는 분들은 이 파트를 넘어가시면 됩니다."
   ]
  }
 ],
 "metadata": {
  "language_info": {
   "name": "python"
  },
  "orig_nbformat": 4
 },
 "nbformat": 4,
 "nbformat_minor": 2
}
