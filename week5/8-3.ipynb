{
 "cells": [
  {
   "cell_type": "markdown",
   "metadata": {},
   "source": [
    "### 절대경로와 상대경로"
   ]
  },
  {
   "cell_type": "markdown",
   "metadata": {},
   "source": [
    "앞서 상대경로, 절대경로에 대한 설명을 잠깐 드렸는데요. 더 정확하게 이해를 하기 위해서 샌드위치 페이지에 있는 모든 url들을 가져와 볼게요."
   ]
  },
  {
   "cell_type": "code",
   "execution_count": null,
   "metadata": {},
   "outputs": [
    {
     "name": "stdout",
     "output_type": "stream",
     "text": [
      "/Chicago-Magazine/November-2012/Best-Sandwiches-in-Chicago-Old-Oak-Tap-BLT/\n",
      "/Chicago-Magazine/November-2012/Best-Sandwiches-in-Chicago-Au-Cheval-Fried-Bologna/\n",
      "/Chicago-Magazine/November-2012/Best-Sandwiches-in-Chicago-Xoco-Woodland-Mushroom/\n",
      "/Chicago-Magazine/November-2012/Best-Sandwiches-in-Chicago-Als-Deli-Roast-Beef/\n",
      "/Chicago-Magazine/November-2012/Best-Sandwiches-in-Chicago-Publican-Quality-Meats-PB-L/\n",
      "https://www.chicagomag.com/Chicago-Magazine/November-2012/Best-Sandwiches-in-Chicago-Hendrickx-Belgian-Bread-Crafter-Belgian-Chicken-Curry-Salad/\n",
      "/Chicago-Magazine/November-2012/Best-Sandwiches-in-Chicago-Acadia-Lobster-Roll/\n",
      "/Chicago-Magazine/November-2012/Best-Sandwiches-in-Chicago-Birchwood-Kitchen-Smoked-Salmon-Salad/\n",
      "/Chicago-Magazine/November-2012/Best-Sandwiches-in-Chicago-Cemitas-Puebla-Atomica-Cemitas/\n",
      "/Chicago-Magazine/November-2012/Best-Sandwiches-in-Chicago-Nana-Grilled-Laughing-Bird-Shrimp-and-Fried-Oyster-Po-Boy/\n",
      "https://www.chicagomag.com/Chicago-Magazine/November-2012/Best-Sandwiches-in-Chicago-Lula-Cafe-Ham-and-Raclette-Panino/\n",
      "https://www.chicagomag.com/Chicago-Magazine/November-2012/Best-Sandwiches-in-Chicago-Ricobenes-Breaded-Steak/\n",
      "https://www.chicagomag.com/Chicago-Magazine/November-2012/Best-Sandwiches-in-Chicago-Frog-n-Snail-The-Hawkeye/\n",
      "https://www.chicagomag.com/Chicago-Magazine/November-2012/Best-Sandwiches-in-Chicago-Crosbys-Kitchen-Chicken-Dip/\n",
      "https://www.chicagomag.com/Chicago-Magazine/November-2012/Best-Sandwiches-in-Chicago-Longman-and-Eagle-Wild-Boar-Sloppy-Joe/\n"
     ]
    }
   ],
   "source": [
    "# 상대경로와 절대경로 - 그냥 검은색으로 되어 있는 부분은 상대경로, 링크로 되어 있는 것은 절대경로 \n",
    "address_all = soup.find_all('div', 'sammy')\n",
    "for item in address_all[:15]: \n",
    "    print(item.find('a')['href'])"
   ]
  },
  {
   "cell_type": "markdown",
   "metadata": {},
   "source": [
    "15줄만 뽑아 보았는데, 여기서 상대경로로 된 부분들이 많죠? 이것 이용해 바로 사이트를 열려면, 앞에 https://www.chicagomag.com 을 붙여주어야 합니다. 이렇게 묶어주기 위해서 urllib에 있는 urljoin을 사용할 거에요. 이 함수는 절대 경로라면 냅두고, 상대경로에만 앞의 주소를 붙여서 절대 경로로 전환시켜줘요."
   ]
  },
  {
   "cell_type": "code",
   "execution_count": null,
   "metadata": {},
   "outputs": [
    {
     "data": {
      "text/plain": [
       "'https://www.chicagomag.com/Chicago-Magazine/November-2012/Best-Sandwiches-in-Chicago-Longman-and-Eagle-Wild-Boar-Sloppy-Joe/'"
      ]
     },
     "metadata": {},
     "output_type": "display_data"
    }
   ],
   "source": [
    "from urllib.parse import urljoin\n",
    "\n",
    "urljoin('https://www.chicagomag.com', item.find('a')['href'])"
   ]
  },
  {
   "cell_type": "markdown",
   "metadata": {},
   "source": [
    "그러면 이제 모든 정보들을 가져와 보겠습니다.\n",
    "\n"
   ]
  },
  {
   "cell_type": "code",
   "execution_count": null,
   "metadata": {},
   "outputs": [],
   "source": [
    "rank = []\n",
    "main_menu = []\n",
    "cafe_name = []\n",
    "url_add =[]\n",
    "\n",
    "list_soup = soup.find_all('div', 'sammy')\n",
    "\n",
    "for item in list_soup:\n",
    "    rank.append(item.find(class_='sammyRank').get_text())\n",
    "    \n",
    "    tmp_string = item.find(class_='sammyListing').get_text()\n",
    "    \n",
    "    main_menu.append(re.split(('\\n|\\r\\n'), tmp_string)[0])\n",
    "    cafe_name.append(re.split(('\\n|\\r\\n'), tmp_string)[1])\n",
    "    \n",
    "    url_add.append(urljoin(url_base, item.find('a')['href']))"
   ]
  },
  {
   "cell_type": "markdown",
   "metadata": {},
   "source": [
    "제대로 가져와졌는지 확인을 해보겠습니다."
   ]
  },
  {
   "cell_type": "code",
   "execution_count": null,
   "metadata": {},
   "outputs": [
    {
     "data": {
      "text/plain": [
       "['1', '2', '3', '4', '5']"
      ]
     },
     "metadata": {},
     "output_type": "display_data"
    }
   ],
   "source": [
    "rank[:5]"
   ]
  },
  {
   "cell_type": "code",
   "execution_count": null,
   "metadata": {},
   "outputs": [
    {
     "data": {
      "text/plain": [
       "['BLT', 'Fried Bologna', 'Woodland Mushroom', 'Roast Beef', 'PB&L']"
      ]
     },
     "metadata": {},
     "output_type": "display_data"
    }
   ],
   "source": [
    "main_menu[:5]"
   ]
  },
  {
   "cell_type": "code",
   "execution_count": null,
   "metadata": {},
   "outputs": [
    {
     "data": {
      "text/plain": [
       "['Old Oak Tap', 'Au Cheval', 'Xoco', 'Al’s Deli', 'Publican Quality Meats']"
      ]
     },
     "metadata": {},
     "output_type": "display_data"
    }
   ],
   "source": [
    "cafe_name[:5]"
   ]
  },
  {
   "cell_type": "code",
   "execution_count": null,
   "metadata": {},
   "outputs": [
    {
     "data": {
      "text/plain": [
       "['https://www.chicagomag.com/Chicago-Magazine/November-2012/Best-Sandwiches-in-Chicago-Old-Oak-Tap-BLT/',\n",
       " 'https://www.chicagomag.com/Chicago-Magazine/November-2012/Best-Sandwiches-in-Chicago-Au-Cheval-Fried-Bologna/',\n",
       " 'https://www.chicagomag.com/Chicago-Magazine/November-2012/Best-Sandwiches-in-Chicago-Xoco-Woodland-Mushroom/',\n",
       " 'https://www.chicagomag.com/Chicago-Magazine/November-2012/Best-Sandwiches-in-Chicago-Als-Deli-Roast-Beef/',\n",
       " 'https://www.chicagomag.com/Chicago-Magazine/November-2012/Best-Sandwiches-in-Chicago-Publican-Quality-Meats-PB-L/']"
      ]
     },
     "metadata": {},
     "output_type": "display_data"
    }
   ],
   "source": [
    "url_add[:5]"
   ]
  },
  {
   "cell_type": "markdown",
   "metadata": {},
   "source": [
    "개수도 50개가 맞는지 확인해 볼게요!"
   ]
  },
  {
   "cell_type": "code",
   "execution_count": null,
   "metadata": {},
   "outputs": [
    {
     "data": {
      "text/plain": [
       "(50, 50, 50, 50)"
      ]
     },
     "metadata": {},
     "output_type": "display_data"
    }
   ],
   "source": [
    "len(rank), len(main_menu), len(cafe_name), len(url_add)"
   ]
  },
  {
   "cell_type": "markdown",
   "metadata": {},
   "source": [
    "### DataFrame에 정보 담기\n"
   ]
  },
  {
   "cell_type": "markdown",
   "metadata": {},
   "source": [
    "이렇게 웹 크롤링을 통해 구한 정보들을 모두 데이터 프레임에 담아 둡시다. 이제는 pandas의 DataFrame이 친숙하죠?ㅎㅎ"
   ]
  },
  {
   "cell_type": "code",
   "execution_count": null,
   "metadata": {},
   "outputs": [
    {
     "data": {
      "text/html": [
       "<div>\n",
       "<style scoped>\n",
       "    .dataframe tbody tr th:only-of-type {\n",
       "        vertical-align: middle;\n",
       "    }\n",
       "\n",
       "    .dataframe tbody tr th {\n",
       "        vertical-align: top;\n",
       "    }\n",
       "\n",
       "    .dataframe thead th {\n",
       "        text-align: right;\n",
       "    }\n",
       "</style>\n",
       "<table border=\"1\" class=\"dataframe\">\n",
       "  <thead>\n",
       "    <tr style=\"text-align: right;\">\n",
       "      <th></th>\n",
       "      <th>Rank</th>\n",
       "      <th>Menu</th>\n",
       "      <th>Cafe</th>\n",
       "      <th>URL</th>\n",
       "    </tr>\n",
       "  </thead>\n",
       "  <tbody>\n",
       "    <tr>\n",
       "      <th>0</th>\n",
       "      <td>1</td>\n",
       "      <td>BLT</td>\n",
       "      <td>Old Oak Tap</td>\n",
       "      <td>https://www.chicagomag.com/Chicago-Magazine/No...</td>\n",
       "    </tr>\n",
       "    <tr>\n",
       "      <th>1</th>\n",
       "      <td>2</td>\n",
       "      <td>Fried Bologna</td>\n",
       "      <td>Au Cheval</td>\n",
       "      <td>https://www.chicagomag.com/Chicago-Magazine/No...</td>\n",
       "    </tr>\n",
       "    <tr>\n",
       "      <th>2</th>\n",
       "      <td>3</td>\n",
       "      <td>Woodland Mushroom</td>\n",
       "      <td>Xoco</td>\n",
       "      <td>https://www.chicagomag.com/Chicago-Magazine/No...</td>\n",
       "    </tr>\n",
       "    <tr>\n",
       "      <th>3</th>\n",
       "      <td>4</td>\n",
       "      <td>Roast Beef</td>\n",
       "      <td>Al’s Deli</td>\n",
       "      <td>https://www.chicagomag.com/Chicago-Magazine/No...</td>\n",
       "    </tr>\n",
       "    <tr>\n",
       "      <th>4</th>\n",
       "      <td>5</td>\n",
       "      <td>PB&amp;L</td>\n",
       "      <td>Publican Quality Meats</td>\n",
       "      <td>https://www.chicagomag.com/Chicago-Magazine/No...</td>\n",
       "    </tr>\n",
       "  </tbody>\n",
       "</table>\n",
       "</div>"
      ],
      "text/plain": [
       "  Rank               Menu                    Cafe  \\\n",
       "0    1                BLT             Old Oak Tap   \n",
       "1    2      Fried Bologna               Au Cheval   \n",
       "2    3  Woodland Mushroom                    Xoco   \n",
       "3    4         Roast Beef               Al’s Deli   \n",
       "4    5               PB&L  Publican Quality Meats   \n",
       "\n",
       "                                                 URL  \n",
       "0  https://www.chicagomag.com/Chicago-Magazine/No...  \n",
       "1  https://www.chicagomag.com/Chicago-Magazine/No...  \n",
       "2  https://www.chicagomag.com/Chicago-Magazine/No...  \n",
       "3  https://www.chicagomag.com/Chicago-Magazine/No...  \n",
       "4  https://www.chicagomag.com/Chicago-Magazine/No...  "
      ]
     },
     "metadata": {},
     "output_type": "display_data"
    }
   ],
   "source": [
    "import pandas as pd \n",
    "\n",
    "data = {'Rank': rank, 'Menu':main_menu, 'Cafe':cafe_name, 'URL':url_add}\n",
    "df = pd.DataFrame(data)\n",
    "df.head()"
   ]
  },
  {
   "cell_type": "markdown",
   "metadata": {},
   "source": [
    "예히, 정보들이 잘 담겼네요. 우리가 원하는 칼럼 순으로 정보를 저장해주려면 아래와 같이 하면 됩니다."
   ]
  },
  {
   "cell_type": "code",
   "execution_count": null,
   "metadata": {},
   "outputs": [
    {
     "data": {
      "text/html": [
       "<div>\n",
       "<style scoped>\n",
       "    .dataframe tbody tr th:only-of-type {\n",
       "        vertical-align: middle;\n",
       "    }\n",
       "\n",
       "    .dataframe tbody tr th {\n",
       "        vertical-align: top;\n",
       "    }\n",
       "\n",
       "    .dataframe thead th {\n",
       "        text-align: right;\n",
       "    }\n",
       "</style>\n",
       "<table border=\"1\" class=\"dataframe\">\n",
       "  <thead>\n",
       "    <tr style=\"text-align: right;\">\n",
       "      <th></th>\n",
       "      <th>Rank</th>\n",
       "      <th>Cafe</th>\n",
       "      <th>Menu</th>\n",
       "      <th>URL</th>\n",
       "    </tr>\n",
       "  </thead>\n",
       "  <tbody>\n",
       "    <tr>\n",
       "      <th>0</th>\n",
       "      <td>1</td>\n",
       "      <td>Old Oak Tap</td>\n",
       "      <td>BLT</td>\n",
       "      <td>https://www.chicagomag.com/Chicago-Magazine/No...</td>\n",
       "    </tr>\n",
       "    <tr>\n",
       "      <th>1</th>\n",
       "      <td>2</td>\n",
       "      <td>Au Cheval</td>\n",
       "      <td>Fried Bologna</td>\n",
       "      <td>https://www.chicagomag.com/Chicago-Magazine/No...</td>\n",
       "    </tr>\n",
       "    <tr>\n",
       "      <th>2</th>\n",
       "      <td>3</td>\n",
       "      <td>Xoco</td>\n",
       "      <td>Woodland Mushroom</td>\n",
       "      <td>https://www.chicagomag.com/Chicago-Magazine/No...</td>\n",
       "    </tr>\n",
       "    <tr>\n",
       "      <th>3</th>\n",
       "      <td>4</td>\n",
       "      <td>Al’s Deli</td>\n",
       "      <td>Roast Beef</td>\n",
       "      <td>https://www.chicagomag.com/Chicago-Magazine/No...</td>\n",
       "    </tr>\n",
       "    <tr>\n",
       "      <th>4</th>\n",
       "      <td>5</td>\n",
       "      <td>Publican Quality Meats</td>\n",
       "      <td>PB&amp;L</td>\n",
       "      <td>https://www.chicagomag.com/Chicago-Magazine/No...</td>\n",
       "    </tr>\n",
       "  </tbody>\n",
       "</table>\n",
       "</div>"
      ],
      "text/plain": [
       "  Rank                    Cafe               Menu  \\\n",
       "0    1             Old Oak Tap                BLT   \n",
       "1    2               Au Cheval      Fried Bologna   \n",
       "2    3                    Xoco  Woodland Mushroom   \n",
       "3    4               Al’s Deli         Roast Beef   \n",
       "4    5  Publican Quality Meats               PB&L   \n",
       "\n",
       "                                                 URL  \n",
       "0  https://www.chicagomag.com/Chicago-Magazine/No...  \n",
       "1  https://www.chicagomag.com/Chicago-Magazine/No...  \n",
       "2  https://www.chicagomag.com/Chicago-Magazine/No...  \n",
       "3  https://www.chicagomag.com/Chicago-Magazine/No...  \n",
       "4  https://www.chicagomag.com/Chicago-Magazine/No...  "
      ]
     },
     "metadata": {},
     "output_type": "display_data"
    }
   ],
   "source": [
    "df = df[['Rank','Cafe','Menu','URL']]\n",
    "df.head()"
   ]
  },
  {
   "cell_type": "markdown",
   "metadata": {},
   "source": [
    "잘 되었으니, 이를 우리 csv에다 저장해 둡니다. 이렇게 중간 저장을 잘 해놓지 않으면, 정보가 날라가 버리는 것은 당연하고, 웹 크롤링하는데 시간이 너무 많이 걸리면 다시 하기가 또 곤란해져요. 그러니 중간 저장을 습관화 해두는 것이 좋습니다."
   ]
  },
  {
   "cell_type": "code",
   "execution_count": null,
   "metadata": {},
   "outputs": [],
   "source": [
    "df.to_csv('03. best_sandwiches_list_chicago.csv', sep=',', encoding='utf-8')"
   ]
  },
  {
   "cell_type": "markdown",
   "metadata": {},
   "source": [
    "이렇게 무사히 저장까지 해보았습니다."
   ]
  }
 ],
 "metadata": {
  "language_info": {
   "name": "python"
  },
  "orig_nbformat": 4
 },
 "nbformat": 4,
 "nbformat_minor": 2
}
