{
 "cells": [
  {
   "cell_type": "markdown",
   "metadata": {},
   "source": [
    "### 서울시 구별 주유소 가격 정보 얻기"
   ]
  },
  {
   "cell_type": "markdown",
   "metadata": {},
   "source": [
    "* [opinet - 싼 주유소 찾기 - 지역별](https://www.opinet.co.kr/searRgSelect.do)\n",
    "\n",
    "지역별 주소 사이트를 selenium으로 들어가려면 어떻게 해야 할까요? 아래와 같이 하면 됩니다."
   ]
  },
  {
   "cell_type": "markdown",
   "metadata": {},
   "source": [
    "이동경로를 아래에다 넣어주고, get에다가는 원하는 사이트의 주소를 입력합니다.\n",
    "```'chromedriver'``` 부분은 본인의 chromedriver가 있는 디렉토리 주소를 넣어주면 됩니다."
   ]
  },
  {
   "cell_type": "code",
   "execution_count": null,
   "metadata": {},
   "outputs": [],
   "source": [
    "driver = webdriver.Chrome('chromedriver')\n",
    "driver.get(\"http://www.opinet.co.kr/searRgSelect.do\")\n",
    "driver.get(\"http://www.opinet.co.kr/searRgSelect.do\") # 두번 해야 들어가 짐."
   ]
  },
  {
   "cell_type": "markdown",
   "metadata": {},
   "source": [
    "![](img/week5_img2.png)"
   ]
  },
  {
   "cell_type": "markdown",
   "metadata": {},
   "source": [
    "opinet에 들어갔는데 경기도가 기본으로 세팅되어 있네요? 우리는 서울 주유소 기름값을 알아보려고 하니까 서울로 설정해 줍시다. 개발자도구에서 xpath를 확인해서 서울로 바꾸는 코드는 다음과 같습니다. 직접 한번 xpath가 어떻게 설정되어 있는지, 어떤 tag에 걸려 있는지 확인해 보세요!"
   ]
  },
  {
   "cell_type": "code",
   "execution_count": null,
   "metadata": {},
   "outputs": [],
   "source": [
    "# 시/도를 선택하는 박스의 xpath\n",
    "si_list_raw = driver.find_element_by_xpath(\"\"\"//*[@id=\"SIDO_NM0\"]\"\"\")"
   ]
  },
  {
   "cell_type": "code",
   "execution_count": null,
   "metadata": {},
   "outputs": [
    {
     "data": {
      "text/plain": [
       "[<selenium.webdriver.remote.webelement.WebElement (session=\"18b549bd12df9b8cd57b03e2ee07d74c\", element=\"1b7199df-4837-4ba0-989a-4e701b7fd9bf\")>,\n",
       " <selenium.webdriver.remote.webelement.WebElement (session=\"18b549bd12df9b8cd57b03e2ee07d74c\", element=\"c02c0681-25fc-49ea-8e65-9a5ce52f30fa\")>,\n",
       " <selenium.webdriver.remote.webelement.WebElement (session=\"18b549bd12df9b8cd57b03e2ee07d74c\", element=\"3c84c505-9e98-4b30-928b-cb9da9b4bdff\")>,\n",
       " <selenium.webdriver.remote.webelement.WebElement (session=\"18b549bd12df9b8cd57b03e2ee07d74c\", element=\"799d88bc-e60d-4e3c-8395-8cb65e76f8ac\")>,\n",
       " <selenium.webdriver.remote.webelement.WebElement (session=\"18b549bd12df9b8cd57b03e2ee07d74c\", element=\"878e0dcc-1b80-47a8-9ae3-3f2233b93bb3\")>]"
      ]
     },
     "metadata": {},
     "output_type": "display_data"
    }
   ],
   "source": [
    "si_list = si_list_raw.find_elements_by_tag_name('option')\n",
    "si_list[:5]"
   ]
  },
  {
   "cell_type": "code",
   "execution_count": null,
   "metadata": {},
   "outputs": [],
   "source": [
    "si_names = [option.get_attribute('value') for option in si_list]\n",
    "si_names.remove('')"
   ]
  },
  {
   "cell_type": "code",
   "execution_count": null,
   "metadata": {},
   "outputs": [],
   "source": [
    "# 시/군 첫번째=서울로 바꿔주기\n",
    "element = driver.find_element_by_id(\"SIDO_NM0\")\n",
    "element.send_keys(si_names[0])"
   ]
  },
  {
   "cell_type": "markdown",
   "metadata": {},
   "source": [
    "짜잔! 이렇게 두번 해주면 지역별 사이트에 들어갈 수 있어요."
   ]
  },
  {
   "cell_type": "markdown",
   "metadata": {},
   "source": [
    "![](img/week5_img3.png)"
   ]
  },
  {
   "cell_type": "markdown",
   "metadata": {},
   "source": [
    "서울시 구별로 정보를 얻어올 것이니, 빨간색 박스 마포구라 적혀져 있는 곳을 바꾸어줘야겠고, 바꾼 결과로 조회 버튼까지 눌러줘야겠지요. 또 아래처럼 엑셀 저장 버튼까지 눌러줘야 엑셀로 결과가 저장되겠죠.\n",
    "\n",
    "그럼 우선 '구' 버튼부터 눌르며 바꿔보죠. 이 때 필요한 것이 xpath에요. 크롬 개발자 도구로 해당 구 버튼의 xpath를 copy하고요, 확보한 xpath를 이용해 element를 찾고 gu_list_raw 변수에 저장합니다.\n",
    "\n",
    "* [selenium 문법](https://github.com/SeongJaeMoon/PracPython/blob/master/selenium_dom_selector.md)"
   ]
  },
  {
   "cell_type": "code",
   "execution_count": null,
   "metadata": {},
   "outputs": [],
   "source": [
    "gu_list_raw = driver.find_element_by_xpath(\"\"\"//*[@id=\"SIGUNGU_NM0\"]\"\"\")"
   ]
  },
  {
   "cell_type": "markdown",
   "metadata": {},
   "source": [
    "그 다음에는 구 이름이 option이라는 태그에 저장되어 있으니까, 아래와 같이 option이라는 태그를 찾아 줍니다."
   ]
  },
  {
   "cell_type": "code",
   "execution_count": null,
   "metadata": {},
   "outputs": [
    {
     "data": {
      "text/plain": [
       "[<selenium.webdriver.remote.webelement.WebElement (session=\"18b549bd12df9b8cd57b03e2ee07d74c\", element=\"82f0d939-00e8-4b23-80bc-0947fa2449b8\")>,\n",
       " <selenium.webdriver.remote.webelement.WebElement (session=\"18b549bd12df9b8cd57b03e2ee07d74c\", element=\"7788c07c-3216-4791-8522-283543c5afc4\")>,\n",
       " <selenium.webdriver.remote.webelement.WebElement (session=\"18b549bd12df9b8cd57b03e2ee07d74c\", element=\"3c10c371-3d79-4e23-914e-f0aea96d81ba\")>,\n",
       " <selenium.webdriver.remote.webelement.WebElement (session=\"18b549bd12df9b8cd57b03e2ee07d74c\", element=\"d9fbe3bc-d760-43b0-8333-beee746f99c4\")>,\n",
       " <selenium.webdriver.remote.webelement.WebElement (session=\"18b549bd12df9b8cd57b03e2ee07d74c\", element=\"e4fafd22-d3be-4a80-a4fc-f6f1d7f24fac\")>]"
      ]
     },
     "metadata": {},
     "output_type": "display_data"
    }
   ],
   "source": [
    "gu_list = gu_list_raw.find_elements_by_tag_name(\"option\")\n",
    "gu_list[:5]"
   ]
  },
  {
   "cell_type": "markdown",
   "metadata": {},
   "source": [
    "이것처럼 gu_list에는 우리가 원한게 잘 보이지 않죠? 구 이름은 option의 value라는 곳에 있었으니까요, value를 아래와 같이 가져옵니다."
   ]
  },
  {
   "cell_type": "code",
   "execution_count": null,
   "metadata": {},
   "outputs": [
    {
     "data": {
      "text/plain": [
       "['강남구',\n",
       " '강동구',\n",
       " '강북구',\n",
       " '강서구',\n",
       " '관악구',\n",
       " '광진구',\n",
       " '구로구',\n",
       " '금천구',\n",
       " '노원구',\n",
       " '도봉구',\n",
       " '동대문구',\n",
       " '동작구',\n",
       " '마포구',\n",
       " '서대문구',\n",
       " '서초구',\n",
       " '성동구',\n",
       " '성북구',\n",
       " '송파구',\n",
       " '양천구',\n",
       " '영등포구',\n",
       " '용산구',\n",
       " '은평구',\n",
       " '종로구',\n",
       " '중구',\n",
       " '중랑구']"
      ]
     },
     "metadata": {},
     "output_type": "display_data"
    }
   ],
   "source": [
    "gu_names = [option.get_attribute(\"value\") for option in gu_list]\n",
    "gu_names.remove('')  # 이것을 넣었다 빼보세요. 어떤 기능인지 알 수 있습니다.\n",
    "gu_names"
   ]
  },
  {
   "cell_type": "code",
   "execution_count": null,
   "metadata": {},
   "outputs": [
    {
     "data": {
      "text/plain": [
       "25"
      ]
     },
     "metadata": {},
     "output_type": "display_data"
    }
   ],
   "source": [
    "len(gu_names)"
   ]
  },
  {
   "cell_type": "markdown",
   "metadata": {},
   "source": [
    "리스트로 구성되어 있죠? 총 구가 25이네요. 이후 엑셀 파일이 총 25개가 다운로드 되었는지 확인하셔야 해요. 구 이름이 있는 태그에 gu_names에서 첫번째 것만 한번 입력해보도록 할게요."
   ]
  },
  {
   "cell_type": "code",
   "execution_count": null,
   "metadata": {},
   "outputs": [],
   "source": [
    "element = driver.find_element_by_id(\"SIGUNGU_NM0\")\n",
    "element.send_keys(gu_names[0])"
   ]
  },
  {
   "cell_type": "markdown",
   "metadata": {},
   "source": [
    "![](img/week5_img6.png)"
   ]
  },
  {
   "cell_type": "markdown",
   "metadata": {},
   "source": [
    "저렇게 강남구로 바뀌었죠? 그러면 이제는 조회버튼을 눌러야 되겠네요. 그럼 조회 버튼은 또 xpath를 사용해 클릭해주면 됩니다. (조회버튼 xpath copy하는 것 잊지 마세요!)"
   ]
  },
  {
   "cell_type": "code",
   "execution_count": null,
   "metadata": {},
   "outputs": [],
   "source": [
    "#조회버튼의 Xpath를 찾아서 클릭\n",
    "xpath ='''//*[@id=\"searRgSelect\"]/span'''\n",
    "element_sel_gu = driver.find_element_by_xpath(xpath).click()"
   ]
  },
  {
   "cell_type": "markdown",
   "metadata": {},
   "source": [
    "![](img/week5_img7.png)"
   ]
  },
  {
   "cell_type": "markdown",
   "metadata": {},
   "source": [
    "이렇게 바뀌었다면, okay! 이제는 엑셀을 얻어야 하니까, 또 xpath를 알아내서 엑셀 저장 버튼을 클릭하면 되겠죠!"
   ]
  },
  {
   "cell_type": "code",
   "execution_count": null,
   "metadata": {},
   "outputs": [],
   "source": [
    "xpath ='''//*[@id=\"glopopd_excel\"]/span'''\n",
    "element_get_excel = driver.find_element_by_xpath(xpath).click()"
   ]
  },
  {
   "cell_type": "markdown",
   "metadata": {},
   "source": [
    "그러면 웹 브라우저에서 다운로드 시 사용되는 폴더에서 '지역_위치별(주유소)'가 생성된 것을 확인할 수 있을 겁니다."
   ]
  },
  {
   "cell_type": "markdown",
   "metadata": {},
   "source": [
    "그렇다면 이제 알았으니, 전체 구들의 엑셀 파일을 모두 가져와봅시다. 시간이 꽤 오래 걸리는 작업일 것이기 때문에 tqdm을 사용해서 걸리는 시간을 시각화 해볼 것이구요. 어떻게 코드가 구성될지 한번 생각해보신다음 아래 코드를 확인하세요!"
   ]
  },
  {
   "cell_type": "code",
   "execution_count": null,
   "metadata": {},
   "outputs": [
    {
     "name": "stderr",
     "output_type": "stream",
     "text": [
      "<ipython-input-66-8d7a2744fb60>:4: TqdmDeprecationWarning: This function will be removed in tqdm==5.0.0\n",
      "Please use `tqdm.notebook.tqdm` instead of `tqdm.tqdm_notebook`\n",
      "  for gu in tqdm_notebook(gu_names):\n"
     ]
    },
    {
     "data": {
      "application/vnd.jupyter.widget-view+json": {
       "model_id": "0f2e2ec2075f4ba0bd9e731082a7acc3",
       "version_major": 2,
       "version_minor": 0
      },
      "text/plain": [
       "  0%|          | 0/25 [00:00<?, ?it/s]"
      ]
     },
     "metadata": {},
     "output_type": "display_data"
    }
   ],
   "source": [
    "import time\n",
    "from tqdm import tqdm_notebook\n",
    "\n",
    "for gu in tqdm_notebook(gu_names): \n",
    "    element = driver.find_element_by_id(\"SIGUNGU_NM0\")\n",
    "    element.send_keys(gu)\n",
    "    \n",
    "    time.sleep(2) # 중간중간 기다리라는 time.sleep 명령 \n",
    "    \n",
    "    xpath ='''//*[@id=\"searRgSelect\"]/span'''\n",
    "    element_sel_gu = driver.find_element_by_xpath(xpath).click()\n",
    "    \n",
    "    time.sleep(1)\n",
    "    \n",
    "    xpath ='''//*[@id=\"glopopd_excel\"]/span'''\n",
    "    element_get_excel = driver.find_element_by_xpath(xpath).click()\n",
    "    \n",
    "    time.sleep(1)"
   ]
  },
  {
   "cell_type": "markdown",
   "metadata": {},
   "source": [
    "![](img/week5_img8.png)"
   ]
  },
  {
   "cell_type": "markdown",
   "metadata": {},
   "source": [
    "이렇게 총 25개의 파일이 다운로드되어 있으면 됩니다. 그럼 이제 웹 드라이버를 종료하면 끝!"
   ]
  },
  {
   "cell_type": "code",
   "execution_count": null,
   "metadata": {},
   "outputs": [],
   "source": [
    "driver.close()"
   ]
  },
  {
   "cell_type": "markdown",
   "metadata": {},
   "source": [
    "### 구별 주유 가격에 대한 데이터의 정리"
   ]
  },
  {
   "cell_type": "markdown",
   "metadata": {},
   "source": [
    "이제는 구별 주유 가격에 대한 데이터를 정리해보려 합니다. 이제는 정말 익숙해진 pandas를 활용하여 이것저것 요리해부죠. 우선 다운로드 폴더에 담겨져 있는 엑셀 파일을 본인의 코드가 적혀있는 파일에다 옮깁니다. 저는 새롭게 data라는 폴더를 모두 담아서 거기다 넣어놨어요."
   ]
  },
  {
   "cell_type": "markdown",
   "metadata": {},
   "source": [
    "#### glob으로 원하는 파일 쉽게 가져오기"
   ]
  },
  {
   "cell_type": "markdown",
   "metadata": {},
   "source": [
    "원하는 파일을 가져오려면 파일경로가 필요합니다. 쉽게 파일을 가져올 수 있도록 해주는 모듈이 glob이에요. 해당 모듈들을 import 해보겠습니다."
   ]
  },
  {
   "cell_type": "code",
   "execution_count": null,
   "metadata": {},
   "outputs": [],
   "source": [
    "import pandas as pd \n",
    "from glob import glob"
   ]
  },
  {
   "cell_type": "markdown",
   "metadata": {},
   "source": [
    "* [glob의 간단한 사용법](https://wikidocs.net/83)"
   ]
  },
  {
   "cell_type": "markdown",
   "metadata": {},
   "source": [
    "glob을 이용하면 쉽게 파일들을 가져올 수 있어요. 아래 *는 지역으로 시작하는 것은 모두 가져오라는 거에요. 지역 뒤의 이름은 상관이 없는거죠."
   ]
  },
  {
   "cell_type": "code",
   "execution_count": null,
   "metadata": {},
   "outputs": [
    {
     "data": {
      "text/plain": [
       "['data/지역_위치별(주유소) (9).xls',\n",
       " 'data/지역_위치별(주유소) (12).xls',\n",
       " 'data/지역_위치별(주유소) (5).xls',\n",
       " 'data/지역_위치별(주유소) (24).xls',\n",
       " 'data/지역_위치별(주유소) (4).xls',\n",
       " 'data/지역_위치별(주유소) (13).xls',\n",
       " 'data/지역_위치별(주유소) (8).xls',\n",
       " 'data/지역_위치별(주유소) (3).xls',\n",
       " 'data/지역_위치별(주유소) (18).xls',\n",
       " 'data/지역_위치별(주유소) (22).xls',\n",
       " 'data/지역_위치별(주유소) (14).xls',\n",
       " 'data/지역_위치별(주유소) (15).xls',\n",
       " 'data/지역_위치별(주유소) (23).xls',\n",
       " 'data/지역_위치별(주유소) (19).xls',\n",
       " 'data/지역_위치별(주유소) (2).xls',\n",
       " 'data/지역_위치별(주유소) (20).xls',\n",
       " 'data/지역_위치별(주유소) (1).xls',\n",
       " 'data/지역_위치별(주유소) (16).xls',\n",
       " 'data/지역_위치별(주유소) (17).xls',\n",
       " 'data/지역_위치별(주유소) (21).xls',\n",
       " 'data/지역_위치별(주유소) (10).xls',\n",
       " 'data/지역_위치별(주유소).xls',\n",
       " 'data/지역_위치별(주유소) (7).xls',\n",
       " 'data/지역_위치별(주유소) (6).xls',\n",
       " 'data/지역_위치별(주유소) (11).xls']"
      ]
     },
     "metadata": {},
     "output_type": "display_data"
    }
   ],
   "source": [
    "glob('data/지역*.xls')"
   ]
  },
  {
   "cell_type": "code",
   "execution_count": null,
   "metadata": {},
   "outputs": [
    {
     "data": {
      "text/plain": [
       "25"
      ]
     },
     "metadata": {},
     "output_type": "display_data"
    }
   ],
   "source": [
    "len(glob('data/지역*.xls'))"
   ]
  },
  {
   "cell_type": "markdown",
   "metadata": {},
   "source": [
    "25개도 맞네요. 그럼 이것들을 모두 가져와서 file에다 저장해 보겠습니다."
   ]
  },
  {
   "cell_type": "code",
   "execution_count": null,
   "metadata": {},
   "outputs": [
    {
     "data": {
      "text/plain": [
       "['data/지역_위치별(주유소) (9).xls',\n",
       " 'data/지역_위치별(주유소) (12).xls',\n",
       " 'data/지역_위치별(주유소) (5).xls',\n",
       " 'data/지역_위치별(주유소) (24).xls',\n",
       " 'data/지역_위치별(주유소) (4).xls',\n",
       " 'data/지역_위치별(주유소) (13).xls',\n",
       " 'data/지역_위치별(주유소) (8).xls',\n",
       " 'data/지역_위치별(주유소) (3).xls',\n",
       " 'data/지역_위치별(주유소) (18).xls',\n",
       " 'data/지역_위치별(주유소) (22).xls',\n",
       " 'data/지역_위치별(주유소) (14).xls',\n",
       " 'data/지역_위치별(주유소) (15).xls',\n",
       " 'data/지역_위치별(주유소) (23).xls',\n",
       " 'data/지역_위치별(주유소) (19).xls',\n",
       " 'data/지역_위치별(주유소) (2).xls',\n",
       " 'data/지역_위치별(주유소) (20).xls',\n",
       " 'data/지역_위치별(주유소) (1).xls',\n",
       " 'data/지역_위치별(주유소) (16).xls',\n",
       " 'data/지역_위치별(주유소) (17).xls',\n",
       " 'data/지역_위치별(주유소) (21).xls',\n",
       " 'data/지역_위치별(주유소) (10).xls',\n",
       " 'data/지역_위치별(주유소).xls',\n",
       " 'data/지역_위치별(주유소) (7).xls',\n",
       " 'data/지역_위치별(주유소) (6).xls',\n",
       " 'data/지역_위치별(주유소) (11).xls']"
      ]
     },
     "metadata": {},
     "output_type": "display_data"
    }
   ],
   "source": [
    "stations_files = glob('data/지역*.xls')\n",
    "stations_files"
   ]
  },
  {
   "cell_type": "markdown",
   "metadata": {},
   "source": [
    "#### 25개 파일 병합하기"
   ]
  },
  {
   "cell_type": "markdown",
   "metadata": {},
   "source": [
    "pandas로 가공하려면 우선 이 25개의 파일들을 하나의 DataFrame에 담아야 하겠죠? 이를 모두 병합하기 위해서 열 방향으로 합쳐지는 concat 함수를 이용할 겁니다."
   ]
  },
  {
   "cell_type": "code",
   "execution_count": null,
   "metadata": {},
   "outputs": [
    {
     "data": {
      "text/html": [
       "<div>\n",
       "<style scoped>\n",
       "    .dataframe tbody tr th:only-of-type {\n",
       "        vertical-align: middle;\n",
       "    }\n",
       "\n",
       "    .dataframe tbody tr th {\n",
       "        vertical-align: top;\n",
       "    }\n",
       "\n",
       "    .dataframe thead th {\n",
       "        text-align: right;\n",
       "    }\n",
       "</style>\n",
       "<table border=\"1\" class=\"dataframe\">\n",
       "  <thead>\n",
       "    <tr style=\"text-align: right;\">\n",
       "      <th></th>\n",
       "      <th>지역</th>\n",
       "      <th>상호</th>\n",
       "      <th>주소</th>\n",
       "      <th>상표</th>\n",
       "      <th>전화번호</th>\n",
       "      <th>셀프여부</th>\n",
       "      <th>고급휘발유</th>\n",
       "      <th>휘발유</th>\n",
       "      <th>경유</th>\n",
       "      <th>실내등유</th>\n",
       "    </tr>\n",
       "  </thead>\n",
       "  <tbody>\n",
       "    <tr>\n",
       "      <th>0</th>\n",
       "      <td>서울특별시</td>\n",
       "      <td>(주)자연에너지 햇살주유소</td>\n",
       "      <td>서울 도봉구 방학로 142 (방학동)</td>\n",
       "      <td>현대오일뱅크</td>\n",
       "      <td>02-954-4555</td>\n",
       "      <td>Y</td>\n",
       "      <td>1898</td>\n",
       "      <td>1665</td>\n",
       "      <td>1487</td>\n",
       "      <td>-</td>\n",
       "    </tr>\n",
       "    <tr>\n",
       "      <th>1</th>\n",
       "      <td>서울특별시</td>\n",
       "      <td>도봉제일주유소(주)송만에너지</td>\n",
       "      <td>서울 도봉구 도봉로 783 (도봉동)</td>\n",
       "      <td>현대오일뱅크</td>\n",
       "      <td>02-955-5185</td>\n",
       "      <td>N</td>\n",
       "      <td>-</td>\n",
       "      <td>1669</td>\n",
       "      <td>1492</td>\n",
       "      <td>1170</td>\n",
       "    </tr>\n",
       "    <tr>\n",
       "      <th>2</th>\n",
       "      <td>서울특별시</td>\n",
       "      <td>삼미북부셀프주유소</td>\n",
       "      <td>서울 도봉구 도봉로 437 (쌍문동)</td>\n",
       "      <td>SK에너지</td>\n",
       "      <td>02-992-5561</td>\n",
       "      <td>Y</td>\n",
       "      <td>-</td>\n",
       "      <td>1671</td>\n",
       "      <td>1493</td>\n",
       "      <td>1200</td>\n",
       "    </tr>\n",
       "    <tr>\n",
       "      <th>3</th>\n",
       "      <td>서울특별시</td>\n",
       "      <td>현대오일뱅크㈜직영 도봉현대셀프주유소</td>\n",
       "      <td>서울 도봉구 도봉로 941 (도봉동)</td>\n",
       "      <td>현대오일뱅크</td>\n",
       "      <td>02-3492-7371</td>\n",
       "      <td>Y</td>\n",
       "      <td>-</td>\n",
       "      <td>1695</td>\n",
       "      <td>1523</td>\n",
       "      <td>-</td>\n",
       "    </tr>\n",
       "    <tr>\n",
       "      <th>4</th>\n",
       "      <td>서울특별시</td>\n",
       "      <td>(주)헨지스에너지 구도일주유소 도봉</td>\n",
       "      <td>서울 도봉구 도봉로 706 (방학동)</td>\n",
       "      <td>S-OIL</td>\n",
       "      <td>02-3491-3454</td>\n",
       "      <td>Y</td>\n",
       "      <td>-</td>\n",
       "      <td>1695</td>\n",
       "      <td>1525</td>\n",
       "      <td>-</td>\n",
       "    </tr>\n",
       "  </tbody>\n",
       "</table>\n",
       "</div>"
      ],
      "text/plain": [
       "      지역                   상호                    주소      상표          전화번호  \\\n",
       "0  서울특별시       (주)자연에너지 햇살주유소  서울 도봉구 방학로 142 (방학동)  현대오일뱅크   02-954-4555   \n",
       "1  서울특별시      도봉제일주유소(주)송만에너지  서울 도봉구 도봉로 783 (도봉동)  현대오일뱅크   02-955-5185   \n",
       "2  서울특별시            삼미북부셀프주유소  서울 도봉구 도봉로 437 (쌍문동)   SK에너지   02-992-5561   \n",
       "3  서울특별시  현대오일뱅크㈜직영 도봉현대셀프주유소  서울 도봉구 도봉로 941 (도봉동)  현대오일뱅크  02-3492-7371   \n",
       "4  서울특별시  (주)헨지스에너지 구도일주유소 도봉  서울 도봉구 도봉로 706 (방학동)   S-OIL  02-3491-3454   \n",
       "\n",
       "  셀프여부 고급휘발유   휘발유    경유  실내등유  \n",
       "0    Y  1898  1665  1487     -  \n",
       "1    N     -  1669  1492  1170  \n",
       "2    Y     -  1671  1493  1200  \n",
       "3    Y     -  1695  1523     -  \n",
       "4    Y     -  1695  1525     -  "
      ]
     },
     "metadata": {},
     "output_type": "display_data"
    }
   ],
   "source": [
    "# 25개의 DataFrame이 담길 리스트\n",
    "tmp_raw = []\n",
    "\n",
    "for file_name in stations_files:\n",
    "    # 한 개씩 DataFrame을 불러오기\n",
    "    tmp = pd.read_excel(file_name, header=2)\n",
    "    # tmp_raw에다 추가하기\n",
    "    tmp_raw.append(tmp)\n",
    "    \n",
    "# 25개의 DataFrame 병합하기    \n",
    "station_raw = pd.concat(tmp_raw)\n",
    "station_raw.head()"
   ]
  },
  {
   "cell_type": "markdown",
   "metadata": {},
   "source": [
    "이제 우리에게 익숙한 데이터프레임이네요. 여기에는 지역, 상호, 주소, 상표, 셀프여부, 휘발유 값 등이 들어있네요. 우리가 이번에 할 프로젝트의 주제는 셀프 주유소가 정말로 싼지 아닌지 팩트체크를 해보는 것이었잖아요. 그러니까 여기에서 중요한 컬럼은 셀프여부가 되겠구요, 구별로 알아보려고 했으니 주소가 중요할 겁니다. (지역은 모두 서울이라 필요가 없어요.) 이렇게 데이터의 특성을 파악하는게 중요하고요. 전반적으로 어떻게 담겨있는지 알기 위해서 아래를 확인해보았습니다."
   ]
  },
  {
   "cell_type": "code",
   "execution_count": null,
   "metadata": {},
   "outputs": [
    {
     "name": "stdout",
     "output_type": "stream",
     "text": [
      "<class 'pandas.core.frame.DataFrame'>\n",
      "Int64Index: 471 entries, 0 to 9\n",
      "Data columns (total 10 columns):\n",
      " #   Column  Non-Null Count  Dtype \n",
      "---  ------  --------------  ----- \n",
      " 0   지역      471 non-null    object\n",
      " 1   상호      471 non-null    object\n",
      " 2   주소      471 non-null    object\n",
      " 3   상표      471 non-null    object\n",
      " 4   전화번호    471 non-null    object\n",
      " 5   셀프여부    471 non-null    object\n",
      " 6   고급휘발유   471 non-null    object\n",
      " 7   휘발유     471 non-null    object\n",
      " 8   경유      471 non-null    object\n",
      " 9   실내등유    471 non-null    object\n",
      "dtypes: object(10)\n",
      "memory usage: 40.5+ KB\n"
     ]
    }
   ],
   "source": [
    "station_raw.info()"
   ]
  },
  {
   "cell_type": "markdown",
   "metadata": {},
   "source": [
    "중요한 컬럼이 휘발유라고 했죠? 휘발유 값만 알아볼 것인데 이게 숫자가 아닌 object로 되어 있어서 숫자형으로 바꾸어줘야 계산이 가능하겠죠. 이를 후에 처리해줘야겠죠."
   ]
  },
  {
   "cell_type": "markdown",
   "metadata": {},
   "source": [
    "필요한 컬럼들만 추려서 stations에 담아볼게요. 중요한 것이 1) 상호 2) 주소 3) 휘발유 4) 셀프여부 5) 상호니까 이것들만 남겨보겠습니다."
   ]
  },
  {
   "cell_type": "code",
   "execution_count": null,
   "metadata": {},
   "outputs": [
    {
     "data": {
      "text/html": [
       "<div>\n",
       "<style scoped>\n",
       "    .dataframe tbody tr th:only-of-type {\n",
       "        vertical-align: middle;\n",
       "    }\n",
       "\n",
       "    .dataframe tbody tr th {\n",
       "        vertical-align: top;\n",
       "    }\n",
       "\n",
       "    .dataframe thead th {\n",
       "        text-align: right;\n",
       "    }\n",
       "</style>\n",
       "<table border=\"1\" class=\"dataframe\">\n",
       "  <thead>\n",
       "    <tr style=\"text-align: right;\">\n",
       "      <th></th>\n",
       "      <th>Oil_store</th>\n",
       "      <th>주소</th>\n",
       "      <th>가격</th>\n",
       "      <th>셀프</th>\n",
       "      <th>상표</th>\n",
       "    </tr>\n",
       "  </thead>\n",
       "  <tbody>\n",
       "    <tr>\n",
       "      <th>0</th>\n",
       "      <td>(주)자연에너지 햇살주유소</td>\n",
       "      <td>서울 도봉구 방학로 142 (방학동)</td>\n",
       "      <td>1665</td>\n",
       "      <td>Y</td>\n",
       "      <td>현대오일뱅크</td>\n",
       "    </tr>\n",
       "    <tr>\n",
       "      <th>1</th>\n",
       "      <td>도봉제일주유소(주)송만에너지</td>\n",
       "      <td>서울 도봉구 도봉로 783 (도봉동)</td>\n",
       "      <td>1669</td>\n",
       "      <td>N</td>\n",
       "      <td>현대오일뱅크</td>\n",
       "    </tr>\n",
       "    <tr>\n",
       "      <th>2</th>\n",
       "      <td>삼미북부셀프주유소</td>\n",
       "      <td>서울 도봉구 도봉로 437 (쌍문동)</td>\n",
       "      <td>1671</td>\n",
       "      <td>Y</td>\n",
       "      <td>SK에너지</td>\n",
       "    </tr>\n",
       "    <tr>\n",
       "      <th>3</th>\n",
       "      <td>현대오일뱅크㈜직영 도봉현대셀프주유소</td>\n",
       "      <td>서울 도봉구 도봉로 941 (도봉동)</td>\n",
       "      <td>1695</td>\n",
       "      <td>Y</td>\n",
       "      <td>현대오일뱅크</td>\n",
       "    </tr>\n",
       "    <tr>\n",
       "      <th>4</th>\n",
       "      <td>(주)헨지스에너지 구도일주유소 도봉</td>\n",
       "      <td>서울 도봉구 도봉로 706 (방학동)</td>\n",
       "      <td>1695</td>\n",
       "      <td>Y</td>\n",
       "      <td>S-OIL</td>\n",
       "    </tr>\n",
       "  </tbody>\n",
       "</table>\n",
       "</div>"
      ],
      "text/plain": [
       "             Oil_store                    주소    가격 셀프      상표\n",
       "0       (주)자연에너지 햇살주유소  서울 도봉구 방학로 142 (방학동)  1665  Y  현대오일뱅크\n",
       "1      도봉제일주유소(주)송만에너지  서울 도봉구 도봉로 783 (도봉동)  1669  N  현대오일뱅크\n",
       "2            삼미북부셀프주유소  서울 도봉구 도봉로 437 (쌍문동)  1671  Y   SK에너지\n",
       "3  현대오일뱅크㈜직영 도봉현대셀프주유소  서울 도봉구 도봉로 941 (도봉동)  1695  Y  현대오일뱅크\n",
       "4  (주)헨지스에너지 구도일주유소 도봉  서울 도봉구 도봉로 706 (방학동)  1695  Y   S-OIL"
      ]
     },
     "metadata": {},
     "output_type": "display_data"
    }
   ],
   "source": [
    "stations = pd.DataFrame({'Oil_store':station_raw['상호'],\n",
    "                        '주소':station_raw['주소'],\n",
    "                        '가격':station_raw['휘발유'],\n",
    "                        '셀프':station_raw['셀프여부'],\n",
    "                        '상표':station_raw['상표']})\n",
    "stations.head()"
   ]
  },
  {
   "cell_type": "markdown",
   "metadata": {},
   "source": [
    "#### 데이터 가공하기"
   ]
  },
  {
   "cell_type": "markdown",
   "metadata": {},
   "source": [
    "이제는 주소에서 구만 뽑아서 저장해줘야겠죠. 주소에서 구만 가져올 거에요. split을 사용해 쉽게 가져오면 됩니다. 새로운 컬럼 구에다 담아주었어요."
   ]
  },
  {
   "cell_type": "code",
   "execution_count": null,
   "metadata": {},
   "outputs": [
    {
     "data": {
      "text/html": [
       "<div>\n",
       "<style scoped>\n",
       "    .dataframe tbody tr th:only-of-type {\n",
       "        vertical-align: middle;\n",
       "    }\n",
       "\n",
       "    .dataframe tbody tr th {\n",
       "        vertical-align: top;\n",
       "    }\n",
       "\n",
       "    .dataframe thead th {\n",
       "        text-align: right;\n",
       "    }\n",
       "</style>\n",
       "<table border=\"1\" class=\"dataframe\">\n",
       "  <thead>\n",
       "    <tr style=\"text-align: right;\">\n",
       "      <th></th>\n",
       "      <th>Oil_store</th>\n",
       "      <th>주소</th>\n",
       "      <th>가격</th>\n",
       "      <th>셀프</th>\n",
       "      <th>상표</th>\n",
       "      <th>구</th>\n",
       "    </tr>\n",
       "  </thead>\n",
       "  <tbody>\n",
       "    <tr>\n",
       "      <th>0</th>\n",
       "      <td>(주)자연에너지 햇살주유소</td>\n",
       "      <td>서울 도봉구 방학로 142 (방학동)</td>\n",
       "      <td>1665</td>\n",
       "      <td>Y</td>\n",
       "      <td>현대오일뱅크</td>\n",
       "      <td>도봉구</td>\n",
       "    </tr>\n",
       "    <tr>\n",
       "      <th>1</th>\n",
       "      <td>도봉제일주유소(주)송만에너지</td>\n",
       "      <td>서울 도봉구 도봉로 783 (도봉동)</td>\n",
       "      <td>1669</td>\n",
       "      <td>N</td>\n",
       "      <td>현대오일뱅크</td>\n",
       "      <td>도봉구</td>\n",
       "    </tr>\n",
       "    <tr>\n",
       "      <th>2</th>\n",
       "      <td>삼미북부셀프주유소</td>\n",
       "      <td>서울 도봉구 도봉로 437 (쌍문동)</td>\n",
       "      <td>1671</td>\n",
       "      <td>Y</td>\n",
       "      <td>SK에너지</td>\n",
       "      <td>도봉구</td>\n",
       "    </tr>\n",
       "    <tr>\n",
       "      <th>3</th>\n",
       "      <td>현대오일뱅크㈜직영 도봉현대셀프주유소</td>\n",
       "      <td>서울 도봉구 도봉로 941 (도봉동)</td>\n",
       "      <td>1695</td>\n",
       "      <td>Y</td>\n",
       "      <td>현대오일뱅크</td>\n",
       "      <td>도봉구</td>\n",
       "    </tr>\n",
       "    <tr>\n",
       "      <th>4</th>\n",
       "      <td>(주)헨지스에너지 구도일주유소 도봉</td>\n",
       "      <td>서울 도봉구 도봉로 706 (방학동)</td>\n",
       "      <td>1695</td>\n",
       "      <td>Y</td>\n",
       "      <td>S-OIL</td>\n",
       "      <td>도봉구</td>\n",
       "    </tr>\n",
       "  </tbody>\n",
       "</table>\n",
       "</div>"
      ],
      "text/plain": [
       "             Oil_store                    주소    가격 셀프      상표    구\n",
       "0       (주)자연에너지 햇살주유소  서울 도봉구 방학로 142 (방학동)  1665  Y  현대오일뱅크  도봉구\n",
       "1      도봉제일주유소(주)송만에너지  서울 도봉구 도봉로 783 (도봉동)  1669  N  현대오일뱅크  도봉구\n",
       "2            삼미북부셀프주유소  서울 도봉구 도봉로 437 (쌍문동)  1671  Y   SK에너지  도봉구\n",
       "3  현대오일뱅크㈜직영 도봉현대셀프주유소  서울 도봉구 도봉로 941 (도봉동)  1695  Y  현대오일뱅크  도봉구\n",
       "4  (주)헨지스에너지 구도일주유소 도봉  서울 도봉구 도봉로 706 (방학동)  1695  Y   S-OIL  도봉구"
      ]
     },
     "metadata": {},
     "output_type": "display_data"
    }
   ],
   "source": [
    "stations['구'] = [eachAddress.split()[1] for eachAddress in stations['주소']]\n",
    "stations.head()"
   ]
  },
  {
   "cell_type": "markdown",
   "metadata": {},
   "source": [
    "25개의 구가 모두 잘 추출되었는지 확인하기 위해서는 아래와 같이 unique()를 통해 확인할 수 있습니다."
   ]
  },
  {
   "cell_type": "code",
   "execution_count": null,
   "metadata": {},
   "outputs": [
    {
     "data": {
      "text/plain": [
       "array(['도봉구', '마포구', '광진구', '중랑구', '관악구', '서대문구', '노원구', '강서구', '양천구',\n",
       "       '종로구', '서초구', '성동구', '중구', '영등포구', '강북구', '용산구', '강동구', '성북구',\n",
       "       '송파구', '은평구', '동대문구', '강남구', '금천구', '구로구', '동작구'], dtype=object)"
      ]
     },
     "metadata": {},
     "output_type": "display_data"
    }
   ],
   "source": [
    "stations['구'].unique()"
   ]
  },
  {
   "cell_type": "markdown",
   "metadata": {},
   "source": [
    "이상하게 추출된 구도 없고, 대충 다 담긴 것 같은데, 총 25개인지 확인해보는게 좋을 것 같네요."
   ]
  },
  {
   "cell_type": "code",
   "execution_count": null,
   "metadata": {},
   "outputs": [
    {
     "data": {
      "text/plain": [
       "25"
      ]
     },
     "metadata": {},
     "output_type": "display_data"
    }
   ],
   "source": [
    "len(stations['구'].unique())"
   ]
  },
  {
   "cell_type": "markdown",
   "metadata": {},
   "source": [
    "그 다음엔 가격들을 전반적으로 살펴보도록 할게요. false 밖에 없다는 말은 결측값이 없다는 말인데, 결측값이 없다고 다 된걸까요?"
   ]
  },
  {
   "cell_type": "code",
   "execution_count": null,
   "metadata": {},
   "outputs": [
    {
     "data": {
      "text/plain": [
       "False    471\n",
       "Name: 가격, dtype: int64"
      ]
     },
     "metadata": {},
     "output_type": "display_data"
    }
   ],
   "source": [
    "stations['가격'].isnull().value_counts()"
   ]
  },
  {
   "cell_type": "code",
   "execution_count": null,
   "metadata": {},
   "outputs": [
    {
     "data": {
      "text/plain": [
       "array([1665, 1669, 1671, 1695, 1698, 1705, 1709, 1712, 1715, 1716, 1723,\n",
       "       1742, 1745, 1749, 1773, 1727, 1729, 1737, 1768, 1769, 1789, 1799,\n",
       "       1919, 1989, '1699', '1709', '1715', '1719', '1724', '1727', '1739',\n",
       "       '1749', '1767', '1795', '1798', '-', 1697, 1708, 1710, 1735, 1738,\n",
       "       1758, 1718, 1719, 1759, 1823, 1824, 1859, 1680, 1707, 1713, 1717,\n",
       "       1733, 1748, 1688, 1725, 1765, 1820, 1880, 1888, 1678, 1685, 1689,\n",
       "       1699, 1703, 1736, 1740, 1747, 1756, 1760, 1775, 1779, 1785, 1795,\n",
       "       1798, 1828, 1953, 2029, 1663, 1679, 1694, 1696, 1751, 1778, 1829,\n",
       "       1927, 2098, 2190, 2198, 2215, 1659, 1734, 1767, 1771, 1781, 1788,\n",
       "       1838, 1841, 1843, 1898, 1929, 1995, 1997, 2058, 2277, 1711, 1728,\n",
       "       1797, 1808, 1819, 1840, 1947, 1998, 2032, '1765', '1818', '1917',\n",
       "       '2038', '2098', '2196', '2354', '2389', '2571', '1678', '1687',\n",
       "       '1688', '1694', '1697', '1698', '1717', '1718', '1735', '1738',\n",
       "       '1755', '1759', '1775', '1897', '1945', '2090', '2095', 1681, 1693,\n",
       "       1704, 1987, 2030, 2096, 2097, 2099, 2159, 2290, 2570, 1743, 1783,\n",
       "       1790, 1792, 1793, 1864, 1878, 1948, 1675, 1684, 1753, 1817, 1755,\n",
       "       1794, 1958, '1703', '1704', '1708', '1725', '1728', '1729', '1733',\n",
       "       '1737', '1778', 1757, 1890, '1754', '1769', '1772', '1790', '1799',\n",
       "       '1812', '1816', '1827', '1868', '1928', '1934', '1984', '1998',\n",
       "       '2028', '2059', '2073', '2096', '2109', '2169', '2183', '2214',\n",
       "       '2288', '2295', 1714, 1739, 1774, 1706, 1754, 1875], dtype=object)"
      ]
     },
     "metadata": {},
     "output_type": "display_data"
    }
   ],
   "source": [
    "stations['가격'].unique()"
   ]
  },
  {
   "cell_type": "markdown",
   "metadata": {},
   "source": [
    "중간에 '-'가 보이시죠? '-'로 가격정보가 없는 것을 저렇게 표시해놨네요. 어떤 행이 가격 정보가 없는 것인지 불린 인덱싱을 사용해서 알아볼게요."
   ]
  },
  {
   "cell_type": "code",
   "execution_count": null,
   "metadata": {},
   "outputs": [
    {
     "data": {
      "text/html": [
       "<div>\n",
       "<style scoped>\n",
       "    .dataframe tbody tr th:only-of-type {\n",
       "        vertical-align: middle;\n",
       "    }\n",
       "\n",
       "    .dataframe tbody tr th {\n",
       "        vertical-align: top;\n",
       "    }\n",
       "\n",
       "    .dataframe thead th {\n",
       "        text-align: right;\n",
       "    }\n",
       "</style>\n",
       "<table border=\"1\" class=\"dataframe\">\n",
       "  <thead>\n",
       "    <tr style=\"text-align: right;\">\n",
       "      <th></th>\n",
       "      <th>Oil_store</th>\n",
       "      <th>주소</th>\n",
       "      <th>가격</th>\n",
       "      <th>셀프</th>\n",
       "      <th>상표</th>\n",
       "      <th>구</th>\n",
       "    </tr>\n",
       "  </thead>\n",
       "  <tbody>\n",
       "    <tr>\n",
       "      <th>15</th>\n",
       "      <td>구의스타주유소</td>\n",
       "      <td>서울 광진구 자양로 103</td>\n",
       "      <td>-</td>\n",
       "      <td>N</td>\n",
       "      <td>GS칼텍스</td>\n",
       "      <td>광진구</td>\n",
       "    </tr>\n",
       "    <tr>\n",
       "      <th>10</th>\n",
       "      <td>지에스칼텍스(주)직영 역전점</td>\n",
       "      <td>서울 중구 퇴계로 15</td>\n",
       "      <td>-</td>\n",
       "      <td>N</td>\n",
       "      <td>GS칼텍스</td>\n",
       "      <td>중구</td>\n",
       "    </tr>\n",
       "    <tr>\n",
       "      <th>27</th>\n",
       "      <td>지에스칼텍스㈜ 화일주유소</td>\n",
       "      <td>서울 영등포구 도림로 415</td>\n",
       "      <td>-</td>\n",
       "      <td>Y</td>\n",
       "      <td>GS칼텍스</td>\n",
       "      <td>영등포구</td>\n",
       "    </tr>\n",
       "    <tr>\n",
       "      <th>16</th>\n",
       "      <td>삼융주유소</td>\n",
       "      <td>서울 은평구 수색로 299 (수색동)</td>\n",
       "      <td>-</td>\n",
       "      <td>N</td>\n",
       "      <td>SK에너지</td>\n",
       "      <td>은평구</td>\n",
       "    </tr>\n",
       "    <tr>\n",
       "      <th>34</th>\n",
       "      <td>삼성주유소</td>\n",
       "      <td>서울 강남구 삼성로 521 (삼성동)</td>\n",
       "      <td>-</td>\n",
       "      <td>N</td>\n",
       "      <td>SK에너지</td>\n",
       "      <td>강남구</td>\n",
       "    </tr>\n",
       "    <tr>\n",
       "      <th>35</th>\n",
       "      <td>동우주유소</td>\n",
       "      <td>서울특별시 강남구  봉은사로 311 (논현동)</td>\n",
       "      <td>-</td>\n",
       "      <td>N</td>\n",
       "      <td>SK에너지</td>\n",
       "      <td>강남구</td>\n",
       "    </tr>\n",
       "    <tr>\n",
       "      <th>36</th>\n",
       "      <td>경원주유소</td>\n",
       "      <td>서울 강남구 도산대로 428 (청담동)</td>\n",
       "      <td>-</td>\n",
       "      <td>N</td>\n",
       "      <td>S-OIL</td>\n",
       "      <td>강남구</td>\n",
       "    </tr>\n",
       "  </tbody>\n",
       "</table>\n",
       "</div>"
      ],
      "text/plain": [
       "          Oil_store                         주소 가격 셀프     상표     구\n",
       "15          구의스타주유소             서울 광진구 자양로 103  -  N  GS칼텍스   광진구\n",
       "10  지에스칼텍스(주)직영 역전점               서울 중구 퇴계로 15  -  N  GS칼텍스    중구\n",
       "27    지에스칼텍스㈜ 화일주유소            서울 영등포구 도림로 415  -  Y  GS칼텍스  영등포구\n",
       "16            삼융주유소       서울 은평구 수색로 299 (수색동)  -  N  SK에너지   은평구\n",
       "34            삼성주유소       서울 강남구 삼성로 521 (삼성동)  -  N  SK에너지   강남구\n",
       "35            동우주유소  서울특별시 강남구  봉은사로 311 (논현동)  -  N  SK에너지   강남구\n",
       "36            경원주유소      서울 강남구 도산대로 428 (청담동)  -  N  S-OIL   강남구"
      ]
     },
     "metadata": {},
     "output_type": "display_data"
    }
   ],
   "source": [
    "stations[stations['가격'] == '-']"
   ]
  },
  {
   "cell_type": "markdown",
   "metadata": {},
   "source": [
    "총 7개의 주유소에서 가격이 없군요. 이 row를 없애도록 하겠습니다."
   ]
  },
  {
   "cell_type": "code",
   "execution_count": null,
   "metadata": {},
   "outputs": [
    {
     "data": {
      "text/html": [
       "<div>\n",
       "<style scoped>\n",
       "    .dataframe tbody tr th:only-of-type {\n",
       "        vertical-align: middle;\n",
       "    }\n",
       "\n",
       "    .dataframe tbody tr th {\n",
       "        vertical-align: top;\n",
       "    }\n",
       "\n",
       "    .dataframe thead th {\n",
       "        text-align: right;\n",
       "    }\n",
       "</style>\n",
       "<table border=\"1\" class=\"dataframe\">\n",
       "  <thead>\n",
       "    <tr style=\"text-align: right;\">\n",
       "      <th></th>\n",
       "      <th>Oil_store</th>\n",
       "      <th>주소</th>\n",
       "      <th>가격</th>\n",
       "      <th>셀프</th>\n",
       "      <th>상표</th>\n",
       "      <th>구</th>\n",
       "    </tr>\n",
       "  </thead>\n",
       "  <tbody>\n",
       "  </tbody>\n",
       "</table>\n",
       "</div>"
      ],
      "text/plain": [
       "Empty DataFrame\n",
       "Columns: [Oil_store, 주소, 가격, 셀프, 상표, 구]\n",
       "Index: []"
      ]
     },
     "metadata": {},
     "output_type": "display_data"
    }
   ],
   "source": [
    "stations = stations[stations['가격'] != '-']\n",
    "stations[stations['가격'] == '-']"
   ]
  },
  {
   "cell_type": "markdown",
   "metadata": {},
   "source": [
    "잘 지워졌네요."
   ]
  },
  {
   "cell_type": "code",
   "execution_count": null,
   "metadata": {},
   "outputs": [
    {
     "name": "stdout",
     "output_type": "stream",
     "text": [
      "<class 'pandas.core.frame.DataFrame'>\n",
      "Int64Index: 464 entries, 0 to 9\n",
      "Data columns (total 6 columns):\n",
      " #   Column     Non-Null Count  Dtype \n",
      "---  ------     --------------  ----- \n",
      " 0   Oil_store  464 non-null    object\n",
      " 1   주소         464 non-null    object\n",
      " 2   가격         464 non-null    object\n",
      " 3   셀프         464 non-null    object\n",
      " 4   상표         464 non-null    object\n",
      " 5   구          464 non-null    object\n",
      "dtypes: object(6)\n",
      "memory usage: 25.4+ KB\n"
     ]
    }
   ],
   "source": [
    "stations.info()"
   ]
  },
  {
   "cell_type": "markdown",
   "metadata": {},
   "source": [
    "가격이 아직도 숫자가 아닌 object니 수정해보도록 하겠습니다."
   ]
  },
  {
   "cell_type": "code",
   "execution_count": null,
   "metadata": {},
   "outputs": [
    {
     "name": "stdout",
     "output_type": "stream",
     "text": [
      "<class 'pandas.core.frame.DataFrame'>\n",
      "Int64Index: 464 entries, 0 to 9\n",
      "Data columns (total 6 columns):\n",
      " #   Column     Non-Null Count  Dtype  \n",
      "---  ------     --------------  -----  \n",
      " 0   Oil_store  464 non-null    object \n",
      " 1   주소         464 non-null    object \n",
      " 2   가격         464 non-null    float64\n",
      " 3   셀프         464 non-null    object \n",
      " 4   상표         464 non-null    object \n",
      " 5   구          464 non-null    object \n",
      "dtypes: float64(1), object(5)\n",
      "memory usage: 25.4+ KB\n"
     ]
    }
   ],
   "source": [
    "stations['가격'] = stations['가격'].astype('float')\n",
    "stations.info()"
   ]
  },
  {
   "cell_type": "markdown",
   "metadata": {},
   "source": [
    "잘 변경 됐네요! 이 정도로 데이터를 가공하면 된 것 같습니다."
   ]
  },
  {
   "cell_type": "code",
   "execution_count": null,
   "metadata": {},
   "outputs": [],
   "source": []
  }
 ],
 "metadata": {
  "language_info": {
   "name": "python"
  },
  "orig_nbformat": 4
 },
 "nbformat": 4,
 "nbformat_minor": 2
}
