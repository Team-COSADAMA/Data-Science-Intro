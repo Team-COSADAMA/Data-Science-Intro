{
 "cells": [
  {
   "cell_type": "markdown",
   "metadata": {},
   "source": [
    "### 접근한 웹 페이지에서 원하는 데이터 추출, 정리하기"
   ]
  },
  {
   "cell_type": "markdown",
   "metadata": {},
   "source": [
    "데이터를 가져와 dataframe에 넣어보겠습니다. div의 sammy에서 각각의 정보들을 정확히 꺼내어보죠.\n",
    "\n"
   ]
  },
  {
   "cell_type": "code",
   "execution_count": null,
   "metadata": {},
   "outputs": [
    {
     "data": {
      "text/plain": [
       "bs4.element.Tag"
      ]
     },
     "metadata": {},
     "output_type": "display_data"
    }
   ],
   "source": [
    "tmp_one = soup.find_all('div', 'sammy')[0]\n",
    "type(tmp_one)"
   ]
  },
  {
   "cell_type": "code",
   "execution_count": null,
   "metadata": {},
   "outputs": [
    {
     "data": {
      "text/plain": [
       "<div class=\"sammy\" style=\"position: relative;\">\n",
       "<div class=\"sammyRank\">1</div>\n",
       "<div class=\"sammyListing\"><a href=\"/Chicago-Magazine/November-2012/Best-Sandwiches-in-Chicago-Old-Oak-Tap-BLT/\"><b>BLT</b><br/>\n",
       "Old Oak Tap<br/>\n",
       "<em>Read more</em> </a></div>\n",
       "</div>"
      ]
     },
     "metadata": {},
     "output_type": "display_data"
    }
   ],
   "source": [
    "tmp_one"
   ]
  },
  {
   "cell_type": "markdown",
   "metadata": {},
   "source": [
    "첫번째만 가져와서 생각해보면, type이 tag이기 때문에 여기에도 바로 find를 사용할 수 있어요. 여기에 링크가 들어있는 class를 크롬 개발자 도구로 보니 'sammyRank'에요. 가져와서 제대로 뽑아 봤나 볼게요."
   ]
  },
  {
   "cell_type": "code",
   "execution_count": null,
   "metadata": {},
   "outputs": [
    {
     "data": {
      "text/plain": [
       "<div class=\"sammyRank\">1</div>"
      ]
     },
     "metadata": {},
     "output_type": "display_data"
    }
   ],
   "source": [
    "tmp_one.find(class_='sammyRank')\n"
   ]
  },
  {
   "cell_type": "markdown",
   "metadata": {},
   "source": [
    "그럼 안에 있는 정보만 가져와볼게요."
   ]
  },
  {
   "cell_type": "code",
   "execution_count": null,
   "metadata": {},
   "outputs": [
    {
     "data": {
      "text/plain": [
       "'1'"
      ]
     },
     "metadata": {},
     "output_type": "display_data"
    }
   ],
   "source": [
    "tmp_one.find(class_='sammyRank').get_text() # .string도 가능"
   ]
  },
  {
   "cell_type": "markdown",
   "metadata": {},
   "source": [
    "그 다음으로는 메뉴 이름과 가게 이름을 얻어볼게요. 클라스 이름이 'sammyListing'이네요. (크롬 개발자 도구로 반드시 태그를 확인해보세요!)"
   ]
  },
  {
   "cell_type": "code",
   "execution_count": null,
   "metadata": {},
   "outputs": [
    {
     "data": {
      "text/plain": [
       "'BLT\\nOld Oak Tap\\nRead more '"
      ]
     },
     "metadata": {},
     "output_type": "display_data"
    }
   ],
   "source": [
    "tmp_one.find(class_='sammyListing').get_text()"
   ]
  },
  {
   "cell_type": "markdown",
   "metadata": {},
   "source": [
    "엇, 나오긴 나왔는데 우리가 의도한대로 나오지 않았네요, 아주 조금 있다가 보기로 해요. 지금은 그 다음 url 주소를 확인해봅시다. 아래를 보면, 이건 get_text로 얻을 수 있는게 아니라 a 태그의 href에 들어있어요.\n",
    "그러니까 get_text가 아니라 a 속의 href를 추출하면 바로 url 주소를 얻을 수 있겠죠?"
   ]
  },
  {
   "cell_type": "code",
   "execution_count": null,
   "metadata": {},
   "outputs": [
    {
     "data": {
      "text/plain": [
       "<div class=\"sammy\" style=\"position: relative;\">\n",
       "<div class=\"sammyRank\">1</div>\n",
       "<div class=\"sammyListing\"><a href=\"/Chicago-Magazine/November-2012/Best-Sandwiches-in-Chicago-Old-Oak-Tap-BLT/\"><b>BLT</b><br/>\n",
       "Old Oak Tap<br/>\n",
       "<em>Read more</em> </a></div>\n",
       "</div>"
      ]
     },
     "metadata": {},
     "output_type": "display_data"
    }
   ],
   "source": [
    "tmp_one\n"
   ]
  },
  {
   "cell_type": "markdown",
   "metadata": {},
   "source": [
    "뭔가 이상하게 바로 url이 구해지는 게 아니라 다른 게 나왔죠? \n",
    "그래서 가져올 때는 이렇게 아래와 같이 가져와야 합니다."
   ]
  },
  {
   "cell_type": "code",
   "execution_count": null,
   "metadata": {},
   "outputs": [
    {
     "data": {
      "text/plain": [
       "'/Chicago-Magazine/November-2012/Best-Sandwiches-in-Chicago-Old-Oak-Tap-BLT/'"
      ]
     },
     "metadata": {},
     "output_type": "display_data"
    }
   ],
   "source": [
    "tmp_one.find('a')['href']"
   ]
  },
  {
   "cell_type": "markdown",
   "metadata": {},
   "source": [
    "앗, 그런데 주소가 끊겨서 나왔네요. 앞 부분의 주소( https://www.chicagomag.com)가 생략되어 있죠?\n",
    "이렇게 적혀있는 부분들을 '상대주소'라고 해요. 상대주소와 달리 주소가 모두 적혀져 있어 사이트로 바로 연결되는 주소를 '절대주소'라고 하구요.\n",
    "나중에 상대주소를 절대주소로 바꾸어주는 작업이 필요하겠네요!"
   ]
  },
  {
   "cell_type": "markdown",
   "metadata": {},
   "source": [
    "다시 돌아가, 아까 제대로 샌드위치 이름과 가게 이름을 구해 봅시다.\n",
    "\n"
   ]
  },
  {
   "cell_type": "code",
   "execution_count": null,
   "metadata": {},
   "outputs": [
    {
     "data": {
      "text/plain": [
       "'BLT\\nOld Oak Tap\\nRead more '"
      ]
     },
     "metadata": {},
     "output_type": "display_data"
    }
   ],
   "source": [
    "tmp_one.find(class_='sammyListing').get_text()"
   ]
  },
  {
   "cell_type": "markdown",
   "metadata": {},
   "source": [
    "### 정규 표현식 활용해 데이터 가공하기\n"
   ]
  },
  {
   "cell_type": "markdown",
   "metadata": {},
   "source": [
    "구조를 보면 맨 앞에가 샌드위치 이름, 중간이 샌드위치 가게 이름이네요. 이를 분리하기 위해서 우리는 지난 시간에 배운 '정규 표현식'을 활용해 볼 겁니다."
   ]
  },
  {
   "cell_type": "code",
   "execution_count": null,
   "metadata": {},
   "outputs": [
    {
     "data": {
      "text/plain": [
       "['BLT', 'Old Oak Tap', 'Read more ']"
      ]
     },
     "metadata": {},
     "output_type": "display_data"
    }
   ],
   "source": [
    "import re \n",
    "\n",
    "tmp_string = tmp_one.find(class_='sammyListing').get_text()\n",
    "\n",
    "re.split('\\r\\n|\\n', tmp_string)"
   ]
  },
  {
   "cell_type": "markdown",
   "metadata": {},
   "source": [
    "정규표현식이 기억나지 않는다면, 다시 돌아가 봐야겠죠? \\r\\n과 \\n 둘 중 하나라도 있으면 split 해줘라 라고 명령을 해줬습니다. 잘 분리를 해줬네요ㅎㅎ 리스트로 담겨져 있으니까 아래와 같이 샌드위치 이름과 가게 이름을 분리하면 됩니다."
   ]
  },
  {
   "cell_type": "code",
   "execution_count": null,
   "metadata": {},
   "outputs": [
    {
     "data": {
      "text/plain": [
       "'BLT'"
      ]
     },
     "metadata": {},
     "output_type": "display_data"
    }
   ],
   "source": [
    "# 샌드위치 이름\n",
    "re.split('\\r\\n|\\n', tmp_string)[0]"
   ]
  },
  {
   "cell_type": "code",
   "execution_count": null,
   "metadata": {},
   "outputs": [
    {
     "data": {
      "text/plain": [
       "'Old Oak Tap'"
      ]
     },
     "metadata": {},
     "output_type": "display_data"
    }
   ],
   "source": [
    "# 샌드위치 가게 이름\n",
    "re.split('\\r\\n|\\n', tmp_string)[1]"
   ]
  }
 ],
 "metadata": {
  "language_info": {
   "name": "python"
  },
  "orig_nbformat": 4
 },
 "nbformat": 4,
 "nbformat_minor": 2
}
